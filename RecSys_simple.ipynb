{
  "nbformat": 4,
  "nbformat_minor": 0,
  "metadata": {
    "colab": {
      "provenance": [],
      "include_colab_link": true
    },
    "kernelspec": {
      "name": "python3",
      "display_name": "Python 3"
    }
  },
  "cells": [
    {
      "cell_type": "markdown",
      "metadata": {
        "id": "view-in-github",
        "colab_type": "text"
      },
      "source": [
        "<a href=\"https://colab.research.google.com/github/martinmwarangu/Pyspark_Msc/blob/main/RecSys_simple.ipynb\" target=\"_parent\"><img src=\"https://colab.research.google.com/assets/colab-badge.svg\" alt=\"Open In Colab\"/></a>"
      ]
    },
    {
      "cell_type": "code",
      "metadata": {
        "colab": {
          "base_uri": "https://localhost:8080/"
        },
        "id": "jX_wzRmxcnDm",
        "outputId": "cfb4dbaf-1d6b-436f-c15a-81cff247637a"
      },
      "source": [
        "#################################################################################\n",
        "# In this program, we shall be developing a movie Rec System\n",
        "#################################################################################\n",
        "\n",
        "\n",
        "!pip install pyspark\n"
      ],
      "execution_count": 1,
      "outputs": [
        {
          "output_type": "stream",
          "name": "stdout",
          "text": [
            "Collecting pyspark\n",
            "  Downloading pyspark-3.5.1.tar.gz (317.0 MB)\n",
            "\u001b[2K     \u001b[90m━━━━━━━━━━━━━━━━━━━━━━━━━━━━━━━━━━━━━━━━\u001b[0m \u001b[32m317.0/317.0 MB\u001b[0m \u001b[31m3.9 MB/s\u001b[0m eta \u001b[36m0:00:00\u001b[0m\n",
            "\u001b[?25h  Preparing metadata (setup.py) ... \u001b[?25l\u001b[?25hdone\n",
            "Requirement already satisfied: py4j==0.10.9.7 in /usr/local/lib/python3.10/dist-packages (from pyspark) (0.10.9.7)\n",
            "Building wheels for collected packages: pyspark\n",
            "  Building wheel for pyspark (setup.py) ... \u001b[?25l\u001b[?25hdone\n",
            "  Created wheel for pyspark: filename=pyspark-3.5.1-py2.py3-none-any.whl size=317488490 sha256=adc9b88de7f0b5514bdc1f726f116bdb42719571e19120ab63dc609102d02bdf\n",
            "  Stored in directory: /root/.cache/pip/wheels/80/1d/60/2c256ed38dddce2fdd93be545214a63e02fbd8d74fb0b7f3a6\n",
            "Successfully built pyspark\n",
            "Installing collected packages: pyspark\n",
            "Successfully installed pyspark-3.5.1\n"
          ]
        }
      ]
    },
    {
      "cell_type": "code",
      "metadata": {
        "id": "n2STHHRHOE9K"
      },
      "source": [],
      "execution_count": null,
      "outputs": []
    },
    {
      "cell_type": "code",
      "metadata": {
        "id": "gDjiITKMc9OO"
      },
      "source": [
        "import os\n",
        "\n",
        "from pyspark.sql import SparkSession\n",
        "\n",
        "spark = SparkSession \\\n",
        "    .builder \\\n",
        "    .appName(\"Rec System\") \\\n",
        "    .config(\"spark.some.config.option\", \"some-value\") \\\n",
        "    .getOrCreate()"
      ],
      "execution_count": 2,
      "outputs": []
    },
    {
      "cell_type": "code",
      "metadata": {
        "colab": {
          "base_uri": "https://localhost:8080/"
        },
        "id": "DEG3njD4dADJ",
        "outputId": "22c0e644-da30-4ad7-f7a4-6e16661cb33a"
      },
      "source": [
        "from google.colab import drive\n",
        "drive.mount('/content/drive')"
      ],
      "execution_count": 3,
      "outputs": [
        {
          "output_type": "stream",
          "name": "stdout",
          "text": [
            "Mounted at /content/drive\n"
          ]
        }
      ]
    },
    {
      "cell_type": "code",
      "metadata": {
        "id": "QqzSm2XZdHrA"
      },
      "source": [
        "movies = spark.read.csv(\"/content/drive/MyDrive/Rec System in Spark/movies.csv\",header=True)\n",
        "ratings = spark.read.csv(\"/content/drive/MyDrive/Rec System in Spark/ratings.csv\",header=True)"
      ],
      "execution_count": 4,
      "outputs": []
    },
    {
      "cell_type": "code",
      "metadata": {
        "colab": {
          "base_uri": "https://localhost:8080/"
        },
        "id": "sLTFPTgKdmLF",
        "outputId": "eb797250-fc83-44f0-d3f8-731d654f140b"
      },
      "source": [
        "ratings.show()\n"
      ],
      "execution_count": 5,
      "outputs": [
        {
          "output_type": "stream",
          "name": "stdout",
          "text": [
            "+------+-------+------+---------+\n",
            "|userId|movieId|rating|timestamp|\n",
            "+------+-------+------+---------+\n",
            "|     1|      1|   4.0|964982703|\n",
            "|     1|      3|   4.0|964981247|\n",
            "|     1|      6|   4.0|964982224|\n",
            "|     1|     47|   5.0|964983815|\n",
            "|     1|     50|   5.0|964982931|\n",
            "|     1|     70|   3.0|964982400|\n",
            "|     1|    101|   5.0|964980868|\n",
            "|     1|    110|   4.0|964982176|\n",
            "|     1|    151|   5.0|964984041|\n",
            "|     1|    157|   5.0|964984100|\n",
            "|     1|    163|   5.0|964983650|\n",
            "|     1|    216|   5.0|964981208|\n",
            "|     1|    223|   3.0|964980985|\n",
            "|     1|    231|   5.0|964981179|\n",
            "|     1|    235|   4.0|964980908|\n",
            "|     1|    260|   5.0|964981680|\n",
            "|     1|    296|   3.0|964982967|\n",
            "|     1|    316|   3.0|964982310|\n",
            "|     1|    333|   5.0|964981179|\n",
            "|     1|    349|   4.0|964982563|\n",
            "+------+-------+------+---------+\n",
            "only showing top 20 rows\n",
            "\n"
          ]
        }
      ]
    },
    {
      "cell_type": "code",
      "metadata": {
        "colab": {
          "base_uri": "https://localhost:8080/"
        },
        "id": "ULBZg1ThdqnB",
        "outputId": "de1d4582-f758-4425-ff59-2959bf118753"
      },
      "source": [
        "\n",
        "ratings.printSchema()"
      ],
      "execution_count": 6,
      "outputs": [
        {
          "output_type": "stream",
          "name": "stdout",
          "text": [
            "root\n",
            " |-- userId: string (nullable = true)\n",
            " |-- movieId: string (nullable = true)\n",
            " |-- rating: string (nullable = true)\n",
            " |-- timestamp: string (nullable = true)\n",
            "\n"
          ]
        }
      ]
    },
    {
      "cell_type": "code",
      "metadata": {
        "colab": {
          "base_uri": "https://localhost:8080/"
        },
        "id": "SAIK6_mkdxjE",
        "outputId": "1b8a7635-9ec1-4ead-cc65-0af541eabaf4"
      },
      "source": [
        "from pyspark.sql import functions as F\n",
        "\n",
        "ratings = ratings.\\\n",
        "    withColumn('userId', F.col('userId').cast('integer')).\\\n",
        "    withColumn('movieId', F.col('movieId').cast('integer')).\\\n",
        "    withColumn('rating', F.col('rating').cast('float')).\\\n",
        "    drop('timestamp')\n",
        "ratings.show()"
      ],
      "execution_count": 7,
      "outputs": [
        {
          "output_type": "stream",
          "name": "stdout",
          "text": [
            "+------+-------+------+\n",
            "|userId|movieId|rating|\n",
            "+------+-------+------+\n",
            "|     1|      1|   4.0|\n",
            "|     1|      3|   4.0|\n",
            "|     1|      6|   4.0|\n",
            "|     1|     47|   5.0|\n",
            "|     1|     50|   5.0|\n",
            "|     1|     70|   3.0|\n",
            "|     1|    101|   5.0|\n",
            "|     1|    110|   4.0|\n",
            "|     1|    151|   5.0|\n",
            "|     1|    157|   5.0|\n",
            "|     1|    163|   5.0|\n",
            "|     1|    216|   5.0|\n",
            "|     1|    223|   3.0|\n",
            "|     1|    231|   5.0|\n",
            "|     1|    235|   4.0|\n",
            "|     1|    260|   5.0|\n",
            "|     1|    296|   3.0|\n",
            "|     1|    316|   3.0|\n",
            "|     1|    333|   5.0|\n",
            "|     1|    349|   4.0|\n",
            "+------+-------+------+\n",
            "only showing top 20 rows\n",
            "\n"
          ]
        }
      ]
    },
    {
      "cell_type": "code",
      "metadata": {
        "colab": {
          "base_uri": "https://localhost:8080/"
        },
        "id": "hplKa6VegWkP",
        "outputId": "f566a76d-10b3-41e2-dcc1-2c1bd63c82ab"
      },
      "source": [
        "# Sparsity shows how sparse is the matrix, e.g. 99% sparsity shows that, 99% of the entries in the matrix are missing.\n",
        "# Count the total number of ratings in the dataset\n",
        "numerator = ratings.select(\"rating\").count()\n",
        "\n",
        "# Count the number of distinct userIds and distinct movieIds\n",
        "num_users = ratings.select(\"userId\").distinct().count()\n",
        "num_movies = ratings.select(\"movieId\").distinct().count()\n",
        "\n",
        "# Set the denominator equal to the number of users multiplied by the number of movies\n",
        "denominator = num_users * num_movies\n",
        "\n",
        "# Divide the numerator by the denominator\n",
        "sparsity = (1.0 - (numerator *1.0)/denominator)*100\n",
        "print(\"The ratings dataframe is \", \"%.2f\" % sparsity + \"% empty.\")"
      ],
      "execution_count": 8,
      "outputs": [
        {
          "output_type": "stream",
          "name": "stdout",
          "text": [
            "The ratings dataframe is  98.30% empty.\n"
          ]
        }
      ]
    },
    {
      "cell_type": "code",
      "metadata": {
        "colab": {
          "base_uri": "https://localhost:8080/"
        },
        "id": "spvf2NX2gmPh",
        "outputId": "d7c8fbe2-b727-4a8a-c0ba-f93a311c055f"
      },
      "source": [
        "# Group data by userId, count ratings\n",
        "userId_ratings = ratings.groupBy(\"userId\").count().orderBy('count', ascending=False)\n",
        "userId_ratings.show()"
      ],
      "execution_count": 9,
      "outputs": [
        {
          "output_type": "stream",
          "name": "stdout",
          "text": [
            "+------+-----+\n",
            "|userId|count|\n",
            "+------+-----+\n",
            "|   414| 2698|\n",
            "|   599| 2478|\n",
            "|   474| 2108|\n",
            "|   448| 1864|\n",
            "|   274| 1346|\n",
            "|   610| 1302|\n",
            "|    68| 1260|\n",
            "|   380| 1218|\n",
            "|   606| 1115|\n",
            "|   288| 1055|\n",
            "|   249| 1046|\n",
            "|   387| 1027|\n",
            "|   182|  977|\n",
            "|   307|  975|\n",
            "|   603|  943|\n",
            "|   298|  939|\n",
            "|   177|  904|\n",
            "|   318|  879|\n",
            "|   232|  862|\n",
            "|   480|  836|\n",
            "+------+-----+\n",
            "only showing top 20 rows\n",
            "\n"
          ]
        }
      ]
    },
    {
      "cell_type": "code",
      "metadata": {
        "colab": {
          "base_uri": "https://localhost:8080/"
        },
        "id": "D1I-iWfxgwFz",
        "outputId": "69625528-0206-462b-e84b-039260277bb3"
      },
      "source": [
        "\n",
        "# Group data by movieId, count ratings\n",
        "movieId_ratings = ratings.groupBy(\"movieId\").count().orderBy('count', ascending=False)\n",
        "movieId_ratings.show()"
      ],
      "execution_count": 10,
      "outputs": [
        {
          "output_type": "stream",
          "name": "stdout",
          "text": [
            "+-------+-----+\n",
            "|movieId|count|\n",
            "+-------+-----+\n",
            "|    356|  329|\n",
            "|    318|  317|\n",
            "|    296|  307|\n",
            "|    593|  279|\n",
            "|   2571|  278|\n",
            "|    260|  251|\n",
            "|    480|  238|\n",
            "|    110|  237|\n",
            "|    589|  224|\n",
            "|    527|  220|\n",
            "|   2959|  218|\n",
            "|      1|  215|\n",
            "|   1196|  211|\n",
            "|     50|  204|\n",
            "|   2858|  204|\n",
            "|     47|  203|\n",
            "|    780|  202|\n",
            "|    150|  201|\n",
            "|   1198|  200|\n",
            "|   4993|  198|\n",
            "+-------+-----+\n",
            "only showing top 20 rows\n",
            "\n"
          ]
        }
      ]
    },
    {
      "cell_type": "code",
      "metadata": {
        "id": "r2HMZ7c1g8WZ"
      },
      "source": [
        "##################################\n",
        "# ALS MODEL --- Alternative Least Square Method"
      ],
      "execution_count": null,
      "outputs": []
    },
    {
      "cell_type": "code",
      "metadata": {
        "id": "gCyVwKoUg-SD"
      },
      "source": [
        "\n",
        "# Import the required functions\n",
        "from pyspark.ml.evaluation import RegressionEvaluator\n",
        "from pyspark.ml.recommendation import ALS\n",
        "from pyspark.ml.tuning import ParamGridBuilder, CrossValidator"
      ],
      "execution_count": 11,
      "outputs": []
    },
    {
      "cell_type": "code",
      "metadata": {
        "colab": {
          "base_uri": "https://localhost:8080/"
        },
        "id": "fRkNmwjFhB5G",
        "outputId": "8cd9ce2b-1497-45cf-8f7c-c978a91b8b0b"
      },
      "source": [
        "# Split the ratings dataframe into training and test data\n",
        "(train, test) = ratings.randomSplit([0.8, 0.2], seed=42)\n",
        "\n",
        "# Set the ALS hyperparameters\n",
        "als = ALS(\n",
        "    userCol=\"userId\",\n",
        "    itemCol=\"movieId\",\n",
        "    ratingCol=\"rating\",\n",
        "    rank =10,\n",
        "    maxIter =10,\n",
        "    regParam =.1,\n",
        "    coldStartStrategy=\"drop\",\n",
        "    nonnegative =True,\n",
        "    implicitPrefs = False\n",
        ")\n",
        "\n",
        "# Fit the model to the training_data\n",
        "als_model = als.fit(train)\n",
        "\n",
        "# Generate predictions on the test_data\n",
        "test_predictions = als_model.transform(test)\n",
        "test_predictions.show()"
      ],
      "execution_count": 12,
      "outputs": [
        {
          "output_type": "stream",
          "name": "stdout",
          "text": [
            "+------+-------+------+----------+\n",
            "|userId|movieId|rating|prediction|\n",
            "+------+-------+------+----------+\n",
            "|   148|   4896|   4.0| 3.4743664|\n",
            "|   148|   5618|   3.0|  3.554009|\n",
            "|   148|   7153|   3.0| 3.5210853|\n",
            "|   148|  40629|   5.0| 3.0021672|\n",
            "|   148|  40815|   4.0| 3.5516036|\n",
            "|   148|  60069|   4.5| 3.9659667|\n",
            "|   148|  68954|   4.0| 3.7120252|\n",
            "|   148|  69844|   4.0| 3.5469096|\n",
            "|   148|  79132|   1.5| 3.7696912|\n",
            "|   148|  79702|   4.0| 3.6450598|\n",
            "|   148|  81834|   4.0| 3.5728524|\n",
            "|   148|  81847|   4.5|  3.297992|\n",
            "|   148|  98243|   4.5| 3.5204883|\n",
            "|   148|  98491|   5.0| 3.9549417|\n",
            "|   148| 108932|   4.0| 3.8693235|\n",
            "|   463|   1088|   3.5| 4.0705614|\n",
            "|   463|   1221|   4.5| 4.2081857|\n",
            "|   463|   2028|   4.5|  4.344342|\n",
            "|   463|   2167|   3.0| 3.9144425|\n",
            "|   463|   3448|   3.0|  3.614596|\n",
            "+------+-------+------+----------+\n",
            "only showing top 20 rows\n",
            "\n"
          ]
        }
      ]
    },
    {
      "cell_type": "code",
      "metadata": {
        "id": "EjWax6vEhmRV",
        "colab": {
          "base_uri": "https://localhost:8080/"
        },
        "outputId": "6270891e-faa3-4562-de4c-1072be07fc8f"
      },
      "source": [
        "# Import RegressionEvaluator\n",
        "from pyspark.ml.evaluation import RegressionEvaluator\n",
        "\n",
        "# Complete the evaluator code\n",
        "evaluator = RegressionEvaluator(metricName=\"rmse\", labelCol=\"userId\", predictionCol=\"rating\")\n",
        "\n",
        "# Extract the 3 parameters\n",
        "print(evaluator.getMetricName())\n",
        "print(evaluator.getLabelCol())\n",
        "print(evaluator.getPredictionCol())\n",
        "\n",
        "\n",
        "# Evaluate the \"test_predictions\" dataframe\n",
        "RMSE = evaluator.evaluate(test_predictions)\n",
        "\n",
        "# Print the RMSE\n",
        "print ('RMSE = ', RMSE)"
      ],
      "execution_count": 13,
      "outputs": [
        {
          "output_type": "stream",
          "name": "stdout",
          "text": [
            "rmse\n",
            "userId\n",
            "rating\n",
            "RMSE =  368.0588125025974\n"
          ]
        }
      ]
    },
    {
      "cell_type": "code",
      "metadata": {
        "id": "DNjeXn5DhnrT",
        "colab": {
          "base_uri": "https://localhost:8080/"
        },
        "outputId": "090a6e3d-bc5c-43db-b923-15de01d57b75"
      },
      "source": [
        "# Generate n Recommendations for all users\n",
        "nrecommendations = als_model.recommendForAllUsers(10)\n",
        "nrecommendations.limit(10).show()"
      ],
      "execution_count": 14,
      "outputs": [
        {
          "output_type": "stream",
          "name": "stdout",
          "text": [
            "+------+--------------------+\n",
            "|userId|     recommendations|\n",
            "+------+--------------------+\n",
            "|     1|[{3925, 6.1171665...|\n",
            "|     2|[{33649, 4.916074...|\n",
            "|     3|[{5048, 5.1947765...|\n",
            "|     4|[{2290, 5.594734}...|\n",
            "|     5|[{132333, 4.94478...|\n",
            "|     6|[{3925, 5.505392}...|\n",
            "|     7|[{96004, 4.880800...|\n",
            "|     8|[{3201, 4.9406404...|\n",
            "|     9|[{5466, 5.0931664...|\n",
            "|    10|[{103372, 4.87747...|\n",
            "+------+--------------------+\n",
            "\n"
          ]
        }
      ]
    },
    {
      "cell_type": "code",
      "metadata": {
        "id": "4VN93DPmhvkF",
        "colab": {
          "base_uri": "https://localhost:8080/"
        },
        "outputId": "baace60d-4afc-4b08-e62d-1d3e624acd90"
      },
      "source": [
        "#Explaining the recommendations\n",
        "\n",
        "from pyspark.sql.functions import split, explode\n",
        "\n",
        "nrecommendations = nrecommendations\\\n",
        "    .withColumn(\"rec_exp\", explode(\"recommendations\"))\\\n",
        "    .select('userId', F.col(\"rec_exp.movieId\"), F.col(\"rec_exp.rating\"))\n",
        "\n",
        "nrecommendations.limit(10).show()"
      ],
      "execution_count": 15,
      "outputs": [
        {
          "output_type": "stream",
          "name": "stdout",
          "text": [
            "+------+-------+---------+\n",
            "|userId|movieId|   rating|\n",
            "+------+-------+---------+\n",
            "|     1|   3925|6.1171665|\n",
            "|     1| 171495| 5.679806|\n",
            "|     1|  51931|5.6041512|\n",
            "|     1| 184245|5.5849013|\n",
            "|     1| 134796|5.5849013|\n",
            "|     1| 117531|5.5849013|\n",
            "|     1|  86237|5.5849013|\n",
            "|     1|  84273|5.5849013|\n",
            "|     1|   7071|5.5849013|\n",
            "|     1|  96004| 5.556638|\n",
            "+------+-------+---------+\n",
            "\n"
          ]
        }
      ]
    },
    {
      "cell_type": "code",
      "metadata": {
        "id": "5nMNROWEh1lg"
      },
      "source": [],
      "execution_count": null,
      "outputs": []
    },
    {
      "cell_type": "code",
      "metadata": {
        "id": "a5C50BXuh_g8",
        "colab": {
          "base_uri": "https://localhost:8080/"
        },
        "outputId": "28b81438-2c28-4d52-b1ff-4e977a74dc45"
      },
      "source": [
        "#Explaining the recommendations\n",
        "nrecommendations.join(movies, on='movieId').filter('userId = 100').show()\n"
      ],
      "execution_count": 16,
      "outputs": [
        {
          "output_type": "stream",
          "name": "stdout",
          "text": [
            "+-------+------+---------+--------------------+--------------------+\n",
            "|movieId|userId|   rating|               title|              genres|\n",
            "+-------+------+---------+--------------------+--------------------+\n",
            "|  33649|   100| 5.326764|  Saving Face (2004)|Comedy|Drama|Romance|\n",
            "|   3925|   100| 5.211959|Stranger Than Par...|        Comedy|Drama|\n",
            "|  67618|   100| 5.181536|Strictly Sexual (...|Comedy|Drama|Romance|\n",
            "|   6732|   100| 5.090119|Hello, Dolly! (1969)|Comedy|Musical|Ro...|\n",
            "|  74282|   100|5.0784736|Anne of Green Gab...|Children|Drama|Ro...|\n",
            "|    171|   100|5.0413294|      Jeffrey (1995)|        Comedy|Drama|\n",
            "| 184245|   100|4.9770956|De platte jungle ...|         Documentary|\n",
            "| 134796|   100|4.9770956|  Bitter Lake (2015)|         Documentary|\n",
            "| 117531|   100|4.9770956|    Watermark (2014)|         Documentary|\n",
            "|  86237|   100|4.9770956|  Connections (1978)|         Documentary|\n",
            "+-------+------+---------+--------------------+--------------------+\n",
            "\n"
          ]
        }
      ]
    },
    {
      "cell_type": "code",
      "metadata": {
        "colab": {
          "base_uri": "https://localhost:8080/"
        },
        "id": "bPTsLjOHn0Xl",
        "outputId": "16d4b7b3-c842-4371-cfe3-bdf3fe9ea240"
      },
      "source": [
        "ratings.join(movies, on='movieId').filter('userId = 100').sort('rating', ascending=False).limit(10).show()\n"
      ],
      "execution_count": 17,
      "outputs": [
        {
          "output_type": "stream",
          "name": "stdout",
          "text": [
            "+-------+------+------+--------------------+--------------------+\n",
            "|movieId|userId|rating|               title|              genres|\n",
            "+-------+------+------+--------------------+--------------------+\n",
            "|   1101|   100|   5.0|      Top Gun (1986)|      Action|Romance|\n",
            "|   1958|   100|   5.0|Terms of Endearme...|        Comedy|Drama|\n",
            "|   2423|   100|   5.0|Christmas Vacatio...|              Comedy|\n",
            "|   4041|   100|   5.0|Officer and a Gen...|       Drama|Romance|\n",
            "|   5620|   100|   5.0|Sweet Home Alabam...|      Comedy|Romance|\n",
            "|    368|   100|   4.5|     Maverick (1994)|Adventure|Comedy|...|\n",
            "|    934|   100|   4.5|Father of the Bri...|              Comedy|\n",
            "|    539|   100|   4.5|Sleepless in Seat...|Comedy|Drama|Romance|\n",
            "|     16|   100|   4.5|       Casino (1995)|         Crime|Drama|\n",
            "|    553|   100|   4.5|    Tombstone (1993)|Action|Drama|Western|\n",
            "+-------+------+------+--------------------+--------------------+\n",
            "\n"
          ]
        }
      ]
    },
    {
      "cell_type": "code",
      "metadata": {
        "id": "JsamrRHdODcG"
      },
      "source": [],
      "execution_count": null,
      "outputs": []
    },
    {
      "cell_type": "code",
      "metadata": {
        "id": "J0WwFvgWiCWd"
      },
      "source": [],
      "execution_count": null,
      "outputs": []
    }
  ]
}