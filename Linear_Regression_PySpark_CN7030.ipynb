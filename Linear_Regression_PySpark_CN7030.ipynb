{
  "nbformat": 4,
  "nbformat_minor": 0,
  "metadata": {
    "colab": {
      "provenance": [],
      "include_colab_link": true
    },
    "kernelspec": {
      "name": "python3",
      "display_name": "Python 3"
    },
    "language_info": {
      "name": "python"
    }
  },
  "cells": [
    {
      "cell_type": "markdown",
      "metadata": {
        "id": "view-in-github",
        "colab_type": "text"
      },
      "source": [
        "<a href=\"https://colab.research.google.com/github/martinmwarangu/Pyspark_Msc/blob/main/Linear_Regression_PySpark_CN7030.ipynb\" target=\"_parent\"><img src=\"https://colab.research.google.com/assets/colab-badge.svg\" alt=\"Open In Colab\"/></a>"
      ]
    },
    {
      "cell_type": "markdown",
      "source": [
        "# **Linear Regression and Regularization with Mathematical Insights: PySpark ML on Diabetes Data**\n",
        "\n"
      ],
      "metadata": {
        "id": "POFRGbv6QgZp"
      }
    },
    {
      "cell_type": "code",
      "source": [
        "!pip3 install pyspark"
      ],
      "metadata": {
        "id": "7PLOpJX5G99S",
        "colab": {
          "base_uri": "https://localhost:8080/"
        },
        "outputId": "51fcc211-c1db-4af4-db86-91152f32b6ac"
      },
      "execution_count": null,
      "outputs": [
        {
          "output_type": "stream",
          "name": "stdout",
          "text": [
            "Collecting pyspark\n",
            "  Downloading pyspark-3.5.1.tar.gz (317.0 MB)\n",
            "\u001b[2K     \u001b[90m━━━━━━━━━━━━━━━━━━━━━━━━━━━━━━━━━━━━━━━━\u001b[0m \u001b[32m317.0/317.0 MB\u001b[0m \u001b[31m1.8 MB/s\u001b[0m eta \u001b[36m0:00:00\u001b[0m\n",
            "\u001b[?25h  Preparing metadata (setup.py) ... \u001b[?25l\u001b[?25hdone\n",
            "Requirement already satisfied: py4j==0.10.9.7 in /usr/local/lib/python3.10/dist-packages (from pyspark) (0.10.9.7)\n",
            "Building wheels for collected packages: pyspark\n",
            "  Building wheel for pyspark (setup.py) ... \u001b[?25l\u001b[?25hdone\n",
            "  Created wheel for pyspark: filename=pyspark-3.5.1-py2.py3-none-any.whl size=317488491 sha256=f27350f90b88ed0b54bc6a7b77dca133419239384974a6b92a93b2a94b82cbba\n",
            "  Stored in directory: /root/.cache/pip/wheels/80/1d/60/2c256ed38dddce2fdd93be545214a63e02fbd8d74fb0b7f3a6\n",
            "Successfully built pyspark\n",
            "Installing collected packages: pyspark\n",
            "Successfully installed pyspark-3.5.1\n"
          ]
        }
      ]
    },
    {
      "cell_type": "markdown",
      "source": [
        "# **Step 1:** Import the required libraries and initialize SparkSession."
      ],
      "metadata": {
        "id": "PiN5XAUuQxUj"
      }
    },
    {
      "cell_type": "code",
      "source": [
        "from pyspark.sql import SparkSession\n",
        "from pyspark.ml.feature import VectorAssembler, StandardScaler\n",
        "from pyspark.ml.regression import LinearRegression\n",
        "from pyspark.ml.evaluation import RegressionEvaluator\n",
        "\n",
        "# Initialize SparkSession\n",
        "spark = SparkSession.builder \\\n",
        "                    .appName(\"LinearRegressionExample\") \\\n",
        "                    .master(\"local[*]\") \\\n",
        "                    .config(\"spark.executor.memory\", \"4g\") \\\n",
        "                    .config(\"spark.driver.memory\", \"2g\") \\\n",
        "                    .config(\"spark.executor.cores\", \"2\") \\\n",
        "                    .config(\"spark.sql.inMemoryColumnarStorage.compressed\", \"true\") \\\n",
        "                    .getOrCreate()\n",
        "\n",
        "spark"
      ],
      "metadata": {
        "id": "8V-y6jQPGyKm",
        "colab": {
          "base_uri": "https://localhost:8080/",
          "height": 219
        },
        "outputId": "ecf28884-0be6-4703-b4b4-52d9779be568"
      },
      "execution_count": null,
      "outputs": [
        {
          "output_type": "execute_result",
          "data": {
            "text/plain": [
              "<pyspark.sql.session.SparkSession at 0x7b20778483d0>"
            ],
            "text/html": [
              "\n",
              "            <div>\n",
              "                <p><b>SparkSession - in-memory</b></p>\n",
              "                \n",
              "        <div>\n",
              "            <p><b>SparkContext</b></p>\n",
              "\n",
              "            <p><a href=\"http://8b4b2cfee349:4040\">Spark UI</a></p>\n",
              "\n",
              "            <dl>\n",
              "              <dt>Version</dt>\n",
              "                <dd><code>v3.5.1</code></dd>\n",
              "              <dt>Master</dt>\n",
              "                <dd><code>local[*]</code></dd>\n",
              "              <dt>AppName</dt>\n",
              "                <dd><code>LinearRegressionExample</code></dd>\n",
              "            </dl>\n",
              "        </div>\n",
              "        \n",
              "            </div>\n",
              "        "
            ]
          },
          "metadata": {},
          "execution_count": 2
        }
      ]
    },
    {
      "cell_type": "markdown",
      "source": [
        "# **Step 2:** Load and preprocess the data."
      ],
      "metadata": {
        "id": "WD0CTmfUQ3Ub"
      }
    },
    {
      "cell_type": "code",
      "source": [
        "from google.colab import drive\n",
        "drive.mount('/content/drive')"
      ],
      "metadata": {
        "id": "-TFY4zdDYR1D",
        "colab": {
          "base_uri": "https://localhost:8080/"
        },
        "outputId": "0266614e-308d-4bca-8852-c9468de033f6"
      },
      "execution_count": null,
      "outputs": [
        {
          "output_type": "stream",
          "name": "stdout",
          "text": [
            "Mounted at /content/drive\n"
          ]
        }
      ]
    },
    {
      "cell_type": "markdown",
      "source": [
        "# Data Description\n",
        "\n",
        "Diabetes Data: https://drive.google.com/file/d/1JgxAN-lTKXbrsaHtetOpybk4XTLRYqCF/view?usp=sharing (204 MB)\n",
        "\n",
        "We have a dataset of diabetes patients, including ten health measurement features and one variable indicating disease progression after one year.\n",
        "\n",
        "| Feature \t| Description                           \t|\n",
        "|---------\t|---------------------------------------\t|\n",
        "| age     \t| Age in years                          \t|\n",
        "| sex     \t| Sex                                   \t|\n",
        "| bmi     \t| Body Mass Index                       \t|\n",
        "| bp      \t| Average blood pressure                \t|\n",
        "| tc      \t| T-Cells (a type of white blood cells) \t|\n",
        "| ldl     \t| low-density lipoproteins              \t|\n",
        "| hdl     \t| high-density lipoproteins             \t|\n",
        "| tch     \t| thyroid stimulating hormone           \t|\n",
        "| ltg     \t| lamotrigine                           \t|\n",
        "| glu     \t| blood sugar level                     \t|"
      ],
      "metadata": {
        "id": "XRvmZc8wqVCp"
      }
    },
    {
      "cell_type": "code",
      "source": [
        "# Load the data from a CSV file\n",
        "df = spark.read.csv(\"/content/drive/MyDrive/diabetes_wk_4/Diabetes.csv\", header=True, inferSchema=True)\n",
        "\n",
        "# get familiar with data\n",
        "df.show()\n",
        "\n",
        "# more info\n",
        "print(df.count())\n",
        "print(df.rdd.getNumPartitions())"
      ],
      "metadata": {
        "id": "A5GE7B5c_Alk",
        "colab": {
          "base_uri": "https://localhost:8080/"
        },
        "outputId": "129c0921-243b-4941-e878-88e87211f2a0"
      },
      "execution_count": null,
      "outputs": [
        {
          "output_type": "stream",
          "name": "stdout",
          "text": [
            "+---+---+------+-----+------+------+-----+-----+----+-----+------+-----------+\n",
            "| id|age|   sex|  bmi|    bp|    tc|  ldl|  hdl| tch|  ltg|   glu|progression|\n",
            "+---+---+------+-----+------+------+-----+-----+----+-----+------+-----------+\n",
            "|  0| 22|  Male|20.33|106.25|140.89|-0.45|62.83|0.77|-0.54|130.98|      29.83|\n",
            "|  1| 41|Female|25.99|132.23|129.64|-1.11|37.26|0.81| 1.64|151.19|      46.66|\n",
            "|  2| 51|Female|32.76| 127.0|220.36|-1.69|49.56|0.41|-0.88|176.22|      59.97|\n",
            "|  3| 26|  Male|35.87| 138.4|194.19|-0.04|55.57|0.45|-1.38|125.32|      42.44|\n",
            "|  4| 42|Female| 21.5|122.33|275.79| 1.19|63.64|0.54|-0.69|184.72|      49.36|\n",
            "|  5| 47|  Male|31.62|137.18|232.35|-1.65|36.68|0.26| 1.63| 99.83|      54.15|\n",
            "|  6| 22|  Male|37.06|106.47|244.34|-0.07|34.22|0.48|-1.72| 65.41|      39.55|\n",
            "|  7| 23|  Male|26.75|129.39|177.69|-0.37|42.03|0.68| 0.82|180.71|      33.12|\n",
            "|  8| 44|Female|28.38|125.23|276.99| 0.69|55.18| 1.1|-0.52|134.71|      53.84|\n",
            "|  9| 36|  Male|36.83| 121.9|174.81|  1.1|53.55|0.25|-0.62| 88.25|      51.81|\n",
            "| 10| 56|Female| 42.8|129.62|212.24| 1.46|49.69|0.58| 0.17| 61.64|      71.56|\n",
            "| 11| 41|  Male|34.41| 120.5|232.95| 1.27|57.86|0.97| 0.15| 63.33|      54.31|\n",
            "| 12| 56|  Male|24.41|126.83|183.39| 0.19|52.15|0.64| 0.56| 50.62|      60.75|\n",
            "| 13| 39|Female|18.07|114.39|206.74| -2.3|42.51|0.37|-0.15| 83.49|      41.11|\n",
            "| 14| 48|Female|35.12|124.86|153.23|-0.18|39.01|1.01|-1.08| 79.52|      60.19|\n",
            "| 15| 52|  Male|32.41|119.55| 118.6| 0.29|42.15|0.61|-0.06| 73.18|      61.88|\n",
            "| 16| 45|Female|37.21| 122.2|115.44| 0.33|46.21|0.43| 0.38| 45.89|      58.06|\n",
            "| 17| 42|Female|24.92|132.07|215.44| 0.53|61.76| 0.7|-0.04|  86.4|      49.97|\n",
            "| 18| 45|  Male|27.23|114.42| 173.3|-0.05|35.94|0.69| 0.82|108.99|      52.23|\n",
            "| 19| 45|Female|26.14|110.95|234.69| -0.5|47.08|0.82| 1.51| 96.85|      50.64|\n",
            "+---+---+------+-----+------+------+-----+-----+----+-----+------+-----------+\n",
            "only showing top 20 rows\n",
            "\n",
            "3045570\n",
            "2\n"
          ]
        }
      ]
    },
    {
      "cell_type": "markdown",
      "source": [
        "# StringIndexer"
      ],
      "metadata": {
        "id": "NOP5yeTaCj4b"
      }
    },
    {
      "cell_type": "code",
      "source": [
        "from pyspark.ml.feature import StringIndexer\n",
        "indexer = StringIndexer(inputCol=\"sex\", outputCol= \"gender\")\n",
        "df = indexer.fit(df).transform(df)\n",
        "df.show(10)"
      ],
      "metadata": {
        "id": "tpfZeVqxChIk",
        "colab": {
          "base_uri": "https://localhost:8080/"
        },
        "outputId": "dabbf1a0-1140-444e-e9d8-ef7f76600891"
      },
      "execution_count": null,
      "outputs": [
        {
          "output_type": "stream",
          "name": "stdout",
          "text": [
            "+---+---+------+-----+------+------+-----+-----+----+-----+------+-----------+------+\n",
            "| id|age|   sex|  bmi|    bp|    tc|  ldl|  hdl| tch|  ltg|   glu|progression|gender|\n",
            "+---+---+------+-----+------+------+-----+-----+----+-----+------+-----------+------+\n",
            "|  0| 22|  Male|20.33|106.25|140.89|-0.45|62.83|0.77|-0.54|130.98|      29.83|   1.0|\n",
            "|  1| 41|Female|25.99|132.23|129.64|-1.11|37.26|0.81| 1.64|151.19|      46.66|   0.0|\n",
            "|  2| 51|Female|32.76| 127.0|220.36|-1.69|49.56|0.41|-0.88|176.22|      59.97|   0.0|\n",
            "|  3| 26|  Male|35.87| 138.4|194.19|-0.04|55.57|0.45|-1.38|125.32|      42.44|   1.0|\n",
            "|  4| 42|Female| 21.5|122.33|275.79| 1.19|63.64|0.54|-0.69|184.72|      49.36|   0.0|\n",
            "|  5| 47|  Male|31.62|137.18|232.35|-1.65|36.68|0.26| 1.63| 99.83|      54.15|   1.0|\n",
            "|  6| 22|  Male|37.06|106.47|244.34|-0.07|34.22|0.48|-1.72| 65.41|      39.55|   1.0|\n",
            "|  7| 23|  Male|26.75|129.39|177.69|-0.37|42.03|0.68| 0.82|180.71|      33.12|   1.0|\n",
            "|  8| 44|Female|28.38|125.23|276.99| 0.69|55.18| 1.1|-0.52|134.71|      53.84|   0.0|\n",
            "|  9| 36|  Male|36.83| 121.9|174.81|  1.1|53.55|0.25|-0.62| 88.25|      51.81|   1.0|\n",
            "+---+---+------+-----+------+------+-----+-----+----+-----+------+-----------+------+\n",
            "only showing top 10 rows\n",
            "\n"
          ]
        }
      ]
    },
    {
      "cell_type": "markdown",
      "source": [
        "# VectorAssembler"
      ],
      "metadata": {
        "id": "5Awz_GCxon__"
      }
    },
    {
      "cell_type": "code",
      "source": [
        "assembler = VectorAssembler(inputCols=[\"age\",\"gender\",\"bmi\",\"bp\",\"tc\", \"ldl\",\"hdl\",\"tch\", \"tch\",\"ltg\", \"glu\"], outputCol=\"features\")\n",
        "data = assembler.transform(df)\n",
        "data = data.select(\"features\", \"progression\")\n",
        "data.show(5, truncate= False)"
      ],
      "metadata": {
        "id": "_aBqMWR2jZUb",
        "colab": {
          "base_uri": "https://localhost:8080/"
        },
        "outputId": "36d5b549-aff1-4110-d3b3-a167b65c40ec"
      },
      "execution_count": null,
      "outputs": [
        {
          "output_type": "stream",
          "name": "stdout",
          "text": [
            "+-----------------------------------------------------------------+-----------+\n",
            "|features                                                         |progression|\n",
            "+-----------------------------------------------------------------+-----------+\n",
            "|[22.0,1.0,20.33,106.25,140.89,-0.45,62.83,0.77,0.77,-0.54,130.98]|29.83      |\n",
            "|[41.0,0.0,25.99,132.23,129.64,-1.11,37.26,0.81,0.81,1.64,151.19] |46.66      |\n",
            "|[51.0,0.0,32.76,127.0,220.36,-1.69,49.56,0.41,0.41,-0.88,176.22] |59.97      |\n",
            "|[26.0,1.0,35.87,138.4,194.19,-0.04,55.57,0.45,0.45,-1.38,125.32] |42.44      |\n",
            "|[42.0,0.0,21.5,122.33,275.79,1.19,63.64,0.54,0.54,-0.69,184.72]  |49.36      |\n",
            "+-----------------------------------------------------------------+-----------+\n",
            "only showing top 5 rows\n",
            "\n"
          ]
        }
      ]
    },
    {
      "cell_type": "markdown",
      "source": [
        "# StandardScaler"
      ],
      "metadata": {
        "id": "-zS5vXyfWAI4"
      }
    },
    {
      "cell_type": "code",
      "source": [
        "scaler = StandardScaler(inputCol=\"features\", outputCol=\"scaledfeatures\")\n",
        "scaler_model = scaler.fit(data)\n",
        "data = scaler_model.transform(data)\n",
        "data = data.select(\"scaledfeatures\",\"progression\")\n",
        "data.show(5, truncate=False)"
      ],
      "metadata": {
        "id": "I5jESIhcjbju",
        "colab": {
          "base_uri": "https://localhost:8080/"
        },
        "outputId": "ec30479c-f35c-4f43-fcb3-4110319b9d3a"
      },
      "execution_count": null,
      "outputs": [
        {
          "output_type": "stream",
          "name": "stdout",
          "text": [
            "+-----------------------------------------------------------------------------------------------------------------------------------------------------------------------------------------------------------------+-----------+\n",
            "|scaledfeatures                                                                                                                                                                                                   |progression|\n",
            "+-----------------------------------------------------------------------------------------------------------------------------------------------------------------------------------------------------------------+-----------+\n",
            "|[2.1992963818959104,1.9999996870586678,2.9065868277628337,10.626733865679874,2.817908021189971,-0.44952529926154455,6.283784722870423,3.851676742960024,3.851676742960024,-0.5397422170510016,2.6192099652139484]|29.83      |\n",
            "|[4.098688711715106,0.0,3.7157989008143653,13.225157826436233,2.592899395748938,-1.1088290715118099,3.7264653632683737,4.051763846490415,4.051763846490415,1.639217103636375,3.0233497834837144]                  |46.66      |\n",
            "|[5.098368885304155,0.0,4.683708041195791,12.702072479447944,4.407368951305431,-1.688217235004467,4.9566189856033445,2.050892811186506,2.050892811186506,-0.8795799092682988,3.5238752486639338]                  |59.97      |\n",
            "|[2.59916845133153,1.9999996870586678,5.12834577038135,13.842258513036185,3.883948886612823,-0.03995780437880396,5.557694048223928,2.250979914716897,2.250979914716897,-1.3793412213525593,2.5060268196717974]    |42.44      |\n",
            "|[4.198656729074011,0.0,3.073862114948398,12.234996270951708,5.516011449811785,1.1887446802694177,6.3647948394632134,2.7011758976602764,2.7011758976602764,-0.6896706106762797,3.693849937198966]                 |49.36      |\n",
            "+-----------------------------------------------------------------------------------------------------------------------------------------------------------------------------------------------------------------+-----------+\n",
            "only showing top 5 rows\n",
            "\n"
          ]
        }
      ]
    },
    {
      "cell_type": "code",
      "source": [
        "from os import truncate\n",
        "# splitting data into training and testing sets\n",
        "train_data,test_data = data.randomSplit((0.7,0.3), seed=42)\n",
        "train_data.show(5, truncate==False)"
      ],
      "metadata": {
        "colab": {
          "base_uri": "https://localhost:8080/"
        },
        "id": "6A_JS34mL50c",
        "outputId": "7f68fe50-5fa4-4553-f75e-f1b084488bda"
      },
      "execution_count": null,
      "outputs": [
        {
          "output_type": "stream",
          "name": "stdout",
          "text": [
            "+-------------------------------------------------------------------------------------------------------------------------------------------------------------------------------------------------------------------+-----------+\n",
            "|scaledfeatures                                                                                                                                                                                                     |progression|\n",
            "+-------------------------------------------------------------------------------------------------------------------------------------------------------------------------------------------------------------------+-----------+\n",
            "|[-0.9996801735890501,1.9999996870586678,4.513573347391671,14.255325909415083,4.911188264626287,-0.29968353284102967,3.6984618661745694,3.5515460876644376,3.5515460876644376,0.6896706106762797,2.2420661268879822]|7.79       |\n",
            "|[-0.59980810415343,0.0,3.554242426865915,12.855097447113735,3.8849489249481164,-1.0688712671330058,3.6184518744779863,1.8508057076561153,1.8508057076561153,0.4397899546341494,2.470232149968538]                  |7.16       |\n",
            "|[-0.4998400867945251,0.0,3.7586900000927153,10.55472211619009,4.0357547059103736,-1.0089345605648,4.711588386032558,0.20008710353039086,0.20008710353039086,-1.449307805044356,0.3373497641865882]                 |10.1       |\n",
            "|[-0.4998400867945251,0.0,4.432080258762806,11.858934912505061,4.255563132007881,-0.24973627736752474,3.3184144056157985,0.6502830864737703,0.6502830864737703,-0.19990452483370427,3.654055863059588]              |12.33      |\n",
            "|[-0.4998400867945251,1.9999996870586678,5.79458751250505,12.881101689985044,3.487933705836604,-0.16982066860991685,5.158644214637218,3.6515896394296328,3.6515896394296328,-0.6896706106762797,3.969408902847525]  |17.61      |\n",
            "+-------------------------------------------------------------------------------------------------------------------------------------------------------------------------------------------------------------------+-----------+\n",
            "only showing top 5 rows\n",
            "\n"
          ]
        }
      ]
    },
    {
      "cell_type": "markdown",
      "source": [
        "# **Step 3:** Apply linear regression model."
      ],
      "metadata": {
        "id": "rTPHCu_7R6Zg"
      }
    },
    {
      "cell_type": "code",
      "source": [
        "lr = LinearRegression(labelCol=\"progression\" ,featuresCol=\"scaledfeatures\" ,predictionCol=\"predictions\")\n",
        "lr_model = lr.fit(train_data)\n",
        "lr_predictions= lr_model.transform(test_data)\n",
        "lr_predictions.select(\"predictions\", \"progression\").show(10, truncate=False)"
      ],
      "metadata": {
        "id": "mWs1zRdjR79w",
        "colab": {
          "base_uri": "https://localhost:8080/"
        },
        "outputId": "da1ad60c-35c6-4d74-c768-e65ec795abeb"
      },
      "execution_count": null,
      "outputs": [
        {
          "output_type": "stream",
          "name": "stdout",
          "text": [
            "+------------------+-----------+\n",
            "|predictions       |progression|\n",
            "+------------------+-----------+\n",
            "|12.84322127631629 |12.84      |\n",
            "|15.782732312119713|15.78      |\n",
            "|13.361615339783713|13.36      |\n",
            "|12.107232785669735|12.11      |\n",
            "|12.397431427691126|12.4       |\n",
            "|14.913638804692889|14.91      |\n",
            "|15.613728583841377|15.61      |\n",
            "|16.151324389236265|16.15      |\n",
            "|17.704219575213344|17.7       |\n",
            "|12.022124491648027|12.02      |\n",
            "+------------------+-----------+\n",
            "only showing top 10 rows\n",
            "\n"
          ]
        }
      ]
    },
    {
      "cell_type": "code",
      "source": [
        "#access the coefficients of the model\n",
        "coefficients = lr_model.coefficients\n",
        "intercept = lr_model.intercept\n",
        "print(coefficients)\n",
        "print(intercept)\n"
      ],
      "metadata": {
        "colab": {
          "base_uri": "https://localhost:8080/"
        },
        "id": "E5mls30DQQW1",
        "outputId": "6e8167d9-dd77-410a-b515-85dbc459129b"
      },
      "execution_count": null,
      "outputs": [
        {
          "output_type": "stream",
          "name": "stdout",
          "text": [
            "[8.502719703571548,-5.546469333252984e-06,3.4972267680420206,0.09998470261214139,-1.8898950987326377e-06,1.0010564864246805,2.456221854031589e-06,-0.009997852913367486,-0.009997852913353217,-0.8003841064036297,5.798997544627856e-07]\n",
            "3.309550543955053e-05\n"
          ]
        }
      ]
    },
    {
      "cell_type": "markdown",
      "source": [
        "# **Step 4:** Apply Lasso and Ridge regression models.\n",
        "For Lasso regression, you would set elasticNetParam to 1.0, indicating that you want to use L1 regularization. For Ridge regression, you would set elasticNetParam to 0.0, indicating that you want to use L2 regularization.\n"
      ],
      "metadata": {
        "id": "OrHb2MiSR-Xl"
      }
    },
    {
      "cell_type": "code",
      "source": [
        "lasso = LinearRegression(labelCol=\"progression\" ,featuresCol=\"scaledfeatures\", predictionCol=\"predictions\",\n",
        "                         elasticNetParam=1.0,regParam=0.15)\n",
        "lasso_model = lasso.fit(train_data)\n",
        "lasso_predictions = lasso_model.transform(test_data)\n",
        "#ridge model\n",
        "ridge = LinearRegression(labelCol=\"progression\" ,featuresCol=\"scaledfeatures\", predictionCol=\"predictions\",\n",
        "                         elasticNetParam=0.0,regParam=0.15)\n",
        "ridge_model = ridge.fit(train_data)\n",
        "ridge_predictions = ridge_model.transform(test_data)\n",
        "lasso_predictions.select(\"predictions\",\"progression\").show(5,truncate=False)\n",
        "\n"
      ],
      "metadata": {
        "id": "pdQbyetQR-qh",
        "colab": {
          "base_uri": "https://localhost:8080/"
        },
        "outputId": "1be33c59-ddbb-4296-871c-2d96bc339113"
      },
      "execution_count": null,
      "outputs": [
        {
          "output_type": "stream",
          "name": "stdout",
          "text": [
            "+------------------+-----------+\n",
            "|predictions       |progression|\n",
            "+------------------+-----------+\n",
            "|13.466536080642978|12.84      |\n",
            "|16.332266266068352|15.78      |\n",
            "|14.249967702443584|13.36      |\n",
            "|12.841207993794853|12.11      |\n",
            "|13.301085179245103|12.4       |\n",
            "+------------------+-----------+\n",
            "only showing top 5 rows\n",
            "\n"
          ]
        }
      ]
    },
    {
      "cell_type": "markdown",
      "source": [
        "# **Step 5:** Evaluate the models and visualize the results."
      ],
      "metadata": {
        "id": "fNvWtvJzSOz7"
      }
    },
    {
      "cell_type": "code",
      "source": [
        "evaluator_mse = RegressionEvaluator(labelCol=\"progression\", predictionCol=\"predictions\", metricName=\"mse\")\n",
        "# caLculating mse\n",
        "mse1 = evaluator_mse.evaluate(lr_predictions)\n",
        "mse2 = evaluator_mse.evaluate(lasso_predictions)\n",
        "mse3 = evaluator_mse.evaluate(ridge_predictions)\n",
        "#rmse\n",
        "evaluator_rmse = RegressionEvaluator(labelCol=\"progression\", predictionCol=\"predictions\", metricName=\"rmse\")\n",
        "rmse1 = evaluator_rmse.evaluate(lr_predictions)\n",
        "rmse2 = evaluator_rmse.evaluate(lasso_predictions)\n",
        "rmse3 = evaluator_rmse.evaluate(ridge_predictions)\n",
        "#r2\n",
        "evaluator_r2 = RegressionEvaluator(labelCol=\"progression\", predictionCol=\"predictions\" ,metricName=\"r2\")\n",
        "r2_score_1 = evaluator_r2.evaluate(lr_predictions)\n",
        "r2_score_2 = evaluator_r2.evaluate(lasso_predictions)\n",
        "r2_score_3 = evaluator_r2.evaluate(ridge_predictions)\n",
        "\n"
      ],
      "metadata": {
        "id": "a-sOf2F9f27i"
      },
      "execution_count": null,
      "outputs": []
    },
    {
      "cell_type": "code",
      "source": [
        "# print the evaluation metrics\n",
        "print('Regression - MSE: ', mse1, ', RMSE: ', rmse1, ', R^2: ', r2_score_1)\n",
        "print('Lasso - MSE: ', mse2, ', RMSE: ', rmse2, ', R^2: ', r2_score_2)\n",
        "print('Ridge - MSE: ', mse3, ', RMSE: ', rmse3, ', R^2: ', r2_score_3)\n"
      ],
      "metadata": {
        "colab": {
          "base_uri": "https://localhost:8080/"
        },
        "id": "KjWoUkdNWmN2",
        "outputId": "8e88b663-9483-4018-c672-55f78356bc92"
      },
      "execution_count": null,
      "outputs": [
        {
          "output_type": "stream",
          "name": "stdout",
          "text": [
            "Regression - MSE:  8.338459714005462e-06 , RMSE:  0.0028876391246146845 , R^2:  0.9999999030699728\n",
            "Lasso - MSE:  0.10010649005685825 , RMSE:  0.3163960967787976 , R^2:  0.9988363168811288\n",
            "Ridge - MSE:  0.021746401220939706 , RMSE:  0.1474666105290947 , R^2:  0.9997472099962487\n"
          ]
        }
      ]
    },
    {
      "cell_type": "code",
      "source": [
        "# plot the graph\n",
        "import matplotlib.pyplot as plt\n",
        "import numpy as np\n",
        "\n",
        "mse = [mse1, mse2, mse3]\n",
        "rmse = [rmse1, rmse2, rmse3]\n",
        "r2_score = [r2_score_1, r2_score_2, r2_score_3]\n",
        "\n",
        "positions = np.arange(len(mse))\n",
        "bar_width = 0.2\n",
        "\n",
        "plt.bar(positions - bar_width, mse, width = bar_width, label = 'MSE')\n",
        "plt.bar(positions, rmse, width = bar_width, label = 'RMSE')\n",
        "plt.bar(positions + bar_width, r2_score, width = bar_width, label = 'R2_Score')\n",
        "\n",
        "# adding labels and title\n",
        "plt.xlabel('Model')\n",
        "plt.ylabel('Scores')\n",
        "plt.title('Comparison of Regression Metrics')\n",
        "\n",
        "# adding the legend\n",
        "plt.legend()\n",
        "plt.xticks(positions, ['Regression', 'Lasso', 'Ridge'])\n",
        "plt.show()"
      ],
      "metadata": {
        "colab": {
          "base_uri": "https://localhost:8080/",
          "height": 472
        },
        "id": "n7KIbd3xW7zZ",
        "outputId": "b3a82c68-d779-4cbe-c402-04e0d4287598"
      },
      "execution_count": null,
      "outputs": [
        {
          "output_type": "display_data",
          "data": {
            "text/plain": [
              "<Figure size 640x480 with 1 Axes>"
            ],
            "image/png": "[encoded data removed]"
          },
          "metadata": {}
        }
      ]
    }
  ]
}