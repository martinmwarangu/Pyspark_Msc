{
  "nbformat": 4,
  "nbformat_minor": 0,
  "metadata": {
    "colab": {
      "provenance": [],
      "collapsed_sections": [
        "Lx9-Fre4FMda",
        "n8G2vN3g5Vua",
        "Cs6Qfa5C1ZpZ",
        "thZJwceS5tX7",
        "00tnlpkRsJ0e"
      ],
      "include_colab_link": true
    },
    "kernelspec": {
      "name": "python3",
      "display_name": "Python 3"
    }
  },
  "cells": [
    {
      "cell_type": "markdown",
      "metadata": {
        "id": "view-in-github",
        "colab_type": "text"
      },
      "source": [
        "<a href=\"https://colab.research.google.com/github/martinmwarangu/Pyspark_Msc/blob/main/Web_analysis.ipynb\" target=\"_parent\"><img src=\"https://colab.research.google.com/assets/colab-badge.svg\" alt=\"Open In Colab\"/></a>"
      ]
    },
    {
      "cell_type": "markdown",
      "metadata": {
        "id": "GdMZR-9QTwG3"
      },
      "source": [
        "\n",
        "# **Initiate and Configure Spark**\n",
        "\n",
        "---\n"
      ]
    },
    {
      "cell_type": "code",
      "metadata": {
        "id": "2wbXV70D6xbl",
        "colab": {
          "base_uri": "https://localhost:8080/"
        },
        "outputId": "77016f66-cd7f-41a2-9e25-559bfb9be619"
      },
      "source": [
        "!pip3 install pyspark"
      ],
      "execution_count": null,
      "outputs": [
        {
          "output_type": "stream",
          "name": "stdout",
          "text": [
            "Requirement already satisfied: pyspark in /usr/local/lib/python3.10/dist-packages (3.5.3)\n",
            "Requirement already satisfied: py4j==0.10.9.7 in /usr/local/lib/python3.10/dist-packages (from pyspark) (0.10.9.7)\n"
          ]
        }
      ]
    },
    {
      "cell_type": "code",
      "metadata": {
        "id": "_z0p88Xtw_3-",
        "colab": {
          "base_uri": "https://localhost:8080/",
          "height": 219
        },
        "outputId": "73b4cd9f-81e9-4dff-b507-c9fdd0aa064f"
      },
      "source": [
        "# Linking with Spark\n",
        "import pyspark\n",
        "from pyspark.sql import SparkSession\n",
        "\n",
        "spark = SparkSession.builder \\\n",
        "                    .appName(\"BigDataAnalytics_CN7031\") \\\n",
        "                    .master(\"local[*]\") \\\n",
        "                    .config(\"spark.executor.memory\", \"4g\") \\\n",
        "                    .config(\"spark.driver.memory\", \"2g\") \\\n",
        "                    .config(\"spark.executor.cores\", \"2\") \\\n",
        "                    .config(\"spark.sql.inMemoryColumnarStorage.compressed\", \"true\") \\\n",
        "                    .getOrCreate()\n",
        "\n",
        "spark\n"
      ],
      "execution_count": null,
      "outputs": [
        {
          "output_type": "execute_result",
          "data": {
            "text/plain": [
              "<pyspark.sql.session.SparkSession at 0x7fdfc90faa70>"
            ],
            "text/html": [
              "\n",
              "            <div>\n",
              "                <p><b>SparkSession - in-memory</b></p>\n",
              "                \n",
              "        <div>\n",
              "            <p><b>SparkContext</b></p>\n",
              "\n",
              "            <p><a href=\"http://881d70af689d:4040\">Spark UI</a></p>\n",
              "\n",
              "            <dl>\n",
              "              <dt>Version</dt>\n",
              "                <dd><code>v3.5.3</code></dd>\n",
              "              <dt>Master</dt>\n",
              "                <dd><code>local[*]</code></dd>\n",
              "              <dt>AppName</dt>\n",
              "                <dd><code>BigDataAnalytics_CN7031</code></dd>\n",
              "            </dl>\n",
              "        </div>\n",
              "        \n",
              "            </div>\n",
              "        "
            ]
          },
          "metadata": {},
          "execution_count": 2
        }
      ]
    },
    {
      "cell_type": "code",
      "source": [
        "\n",
        "from pyspark.sql.functions import regexp_extract, col, to_timestamp,when,lit\n",
        "from pyspark.sql.types import IntegerType\n",
        "# Define regex patterns for each column\n",
        "host_regex = r'^(\\S+)'  # Matches the host (IP address)\n",
        "timestamp_regex = r'\\[([\\w:/]+)\\]'  # Matches the timestamp\n",
        "method_url_version_regex = r'\"(\\S+)\\s(\\S+)\\s(\\S+)\"'  # Matches HTTP method, URL, and version\n",
        "status_regex = r'\\s(\\d{3})\\s'  # Matches HTTP status code\n",
        "size_pattern = r'HTTP\\/\\d+\\.\\d+\" \\d+ (\\d+)'  # Size of the response\n",
        "message_regex = r'\".*?\"\\s\\d{3}\\s\\d+\\s(.+)'  # Matches the message"
      ],
      "metadata": {
        "id": "5KsnRrDK4zRB"
      },
      "execution_count": null,
      "outputs": []
    },
    {
      "cell_type": "code",
      "source": [
        "web_logs = logs.select(\n",
        "    regexp_extract(col('value'), host_regex, 1).alias('Host'),\n",
        "    regexp_extract(col('value'), timestamp_regex, 1).alias('Timestamp'),\n",
        "    regexp_extract(col('value'), method_url_version_regex, 1).alias('HttpMethod'),\n",
        "    regexp_extract(col('value'), method_url_version_regex, 2).alias('Url'),\n",
        "    regexp_extract(col('value'), method_url_version_regex, 3).alias('HttpVersion'),\n",
        "    regexp_extract(col('value'), status_regex, 1).cast(IntegerType()).alias('HttpStatusCode'),\n",
        "    regexp_extract(col('value'), size_pattern, 1).cast(IntegerType()).alias('BytesInTheReply'),\n",
        "    regexp_extract(col('value'), message_regex, 1).alias('Message')\n",
        ")"
      ],
      "metadata": {
        "id": "ymJ0JAkTdSRW"
      },
      "execution_count": null,
      "outputs": []
    },
    {
      "cell_type": "code",
      "source": [
        "# Convert TimeStamp to a proper timestamp type\n",
        "web_logs = web_logs.withColumn(\"Timestamp\", to_timestamp(col(\"Timestamp\"), \"dd/MMM/yyyy:HH:mm:ss\"))"
      ],
      "metadata": {
        "id": "fn-qS0igddI4"
      },
      "execution_count": null,
      "outputs": []
    },
    {
      "cell_type": "code",
      "source": [
        "web_logs.show(truncate=False)"
      ],
      "metadata": {
        "colab": {
          "base_uri": "https://localhost:8080/"
        },
        "id": "F4cvubPCj-eK",
        "outputId": "37414b10-337a-48d3-ae11-9542b07517ca"
      },
      "execution_count": null,
      "outputs": [
        {
          "output_type": "stream",
          "name": "stdout",
          "text": [
            "+---------------+-------------------+----------+---------------------------------------+-----------+--------------+---------------+--------------------------------------------------------------+\n",
            "|Host           |Timestamp          |HttpMethod|Url                                    |HttpVersion|HttpStatusCode|BytesInTheReply|Message                                                       |\n",
            "+---------------+-------------------+----------+---------------------------------------+-----------+--------------+---------------+--------------------------------------------------------------+\n",
            "|88.211.105.115 |2022-03-04 14:17:48|POST      |/history/missions/                     |HTTP/2.0   |414           |12456          |Caution: System may require attention. Check logs for details.|\n",
            "|144.6.49.142   |2022-09-02 15:16:00|POST      |/security/firewall/                    |HTTPS/1.0  |203           |NULL           |Warning: Unusual behavior detected. Investigate further.      |\n",
            "|231.70.64.145  |2022-07-19 01:31:31|PUT       |/web-development/countdown/            |HTTP/1.0   |201           |33093          |Informational message. No action required.                    |\n",
            "|219.42.234.172 |2022-02-08 11:34:57|POST      |/networking/technology/                |HTTP/1.0   |415           |68827          |Debug: Detailed system state information.                     |\n",
            "|183.173.185.94 |2023-08-29 03:07:11|GET       |/security/firewall/                    |HTTP/2.0   |205           |30374          |Warning: Unusual behavior detected. Investigate further.      |\n",
            "|164.12.8.113   |2023-05-22 09:48:25|GET       |/web-development/technology/           |HTTP/1.0   |200           |14633          |Informational message. No action required.                    |\n",
            "|110.98.7.240   |2023-01-22 09:55:54|PUT       |/history/apollo/                       |HTTP/2.0   |204           |63819          |Debug: Detailed system state information.                     |\n",
            "|27.182.196.243 |2022-03-28 05:37:59|GET       |/history/apollo-11/                    |HTTPS/1.0  |414           |NULL           |Caution: System may require attention. Check logs for details.|\n",
            "|123.31.25.147  |2023-02-25 12:03:32|GET       |/data-analysis/missions/               |HTTP/1.0   |204           |75897          |Developer Note: Debug logs for troubleshooting.               |\n",
            "|220.182.78.75  |2022-12-22 12:55:00|GET       |/history/launch/                       |HTTP/2.0   |200           |84446          |Debugging information. For developer reference only.          |\n",
            "|206.186.128.82 |2023-10-13 07:21:13|GET       |/security/apollo-11/                   |HTTP/1.0   |404           |24520          |Debugging information. For developer reference only.          |\n",
            "|143.238.50.180 |2023-10-26 17:17:20|POST      |/data-analysis/missions/               |HTTPS/1.0  |307           |NULL           |Debugging information. For developer reference only.          |\n",
            "|12.33.251.59   |2022-08-15 15:59:37|GET       |/web-development/data/                 |HTTP/2.0   |203           |37029          |Warning: Unusual behavior detected. Investigate further.      |\n",
            "|39.107.109.242 |2023-10-08 07:07:24|PUT       |/shuttle/data/                         |HTTPS/1.0  |201           |NULL           |Informational message. No action required.                    |\n",
            "|250.231.144.68 |2022-06-22 19:17:24|POST      |/security/deep-learning/               |HTTPS/1.0  |500           |NULL           |Caution: System may require attention. Check logs for details.|\n",
            "|103.105.160.60 |2023-10-24 01:54:56|GET       |/shuttle/cybersecurity/                |HTTP/1.0   |416           |3924           |Warning: Unusual behavior detected. Investigate further.      |\n",
            "|246.167.148.159|2022-10-14 11:49:35|GET       |/security/deep-learning/               |HTTP/2.0   |500           |1685           |Debug: Detailed system state information.                     |\n",
            "|185.221.50.185 |2023-01-25 02:47:50|POST      |/images/frontend-frameworks-comparison/|HTTP/2.0   |308           |22650          |FYI: System operating within normal parameters.               |\n",
            "|144.143.171.58 |2022-08-30 08:04:05|PUT       |/software/apollo-11/                   |HTTP/2.0   |304           |49029          |Debugging information. For developer reference only.          |\n",
            "|131.119.14.93  |2022-06-26 16:40:44|GET       |/networking/launch/                    |HTTP/1.0   |205           |8159           |Potential issue detected. Please review and address.          |\n",
            "+---------------+-------------------+----------+---------------------------------------+-----------+--------------+---------------+--------------------------------------------------------------+\n",
            "only showing top 20 rows\n",
            "\n"
          ]
        }
      ]
    },
    {
      "cell_type": "markdown",
      "source": [
        "#**Two advanced DF Analysis with visualization**"
      ],
      "metadata": {
        "id": "YqaBnVf33MUf"
      }
    },
    {
      "cell_type": "markdown",
      "source": [
        "First query to find the percentage of requests in the web log with erros\n",
        "This query parses through the logs and finds the request that returned a 400 or 500 status code which indicate the request wasn't completed. It then calculates the percentage of these requests compared to the succesful requests.Unsuccessful request mean that customers aren't accessing a the businesss' website. This downtime could lead to serious losses since time is money and the more time is taken to resolve an error the less time consumers spend on your site. This could also hurt customer retention as no one wants to visit a site that is constantly down. Therefore an understanding of the failed requsts and what caused them is important in order to minimize theses errors in fututre and maximize profit"
      ],
      "metadata": {
        "id": "seNneodueBRx"
      }
    },
    {
      "cell_type": "code",
      "source": [
        "# Create temporary SQL table\n",
        "web_logs.createOrReplaceTempView(\"web_logs\")\n",
        "\n",
        "# SQL Query to calculate the percentage of error requests\n",
        "error_rate_query = \"\"\"\n",
        "SELECT\n",
        "    is_error,\n",
        "    COUNT(*) AS count,\n",
        "    (COUNT(*) * 100.0) / (SELECT COUNT(*) FROM web_logs) AS error_rate\n",
        "FROM (\n",
        "    SELECT\n",
        "        CASE\n",
        "            WHEN HttpStatusCode >= 400 AND HttpStatusCode < 600 THEN 1\n",
        "            ELSE 0\n",
        "        END AS is_error\n",
        "    FROM web_logs\n",
        ") grouped_logs\n",
        "GROUP BY is_error\n",
        "\"\"\"\n",
        "error_rate_df = spark.sql(error_rate_query)\n",
        "error_rate_df.show()\n"
      ],
      "metadata": {
        "colab": {
          "base_uri": "https://localhost:8080/"
        },
        "id": "liwO1BSLd6HC",
        "outputId": "9e5b9d7f-aec6-40eb-b171-c68e7d1976a5"
      },
      "execution_count": null,
      "outputs": [
        {
          "output_type": "stream",
          "name": "stdout",
          "text": [
            "+--------+-------+-----------------+\n",
            "|is_error|  count|       error_rate|\n",
            "+--------+-------+-----------------+\n",
            "|       1|1072125|35.73750000000000|\n",
            "|       0|1927875|64.26250000000000|\n",
            "+--------+-------+-----------------+\n",
            "\n"
          ]
        }
      ]
    },
    {
      "cell_type": "code",
      "source": [
        "import matplotlib.pyplot as plt\n",
        "# Convert the PySpark DataFrame to a Pandas DataFrame for easier manipulation\n",
        "error_rate_pandas = error_rate_df.toPandas()\n",
        "# Extract data for the pie chart\n",
        "labels = ['Successful Requests', 'Errors']\n",
        "sizes = [\n",
        "    error_rate_pandas[error_rate_pandas['is_error'] == 0]['error_rate'].values[0],\n",
        "    error_rate_pandas[error_rate_pandas['is_error'] == 1]['error_rate'].values[0]\n",
        "]\n",
        "# Generate the pie chart\n",
        "plt.figure(figsize=(6, 6))\n",
        "plt.pie(sizes, labels=labels, autopct='%1.1f%%', startangle=90, colors=['green', 'red'])\n",
        "plt.title('Errors vs Successful Requests')\n",
        "plt.axis('equal')  # Equal aspect ratio ensures the pie chart is circular\n",
        "plt.show()\n"
      ],
      "metadata": {
        "colab": {
          "base_uri": "https://localhost:8080/",
          "height": 521
        },
        "id": "dp8Gg-dfeO_I",
        "outputId": "2aa67693-042f-404e-b700-ff80efc92216"
      },
      "execution_count": null,
      "outputs": [
        {
          "output_type": "display_data",
          "data": {
            "text/plain": [
              "<Figure size 600x600 with 1 Axes>"
            ],
            "image/png": "[encoded data removed]"
          },
          "metadata": {}
        }
      ]
    },
    {
      "cell_type": "markdown",
      "source": [
        "this query further drills down on the error analysis to find the distribution of the type of error generated whether they are server side errors(500 status code) or user generated errors(400 staus code)"
      ],
      "metadata": {
        "id": "9ZSoBdaoeVtn"
      }
    },
    {
      "cell_type": "code",
      "source": [
        "client_error_count = web_logs.filter((web_logs.HttpStatusCode >= 400) & (web_logs.HttpStatusCode < 500)).count()\n",
        "print(f\"Number of client side errors : {client_error_count}\")\n",
        "server_error_count = web_logs.filter((web_logs.HttpStatusCode >= 500) & (web_logs.HttpStatusCode < 600)).count()\n",
        "print(f\"Number of serverside errors: {server_error_count}\")"
      ],
      "metadata": {
        "colab": {
          "base_uri": "https://localhost:8080/"
        },
        "id": "v7ClhODbeVU0",
        "outputId": "cb8ce554-5158-4763-fa84-cd3ca3a3b062"
      },
      "execution_count": null,
      "outputs": [
        {
          "output_type": "stream",
          "name": "stdout",
          "text": [
            "Number of client side errors : 857598\n",
            "Number of serverside errors: 214527\n"
          ]
        }
      ]
    },
    {
      "cell_type": "code",
      "source": [
        "# Bar graph to visualize the distribution of errors between user generated errors & server side errors\n",
        "error_counts = {\n",
        "    \"User Generated Errors\": client_error_count,\n",
        "    \"Server Side Errors\": server_error_count,\n",
        "}\n",
        "# Extract labels and values for the bar chart\n",
        "labels = list(error_counts.keys())\n",
        "values = list(error_counts.values())\n",
        "# Create the bar chart\n",
        "plt.figure(figsize=(8, 6))\n",
        "plt.bar(labels, values, color=['blue', 'blue'])\n",
        "plt.xlabel(\"Error Type\")\n",
        "plt.ylabel(\"Errors\")\n",
        "plt.title(\"Error Distribution\")\n",
        "\n",
        "plt.show()"
      ],
      "metadata": {
        "colab": {
          "base_uri": "https://localhost:8080/",
          "height": 564
        },
        "id": "IYb5lDhcecWJ",
        "outputId": "b571eb67-ae80-410b-c9fa-06b7eb6793be"
      },
      "execution_count": null,
      "outputs": [
        {
          "output_type": "display_data",
          "data": {
            "text/plain": [
              "<Figure size 800x600 with 1 Axes>"
            ],
            "image/png": "[encoded data removed]"
          },
          "metadata": {}
        }
      ]
    },
    {
      "cell_type": "markdown",
      "source": [
        "Second Query\n",
        "This query ranks url based on the average traffic they get per month. This can give valuable insights into which urls are the most popular and frequented by users"
      ],
      "metadata": {
        "id": "c5nSPEMNenOe"
      }
    },
    {
      "cell_type": "code",
      "source": [
        "#Sql query that calculates the avrage monthly users per domain and gives the top15 most poular\n",
        "query = \"\"\"\n",
        "SELECT Url, AVG(monthly_traffic) AS avg_monthly_traffic\n",
        "FROM (\n",
        "    SELECT Url, DATE_FORMAT(TimeStamp, 'yyyy-MM') AS month, COUNT(*) AS monthly_traffic\n",
        "    FROM web_logs\n",
        "    GROUP BY Url, month\n",
        ") AS monthly_url_traffic\n",
        "GROUP BY Url\n",
        "ORDER BY avg_monthly_traffic DESC\n",
        "LIMIT 15;\n",
        "\"\"\"\n",
        "result_df = spark.sql(query)\n",
        "result_df.show()\n"
      ],
      "metadata": {
        "colab": {
          "base_uri": "https://localhost:8080/"
        },
        "id": "F5Qk7UlXepZM",
        "outputId": "f873be65-6d1a-4608-fc09-096abcefc019"
      },
      "execution_count": null,
      "outputs": [
        {
          "output_type": "stream",
          "name": "stdout",
          "text": [
            "+--------------------+-------------------+\n",
            "|                 Url|avg_monthly_traffic|\n",
            "+--------------------+-------------------+\n",
            "|/data-analysis/ap...| 1106.0869565217392|\n",
            "|     /software/data/| 1103.5652173913043|\n",
            "|/web-development/...| 1101.8695652173913|\n",
            "| /history/countdown/| 1101.6521739130435|\n",
            "|/software/technol...| 1101.1739130434783|\n",
            "|/security/technol...|  1100.304347826087|\n",
            "|/networking/deep-...|             1100.0|\n",
            "|/networking/firew...| 1097.7826086956522|\n",
            "|/security/countdown/| 1097.3478260869565|\n",
            "|    /history/apollo/|  1097.304347826087|\n",
            "|/history/deep-lea...| 1096.6521739130435|\n",
            "|/data-analysis/co...| 1096.1739130434783|\n",
            "|  /images/apollo-11/| 1096.1304347826087|\n",
            "|/machine-learning...| 1095.1304347826087|\n",
            "|      /history/data/| 1095.0434782608695|\n",
            "+--------------------+-------------------+\n",
            "\n"
          ]
        }
      ]
    },
    {
      "cell_type": "code",
      "source": [
        "pdf_result = result_df.toPandas()\n",
        "\n",
        "# Create the bar plot\n",
        "plt.figure(figsize=(12, 6))\n",
        "plt.bar(pdf_result[\"Url\"], pdf_result[\"avg_monthly_traffic\"])\n",
        "plt.xlabel(\"URL\")\n",
        "plt.ylabel(\"Average Monthly Traffic\")\n",
        "plt.title(\"Top 15 URLs By Average Monthly Traffic\")\n",
        "plt.ylim(1000, 1110)  # Set the limits for the y-axis\n",
        "plt.yticks(range(1000, 1111, 10))\n",
        "plt.xticks(rotation=90)  # Rotate x-axis labels for readability\n",
        "plt.tight_layout()  # Adjust layout to prevent labels from overlapping\n",
        "plt.show()"
      ],
      "metadata": {
        "colab": {
          "base_uri": "https://localhost:8080/",
          "height": 607
        },
        "id": "wrhFxJLuewAa",
        "outputId": "11a7b1b4-e62e-4c06-8d3f-ef600fe21a5d"
      },
      "execution_count": null,
      "outputs": [
        {
          "output_type": "display_data",
          "data": {
            "text/plain": [
              "<Figure size 1200x600 with 1 Axes>"
            ],
            "image/png": "[encoded data removed]"
          },
          "metadata": {}
        }
      ]
    },
    {
      "cell_type": "markdown",
      "metadata": {
        "id": "dcJhGbI2BKpx"
      },
      "source": [
        "\n",
        "# **Task 2 - Data Processing using PySpark RDD [40 marks]**\n",
        "\n",
        "---\n"
      ]
    },
    {
      "cell_type": "code",
      "metadata": {
        "id": "A5mwMvIsBQlX"
      },
      "source": [
        "import re\n",
        "\n",
        "# Custom parser function\n",
        "def parse_log_entry(entry):\n",
        "    log_pattern = r'^(\\S+) - - \\[(.*?)\\] \"(.*?) (.*?) (.*?)\" (\\d+) (\\d+) (.*)$'\n",
        "    match = re.match(log_pattern, entry)\n",
        "    if match:\n",
        "        return {\n",
        "            \"IP\": match.group(1),\n",
        "            \"Timestamp\": match.group(2),\n",
        "            \"HttpMethod\": match.group(3),\n",
        "            \"URL\": match.group(4),\n",
        "            \"HttpVersion\": match.group(5),\n",
        "            \"StatusCode\": int(match.group(6)),\n",
        "            \"ResponseSize\": int(match.group(7)),\n",
        "            \"Message\": match.group(8),\n",
        "        }\n",
        "    else:\n",
        "        return None  # Handle malformed entries\n"
      ],
      "execution_count": null,
      "outputs": []
    },
    {
      "cell_type": "code",
      "source": [
        "log_file_path = \"/content/drive/MyDrive/Files/web.log\"\n",
        "logs_rdd = spark.sparkContext.textFile(log_file_path)\n",
        "\n",
        "# Parse the log entries\n",
        "parsed_rdd = logs_rdd.map(parse_log_entry).filter(lambda x: x is not None)\n",
        "\n",
        "# Extract specific fields for basic processing\n",
        "processed_rdd = parsed_rdd.map(lambda entry: (entry[\"IP\"], entry[\"Timestamp\"], entry[\"HttpMethod\"], entry[\"URL\"], entry[\"StatusCode\"], entry[\"ResponseSize\"], entry[\"Message\"]))"
      ],
      "metadata": {
        "id": "RB1LdqA2fN5J"
      },
      "execution_count": null,
      "outputs": []
    },
    {
      "cell_type": "code",
      "source": [
        "processed_rdd.take(5)"
      ],
      "metadata": {
        "colab": {
          "base_uri": "https://localhost:8080/"
        },
        "id": "VM1rXgNqfXS1",
        "outputId": "06f63140-60ab-4567-d249-a82de88b3fa4"
      },
      "execution_count": null,
      "outputs": [
        {
          "output_type": "execute_result",
          "data": {
            "text/plain": [
              "[('88.211.105.115',\n",
              "  '04/Mar/2022:14:17:48',\n",
              "  'POST',\n",
              "  '/history/missions/',\n",
              "  414,\n",
              "  12456,\n",
              "  'Caution: System may require attention. Check logs for details.'),\n",
              " ('144.6.49.142',\n",
              "  '02/Sep/2022:15:16:00',\n",
              "  'POST',\n",
              "  '/security/firewall/',\n",
              "  203,\n",
              "  97126,\n",
              "  'Warning: Unusual behavior detected. Investigate further.'),\n",
              " ('231.70.64.145',\n",
              "  '19/Jul/2022:01:31:31',\n",
              "  'PUT',\n",
              "  '/web-development/countdown/',\n",
              "  201,\n",
              "  33093,\n",
              "  'Informational message. No action required.'),\n",
              " ('219.42.234.172',\n",
              "  '08/Feb/2022:11:34:57',\n",
              "  'POST',\n",
              "  '/networking/technology/',\n",
              "  415,\n",
              "  68827,\n",
              "  'Debug: Detailed system state information.'),\n",
              " ('183.173.185.94',\n",
              "  '29/Aug/2023:03:07:11',\n",
              "  'GET',\n",
              "  '/security/firewall/',\n",
              "  205,\n",
              "  30374,\n",
              "  'Warning: Unusual behavior detected. Investigate further.')]"
            ]
          },
          "metadata": {},
          "execution_count": 17
        }
      ]
    },
    {
      "cell_type": "markdown",
      "source": [
        "# **One Basic RDD Analysis**"
      ],
      "metadata": {
        "id": "Cs6Qfa5C1ZpZ"
      }
    },
    {
      "cell_type": "markdown",
      "source": [
        "A log level or log severity is a piece of information telling how important a given log message is. It is a simple, yet very powerful way of distinguishing log events from each other. This query checks the requests that return a warning as part of their message. A warningt log level indicates that something unexpected happened in the application, a problem, or a situation that might disturb one of the processes. But that doesn’t mean that the application failed."
      ],
      "metadata": {
        "id": "s2QkJ0T8fhPc"
      }
    },
    {
      "cell_type": "code",
      "source": [
        "# Filter the RDD for rows with the log level warning in the message\n",
        "warning_messages = parsed_rdd.filter(lambda x: \"Warning\" in x['Message'])\n",
        "\n",
        "# Collect and display the results\n",
        "for request in warning_messages.take(30):\n",
        "    print(request)"
      ],
      "metadata": {
        "colab": {
          "base_uri": "https://localhost:8080/"
        },
        "id": "5ASufHQifcos",
        "outputId": "8e55b21f-8cfc-4849-9fb5-e06137d6b038"
      },
      "execution_count": null,
      "outputs": [
        {
          "output_type": "stream",
          "name": "stdout",
          "text": [
            "{'IP': '144.6.49.142', 'Timestamp': '02/Sep/2022:15:16:00', 'HttpMethod': 'POST', 'URL': '/security/firewall/', 'HttpVersion': 'HTTPS/1.0', 'StatusCode': 203, 'ResponseSize': 97126, 'Message': 'Warning: Unusual behavior detected. Investigate further.'}\n",
            "{'IP': '183.173.185.94', 'Timestamp': '29/Aug/2023:03:07:11', 'HttpMethod': 'GET', 'URL': '/security/firewall/', 'HttpVersion': 'HTTP/2.0', 'StatusCode': 205, 'ResponseSize': 30374, 'Message': 'Warning: Unusual behavior detected. Investigate further.'}\n",
            "{'IP': '12.33.251.59', 'Timestamp': '15/Aug/2022:15:59:37', 'HttpMethod': 'GET', 'URL': '/web-development/data/', 'HttpVersion': 'HTTP/2.0', 'StatusCode': 203, 'ResponseSize': 37029, 'Message': 'Warning: Unusual behavior detected. Investigate further.'}\n",
            "{'IP': '103.105.160.60', 'Timestamp': '24/Oct/2023:01:54:56', 'HttpMethod': 'GET', 'URL': '/shuttle/cybersecurity/', 'HttpVersion': 'HTTP/1.0', 'StatusCode': 416, 'ResponseSize': 3924, 'Message': 'Warning: Unusual behavior detected. Investigate further.'}\n",
            "{'IP': '155.22.118.135', 'Timestamp': '29/Mar/2022:16:04:41', 'HttpMethod': 'GET', 'URL': '/images/deep-learning/', 'HttpVersion': 'HTTPS/1.0', 'StatusCode': 404, 'ResponseSize': 35578, 'Message': 'Warning: Unusual behavior detected. Investigate further.'}\n",
            "{'IP': '26.22.112.17', 'Timestamp': '27/Jul/2023:02:16:35', 'HttpMethod': 'GET', 'URL': '/networking/frontend-frameworks-comparison/', 'HttpVersion': 'HTTP/1.0', 'StatusCode': 415, 'ResponseSize': 77391, 'Message': 'Warning: Unusual behavior detected. Investigate further.'}\n",
            "{'IP': '73.197.144.95', 'Timestamp': '21/Jun/2022:19:35:21', 'HttpMethod': 'POST', 'URL': '/security/data/', 'HttpVersion': 'HTTP/2.0', 'StatusCode': 205, 'ResponseSize': 66265, 'Message': 'Warning: Unusual behavior detected. Investigate further.'}\n",
            "{'IP': '17.56.217.163', 'Timestamp': '04/Dec/2022:04:33:05', 'HttpMethod': 'PUT', 'URL': '/history/data/', 'HttpVersion': 'HTTP/1.0', 'StatusCode': 307, 'ResponseSize': 3665, 'Message': 'Warning: Unusual behavior detected. Investigate further.'}\n",
            "{'IP': '155.24.8.49', 'Timestamp': '30/Dec/2022:10:52:19', 'HttpMethod': 'POST', 'URL': '/machine-learning/technology/', 'HttpVersion': 'HTTP/1.0', 'StatusCode': 202, 'ResponseSize': 47794, 'Message': 'Warning: Unusual behavior detected. Investigate further.'}\n",
            "{'IP': '41.251.132.194', 'Timestamp': '20/Oct/2023:12:42:56', 'HttpMethod': 'POST', 'URL': '/machine-learning/countdown/', 'HttpVersion': 'HTTPS/1.0', 'StatusCode': 500, 'ResponseSize': 83570, 'Message': 'Warning: Unusual behavior detected. Investigate further.'}\n",
            "{'IP': '24.72.7.2', 'Timestamp': '13/Jan/2023:11:17:20', 'HttpMethod': 'POST', 'URL': '/cloud-computing/frontend-frameworks-comparison/', 'HttpVersion': 'HTTPS/1.0', 'StatusCode': 204, 'ResponseSize': 69998, 'Message': 'Warning: Unusual behavior detected. Investigate further.'}\n",
            "{'IP': '230.89.159.50', 'Timestamp': '11/Nov/2023:00:45:07', 'HttpMethod': 'GET', 'URL': '/data-analysis/deep-learning/', 'HttpVersion': 'HTTP/2.0', 'StatusCode': 416, 'ResponseSize': 29843, 'Message': 'Warning: Unusual behavior detected. Investigate further.'}\n",
            "{'IP': '201.51.160.86', 'Timestamp': '07/Mar/2023:06:17:56', 'HttpMethod': 'GET', 'URL': '/images/frontend-frameworks-comparison/', 'HttpVersion': 'HTTP/2.0', 'StatusCode': 205, 'ResponseSize': 4675, 'Message': 'Warning: Unusual behavior detected. Investigate further.'}\n",
            "{'IP': '40.40.178.96', 'Timestamp': '16/Apr/2023:03:24:25', 'HttpMethod': 'PUT', 'URL': '/security/frontend-frameworks-comparison/', 'HttpVersion': 'HTTP/1.0', 'StatusCode': 204, 'ResponseSize': 28632, 'Message': 'Warning: Unusual behavior detected. Investigate further.'}\n",
            "{'IP': '125.205.53.44', 'Timestamp': '02/May/2023:09:45:19', 'HttpMethod': 'PUT', 'URL': '/machine-learning/apollo/', 'HttpVersion': 'HTTPS/1.0', 'StatusCode': 415, 'ResponseSize': 65995, 'Message': 'Warning: Unusual behavior detected. Investigate further.'}\n",
            "{'IP': '69.119.138.160', 'Timestamp': '29/Oct/2022:16:39:24', 'HttpMethod': 'GET', 'URL': '/security/cybersecurity/', 'HttpVersion': 'HTTP/2.0', 'StatusCode': 416, 'ResponseSize': 71525, 'Message': 'Warning: Unusual behavior detected. Investigate further.'}\n",
            "{'IP': '218.179.26.158', 'Timestamp': '29/Jun/2022:10:09:54', 'HttpMethod': 'POST', 'URL': '/machine-learning/missions/', 'HttpVersion': 'HTTP/2.0', 'StatusCode': 404, 'ResponseSize': 65123, 'Message': 'Warning: Unusual behavior detected. Investigate further.'}\n",
            "{'IP': '61.46.199.12', 'Timestamp': '29/Jun/2023:18:00:51', 'HttpMethod': 'PUT', 'URL': '/images/apollo-11/', 'HttpVersion': 'HTTPS/1.0', 'StatusCode': 205, 'ResponseSize': 45890, 'Message': 'Warning: Unusual behavior detected. Investigate further.'}\n",
            "{'IP': '108.206.179.37', 'Timestamp': '05/May/2022:06:33:03', 'HttpMethod': 'GET', 'URL': '/security/apollo/', 'HttpVersion': 'HTTPS/1.0', 'StatusCode': 203, 'ResponseSize': 50703, 'Message': 'Warning: Unusual behavior detected. Investigate further.'}\n",
            "{'IP': '163.240.84.123', 'Timestamp': '18/Mar/2023:01:44:38', 'HttpMethod': 'GET', 'URL': '/cloud-computing/apollo/', 'HttpVersion': 'HTTP/1.0', 'StatusCode': 205, 'ResponseSize': 22876, 'Message': 'Warning: Unusual behavior detected. Investigate further.'}\n",
            "{'IP': '183.37.242.139', 'Timestamp': '21/Apr/2022:03:23:25', 'HttpMethod': 'POST', 'URL': '/images/launch/', 'HttpVersion': 'HTTP/1.0', 'StatusCode': 205, 'ResponseSize': 58979, 'Message': 'Warning: Unusual behavior detected. Investigate further.'}\n",
            "{'IP': '218.202.42.179', 'Timestamp': '14/Jul/2023:02:20:22', 'HttpMethod': 'POST', 'URL': '/software/apollo-11/', 'HttpVersion': 'HTTP/1.0', 'StatusCode': 204, 'ResponseSize': 8575, 'Message': 'Warning: Unusual behavior detected. Investigate further.'}\n",
            "{'IP': '107.43.227.16', 'Timestamp': '31/May/2023:03:53:37', 'HttpMethod': 'POST', 'URL': '/machine-learning/frontend-frameworks-comparison/', 'HttpVersion': 'HTTP/2.0', 'StatusCode': 304, 'ResponseSize': 13965, 'Message': 'Warning: Unusual behavior detected. Investigate further.'}\n",
            "{'IP': '184.101.4.9', 'Timestamp': '06/May/2023:13:39:19', 'HttpMethod': 'PUT', 'URL': '/shuttle/technology/', 'HttpVersion': 'HTTPS/1.0', 'StatusCode': 414, 'ResponseSize': 44286, 'Message': 'Warning: Unusual behavior detected. Investigate further.'}\n",
            "{'IP': '159.190.249.178', 'Timestamp': '27/Dec/2022:11:06:11', 'HttpMethod': 'PUT', 'URL': '/history/apollo-11/', 'HttpVersion': 'HTTP/1.0', 'StatusCode': 202, 'ResponseSize': 97547, 'Message': 'Warning: Unusual behavior detected. Investigate further.'}\n",
            "{'IP': '202.37.160.26', 'Timestamp': '12/May/2023:03:52:57', 'HttpMethod': 'GET', 'URL': '/cloud-computing/deep-learning/', 'HttpVersion': 'HTTP/1.0', 'StatusCode': 202, 'ResponseSize': 30281, 'Message': 'Warning: Unusual behavior detected. Investigate further.'}\n",
            "{'IP': '66.106.18.183', 'Timestamp': '17/Jan/2022:03:39:50', 'HttpMethod': 'PUT', 'URL': '/security/launch/', 'HttpVersion': 'HTTP/1.0', 'StatusCode': 200, 'ResponseSize': 37943, 'Message': 'Warning: Unusual behavior detected. Investigate further.'}\n",
            "{'IP': '188.50.251.231', 'Timestamp': '07/Sep/2022:23:42:23', 'HttpMethod': 'POST', 'URL': '/data-analysis/aws-certification/', 'HttpVersion': 'HTTPS/1.0', 'StatusCode': 205, 'ResponseSize': 59850, 'Message': 'Warning: Unusual behavior detected. Investigate further.'}\n",
            "{'IP': '149.36.66.124', 'Timestamp': '09/Dec/2022:17:40:08', 'HttpMethod': 'GET', 'URL': '/history/frontend-frameworks-comparison/', 'HttpVersion': 'HTTPS/1.0', 'StatusCode': 204, 'ResponseSize': 78610, 'Message': 'Warning: Unusual behavior detected. Investigate further.'}\n",
            "{'IP': '220.132.232.168', 'Timestamp': '26/Oct/2022:20:10:51', 'HttpMethod': 'POST', 'URL': '/networking/missions/', 'HttpVersion': 'HTTPS/1.0', 'StatusCode': 416, 'ResponseSize': 18223, 'Message': 'Warning: Unusual behavior detected. Investigate further.'}\n"
          ]
        }
      ]
    },
    {
      "cell_type": "markdown",
      "source": [
        "#**Two Advanced RDD Analysis**"
      ],
      "metadata": {
        "id": "xysVpB1K1wMn"
      }
    },
    {
      "cell_type": "markdown",
      "source": [
        "This query finds the top 20 ip adresses that have made the most requests in the logs. This could be useful to a comapny to gain an insight into their most frequent visitors and allow the business to cater to their needs."
      ],
      "metadata": {
        "id": "IUQsfNlml-no"
      }
    },
    {
      "cell_type": "code",
      "source": [
        "# Map IP addresses to a tuple (IP, 1) and count occurrences\n",
        "ip_request_counts = (parsed_rdd\n",
        "                     .map(lambda x: (x['IP'], 1))\n",
        "                     .reduceByKey(lambda a, b: a + b)  # Aggregate counts by IP\n",
        "                     .sortBy(lambda x: x[1], ascending=False))  # Sort by count in descending order\n",
        "\n",
        "# Collect and display the top 20 IPs with the most requests\n",
        "top_ips = ip_request_counts.take(20)\n",
        "for ip, count in top_ips:\n",
        "    print(f\"IP: {ip}, Requests: {count}\")"
      ],
      "metadata": {
        "colab": {
          "base_uri": "https://localhost:8080/"
        },
        "id": "Rm73i4bCfrOe",
        "outputId": "89adc517-5db1-46b8-f39a-93341d026c77"
      },
      "execution_count": null,
      "outputs": [
        {
          "output_type": "stream",
          "name": "stdout",
          "text": [
            "IP: 61.203.220.155, Requests: 2\n",
            "IP: 225.2.68.42, Requests: 2\n",
            "IP: 189.15.120.110, Requests: 2\n",
            "IP: 190.63.218.54, Requests: 2\n",
            "IP: 18.133.225.189, Requests: 2\n",
            "IP: 94.197.23.111, Requests: 2\n",
            "IP: 221.28.12.178, Requests: 2\n",
            "IP: 11.161.68.4, Requests: 2\n",
            "IP: 146.73.243.9, Requests: 2\n",
            "IP: 240.63.45.243, Requests: 2\n",
            "IP: 147.243.61.67, Requests: 2\n",
            "IP: 198.103.243.30, Requests: 2\n",
            "IP: 199.11.17.127, Requests: 2\n",
            "IP: 2.235.47.16, Requests: 2\n",
            "IP: 223.78.179.107, Requests: 2\n",
            "IP: 101.41.70.77, Requests: 2\n",
            "IP: 137.230.40.139, Requests: 2\n",
            "IP: 180.206.85.128, Requests: 2\n",
            "IP: 114.237.203.188, Requests: 2\n",
            "IP: 200.113.99.229, Requests: 2\n"
          ]
        }
      ]
    },
    {
      "cell_type": "markdown",
      "source": [
        "The query has a look at the requests that weren't completed and gropups them by url to give a picture of which urls had the most failed requests"
      ],
      "metadata": {
        "id": "oNihp5--n-ZU"
      }
    },
    {
      "cell_type": "code",
      "source": [
        "# Filter failed requests and group by URL\n",
        "failed_requests = parsed_rdd.filter(lambda x: x['StatusCode'] != 200).map(lambda x: (x['URL'], 1)).groupByKey()\n",
        "\n",
        "# Count failed requests for each URL\n",
        "failed_request_counts = failed_requests.mapValues(lambda failures: sum(failures))\n",
        "\n",
        "# Collect and display the results\n",
        "for url, count in failed_request_counts.collect():\n",
        "    print(f\"URL: {url}, Failed Requests: {count}\")"
      ],
      "metadata": {
        "colab": {
          "base_uri": "https://localhost:8080/"
        },
        "id": "wc47Z0i4f0lQ",
        "outputId": "7a3890f4-1667-4f91-ee6f-3722d964c084"
      },
      "execution_count": null,
      "outputs": [
        {
          "output_type": "stream",
          "name": "stdout",
          "text": [
            "URL: /security/firewall/, Failed Requests: 23120\n",
            "URL: /history/apollo-11/, Failed Requests: 22881\n",
            "URL: /shuttle/data/, Failed Requests: 23164\n",
            "URL: /web-development/firewall/, Failed Requests: 23022\n",
            "URL: /machine-learning/apollo-11/, Failed Requests: 23020\n",
            "URL: /machine-learning/technology/, Failed Requests: 22910\n",
            "URL: /web-development/deep-learning/, Failed Requests: 23285\n",
            "URL: /images/firewall/, Failed Requests: 22959\n",
            "URL: /software/data/, Failed Requests: 23552\n",
            "URL: /images/apollo-11/, Failed Requests: 23477\n",
            "URL: /security/launch/, Failed Requests: 23048\n",
            "URL: /shuttle/cybersecurity/, Failed Requests: 23297\n",
            "URL: /software/apollo-11/, Failed Requests: 23271\n",
            "URL: /security/missions/, Failed Requests: 23052\n",
            "URL: /data-analysis/cybersecurity/, Failed Requests: 23365\n",
            "URL: /machine-learning/cybersecurity/, Failed Requests: 23186\n",
            "URL: /networking/aws-certification/, Failed Requests: 23048\n",
            "URL: /shuttle/apollo-11/, Failed Requests: 23231\n",
            "URL: /software/firewall/, Failed Requests: 23239\n",
            "URL: /images/aws-certification/, Failed Requests: 22980\n",
            "URL: /cloud-computing/cybersecurity/, Failed Requests: 23173\n",
            "URL: /web-development/frontend-frameworks-comparison/, Failed Requests: 22965\n",
            "URL: /security/frontend-frameworks-comparison/, Failed Requests: 23174\n",
            "URL: /networking/apollo/, Failed Requests: 23327\n",
            "URL: /cloud-computing/firewall/, Failed Requests: 23271\n",
            "URL: /networking/technology/, Failed Requests: 22961\n",
            "URL: /web-development/data/, Failed Requests: 23403\n",
            "URL: /networking/launch/, Failed Requests: 23008\n",
            "URL: /web-development/apollo-11/, Failed Requests: 23328\n",
            "URL: /web-development/technology/, Failed Requests: 23272\n",
            "URL: /data-analysis/firewall/, Failed Requests: 23169\n",
            "URL: /cloud-computing/data/, Failed Requests: 23053\n",
            "URL: /images/missions/, Failed Requests: 23199\n",
            "URL: /shuttle/missions/, Failed Requests: 23047\n",
            "URL: /web-development/apollo/, Failed Requests: 23208\n",
            "URL: /web-development/missions/, Failed Requests: 23530\n",
            "URL: /machine-learning/apollo/, Failed Requests: 23000\n",
            "URL: /web-development/cybersecurity/, Failed Requests: 23093\n",
            "URL: /images/launch/, Failed Requests: 23043\n",
            "URL: /software/cybersecurity/, Failed Requests: 23046\n",
            "URL: /data-analysis/missions/, Failed Requests: 23023\n",
            "URL: /shuttle/aws-certification/, Failed Requests: 22985\n",
            "URL: /networking/firewall/, Failed Requests: 23455\n",
            "URL: /history/aws-certification/, Failed Requests: 23203\n",
            "URL: /security/aws-certification/, Failed Requests: 23306\n",
            "URL: /images/countdown/, Failed Requests: 23170\n",
            "URL: /software/apollo/, Failed Requests: 22976\n",
            "URL: /data-analysis/deep-learning/, Failed Requests: 23373\n",
            "URL: /web-development/launch/, Failed Requests: 23223\n",
            "URL: /security/apollo-11/, Failed Requests: 23179\n",
            "URL: /images/deep-learning/, Failed Requests: 23064\n",
            "URL: /software/aws-certification/, Failed Requests: 23203\n",
            "URL: /data-analysis/frontend-frameworks-comparison/, Failed Requests: 23381\n",
            "URL: /history/cybersecurity/, Failed Requests: 23259\n",
            "URL: /software/missions/, Failed Requests: 23358\n",
            "URL: /cloud-computing/frontend-frameworks-comparison/, Failed Requests: 23110\n",
            "URL: /security/cybersecurity/, Failed Requests: 23071\n",
            "URL: /networking/apollo-11/, Failed Requests: 23283\n",
            "URL: /networking/cybersecurity/, Failed Requests: 23085\n",
            "URL: /shuttle/apollo/, Failed Requests: 23116\n",
            "URL: /history/apollo/, Failed Requests: 23467\n",
            "URL: /images/frontend-frameworks-comparison/, Failed Requests: 23155\n",
            "URL: /shuttle/launch/, Failed Requests: 23219\n",
            "URL: /images/technology/, Failed Requests: 23225\n",
            "URL: /history/frontend-frameworks-comparison/, Failed Requests: 23106\n",
            "URL: /software/deep-learning/, Failed Requests: 23336\n",
            "URL: /machine-learning/firewall/, Failed Requests: 23091\n",
            "URL: /security/deep-learning/, Failed Requests: 23302\n",
            "URL: /data-analysis/apollo/, Failed Requests: 23632\n",
            "URL: /history/firewall/, Failed Requests: 23173\n",
            "URL: /shuttle/firewall/, Failed Requests: 23369\n",
            "URL: /machine-learning/countdown/, Failed Requests: 23473\n",
            "URL: /shuttle/frontend-frameworks-comparison/, Failed Requests: 23044\n",
            "URL: /shuttle/technology/, Failed Requests: 23204\n",
            "URL: /cloud-computing/apollo-11/, Failed Requests: 23282\n",
            "URL: /machine-learning/missions/, Failed Requests: 23213\n",
            "URL: /machine-learning/data/, Failed Requests: 23243\n",
            "URL: /networking/data/, Failed Requests: 23259\n",
            "URL: /machine-learning/aws-certification/, Failed Requests: 23143\n",
            "URL: /shuttle/countdown/, Failed Requests: 23266\n",
            "URL: /data-analysis/technology/, Failed Requests: 23304\n",
            "URL: /cloud-computing/technology/, Failed Requests: 23153\n",
            "URL: /software/technology/, Failed Requests: 23544\n",
            "URL: /machine-learning/launch/, Failed Requests: 23306\n",
            "URL: /images/apollo/, Failed Requests: 23403\n",
            "URL: /networking/countdown/, Failed Requests: 23401\n",
            "URL: /history/countdown/, Failed Requests: 23495\n",
            "URL: /history/technology/, Failed Requests: 23407\n",
            "URL: /software/countdown/, Failed Requests: 23060\n",
            "URL: /data-analysis/launch/, Failed Requests: 23061\n",
            "URL: /history/deep-learning/, Failed Requests: 23416\n",
            "URL: /machine-learning/deep-learning/, Failed Requests: 23361\n",
            "URL: /machine-learning/frontend-frameworks-comparison/, Failed Requests: 23016\n",
            "URL: /software/launch/, Failed Requests: 23300\n",
            "URL: /cloud-computing/aws-certification/, Failed Requests: 23311\n",
            "URL: /images/cybersecurity/, Failed Requests: 23058\n",
            "URL: /history/data/, Failed Requests: 23393\n",
            "URL: /security/technology/, Failed Requests: 23431\n",
            "URL: /networking/deep-learning/, Failed Requests: 23477\n",
            "URL: /cloud-computing/launch/, Failed Requests: 23326\n",
            "URL: /history/launch/, Failed Requests: 23192\n",
            "URL: /shuttle/deep-learning/, Failed Requests: 23187\n",
            "URL: /networking/missions/, Failed Requests: 23375\n",
            "URL: /cloud-computing/countdown/, Failed Requests: 23101\n",
            "URL: /cloud-computing/apollo/, Failed Requests: 23121\n",
            "URL: /cloud-computing/deep-learning/, Failed Requests: 22941\n",
            "URL: /security/data/, Failed Requests: 23013\n",
            "URL: /data-analysis/data/, Failed Requests: 23089\n",
            "URL: /security/countdown/, Failed Requests: 23400\n",
            "URL: /web-development/aws-certification/, Failed Requests: 22900\n",
            "URL: /data-analysis/countdown/, Failed Requests: 23365\n",
            "URL: /history/missions/, Failed Requests: 23407\n",
            "URL: /web-development/countdown/, Failed Requests: 22952\n",
            "URL: /networking/frontend-frameworks-comparison/, Failed Requests: 23315\n",
            "URL: /data-analysis/apollo-11/, Failed Requests: 23277\n",
            "URL: /security/apollo/, Failed Requests: 23203\n",
            "URL: /images/data/, Failed Requests: 23098\n",
            "URL: /data-analysis/aws-certification/, Failed Requests: 22940\n",
            "URL: /software/frontend-frameworks-comparison/, Failed Requests: 23325\n",
            "URL: /cloud-computing/missions/, Failed Requests: 23383\n"
          ]
        }
      ]
    },
    {
      "cell_type": "markdown",
      "source": [
        "The insights gained by this query are basically finding the urls with the most errors since we'd previously established most failed requests to the system are due to user generated errors, we can gain an insight on which url users tend to have trouble accesing. This allows the business to optimize their url to try and minimize the errors"
      ],
      "metadata": {
        "id": "dzviqF2olYhK"
      }
    },
    {
      "cell_type": "markdown",
      "source": [
        "#Caching vs No Caching\n",
        "Examining the impact of caching on the query times. The caching method chosen was caching on memory and disk to see the results. The impact of caching was that he query ran faster going from 9.81 seconds total time when not cached to 1.17 seconds when cached"
      ],
      "metadata": {
        "id": "roTRl9oQpa1w"
      }
    },
    {
      "cell_type": "code",
      "source": [
        "\n",
        "%%time\n",
        "from pyspark.sql.functions import col, when, count\n",
        "# Grouping requests by month to observe traffic trends through the year\n",
        "from pyspark.sql.functions import month\n",
        "# Extract the month from the timestamp\n",
        "monthly_trends = web_logs.withColumn(\"Month\", month(\"TimeStamp\")) \\\n",
        "                            .groupBy(\"Month\") \\\n",
        "                            .agg(count(\"*\").alias(\"RequestCount\")) \\\n",
        "                            .orderBy(\"Month\")\n",
        "monthly_trends.show()"
      ],
      "metadata": {
        "id": "Gu3ere9c5wJ4",
        "colab": {
          "base_uri": "https://localhost:8080/"
        },
        "outputId": "6a462709-ff1d-43af-e2b4-57c1dca19a3a"
      },
      "execution_count": null,
      "outputs": [
        {
          "output_type": "stream",
          "name": "stdout",
          "text": [
            "+-----+------------+\n",
            "|Month|RequestCount|\n",
            "+-----+------------+\n",
            "|    1|      272705|\n",
            "|    2|      246195|\n",
            "|    3|      271725|\n",
            "|    4|      264551|\n",
            "|    5|      273201|\n",
            "|    6|      263867|\n",
            "|    7|      273207|\n",
            "|    8|      272551|\n",
            "|    9|      264382|\n",
            "|   10|      272960|\n",
            "|   11|      188249|\n",
            "|   12|      136407|\n",
            "+-----+------------+\n",
            "\n",
            "CPU times: user 92.6 ms, sys: 7.71 ms, total: 100 ms\n",
            "Wall time: 12.7 s\n"
          ]
        }
      ]
    },
    {
      "cell_type": "code",
      "source": [
        "%%time\n",
        "#cached\n",
        "from pyspark import StorageLevel\n",
        "web_logs.persist(StorageLevel.MEMORY_AND_DISK)\n",
        "# Grouping requests by month to observe traffic trends through the year\n",
        "from pyspark.sql.functions import month\n",
        "# Extract the month from the timestamp\n",
        "monthly_trends = web_logs.withColumn(\"Month\", month(\"TimeStamp\")) \\\n",
        "                            .groupBy(\"Month\") \\\n",
        "                            .agg(count(\"*\").alias(\"RequestCount\")) \\\n",
        "                            .orderBy(\"Month\")\n",
        "monthly_trends.show()\n"
      ],
      "metadata": {
        "colab": {
          "base_uri": "https://localhost:8080/"
        },
        "id": "niTx-NvigKCc",
        "outputId": "2f9bbf8f-91b5-47a2-8ee1-0bc4ec4fc997"
      },
      "execution_count": null,
      "outputs": [
        {
          "output_type": "stream",
          "name": "stdout",
          "text": [
            "+-----+------------+\n",
            "|Month|RequestCount|\n",
            "+-----+------------+\n",
            "|    1|      272705|\n",
            "|    2|      246195|\n",
            "|    3|      271725|\n",
            "|    4|      264551|\n",
            "|    5|      273201|\n",
            "|    6|      263867|\n",
            "|    7|      273207|\n",
            "|    8|      272551|\n",
            "|    9|      264382|\n",
            "|   10|      272960|\n",
            "|   11|      188249|\n",
            "|   12|      136407|\n",
            "+-----+------------+\n",
            "\n",
            "CPU times: user 458 ms, sys: 48.6 ms, total: 506 ms\n",
            "Wall time: 1min 20s\n"
          ]
        }
      ]
    },
    {
      "cell_type": "code",
      "source": [
        "%%time\n",
        "# Extract the month from the timestamp\n",
        "monthly_trends = web_logs.withColumn(\"Month\", month(\"TimeStamp\")) \\\n",
        "                            .groupBy(\"Month\") \\\n",
        "                            .agg(count(\"*\").alias(\"RequestCount\")) \\\n",
        "                            .orderBy(\"Month\")\n",
        "monthly_trends.show()"
      ],
      "metadata": {
        "colab": {
          "base_uri": "https://localhost:8080/"
        },
        "id": "b_FQQJgagP27",
        "outputId": "581daf9a-7b36-4b50-cc9e-7f02276e47a8"
      },
      "execution_count": null,
      "outputs": [
        {
          "output_type": "stream",
          "name": "stdout",
          "text": [
            "+-----+------------+\n",
            "|Month|RequestCount|\n",
            "+-----+------------+\n",
            "|    1|      272705|\n",
            "|    2|      246195|\n",
            "|    3|      271725|\n",
            "|    4|      264551|\n",
            "|    5|      273201|\n",
            "|    6|      263867|\n",
            "|    7|      273207|\n",
            "|    8|      272551|\n",
            "|    9|      264382|\n",
            "|   10|      272960|\n",
            "|   11|      188249|\n",
            "|   12|      136407|\n",
            "+-----+------------+\n",
            "\n",
            "CPU times: user 21.3 ms, sys: 2.23 ms, total: 23.6 ms\n",
            "Wall time: 1.72 s\n"
          ]
        }
      ]
    },
    {
      "cell_type": "markdown",
      "source": [
        "#Partitioning\n",
        "Examining different repartitoning techniques and their imapct. We look into two techniques a repartitioning operation and a coalacing operation. Repartioning fully shuffles the data and redistributes it equally in the partitions while coalacing doesn't perform a full shuffling operation thus the data isn't well balanced in the partitons. The repartitoning was done to have an even number of partitions(8) to maximize parallel proccessing. The impact in time was significant with the repartiontioned data which had 128 mb per partition performing the query in 15.6 seconds compared to 40.7 seconds for the default data without repartioning and 44.5 seconds for the coalaced data"
      ],
      "metadata": {
        "id": "00tnlpkRsJ0e"
      }
    },
    {
      "cell_type": "code",
      "source": [
        "#check the number of default partitions\n",
        "print(parsed_rdd.getNumPartitions())"
      ],
      "metadata": {
        "colab": {
          "base_uri": "https://localhost:8080/"
        },
        "id": "lr5LI-JXg2zN",
        "outputId": "516e21e6-86a0-4268-e75f-055ebdfc445b"
      },
      "execution_count": null,
      "outputs": [
        {
          "output_type": "stream",
          "name": "stdout",
          "text": [
            "13\n"
          ]
        }
      ]
    },
    {
      "cell_type": "code",
      "source": [
        "# check the number of records in each partition\n",
        "partition_data = parsed_rdd.glom().collect()\n",
        "for i, partition in enumerate(partition_data):\n",
        "    print(f\"Partition {i} has {len(partition)} records\")\n"
      ],
      "metadata": {
        "colab": {
          "base_uri": "https://localhost:8080/"
        },
        "id": "F6nf2lh7g2mC",
        "outputId": "00803ad7-52e6-43a1-a28c-0073e0c2a263"
      },
      "execution_count": null,
      "outputs": [
        {
          "output_type": "stream",
          "name": "stdout",
          "text": [
            "Partition 0 has 233183 records\n",
            "Partition 1 has 233160 records\n",
            "Partition 2 has 233177 records\n",
            "Partition 3 has 233219 records\n",
            "Partition 4 has 233140 records\n",
            "Partition 5 has 233188 records\n",
            "Partition 6 has 233200 records\n",
            "Partition 7 has 233173 records\n",
            "Partition 8 has 233156 records\n",
            "Partition 9 has 233191 records\n",
            "Partition 10 has 233186 records\n",
            "Partition 11 has 233197 records\n",
            "Partition 12 has 201830 records\n"
          ]
        }
      ]
    },
    {
      "cell_type": "code",
      "source": [
        "# check the size in memory of each partiton\n",
        "import sys\n",
        "\n",
        "def get_partition_sizes(rdd):\n",
        "    partition_sizes = (\n",
        "        rdd.mapPartitions(lambda partition: [sum(sys.getsizeof(record) for record in partition)])\n",
        "        .collect()\n",
        "    )\n",
        "    return partition_sizes\n",
        "partition_sizes = get_partition_sizes(parsed_rdd)\n",
        "for i, size in enumerate(partition_sizes):\n",
        "    print(f\"Partition {i}: {size} bytes\")\n",
        "def format_size(size_in_bytes):\n",
        "    for unit in ['B', 'KB', 'MB', 'GB']:\n",
        "        if size_in_bytes < 1024:\n",
        "            return f\"{size_in_bytes:.2f} {unit}\"\n",
        "        size_in_bytes /= 1024\n",
        "    return f\"{size_in_bytes:.2f} TB\"\n",
        "\n",
        "for i, size in enumerate(partition_sizes):\n",
        "    print(f\"Partition {i}: {format_size(size)}\")"
      ],
      "metadata": {
        "colab": {
          "base_uri": "https://localhost:8080/"
        },
        "id": "WuYKpPFlg_uR",
        "outputId": "3daacfbb-31ed-4fd2-899f-a9250d4d96c4"
      },
      "execution_count": null,
      "outputs": [
        {
          "output_type": "stream",
          "name": "stdout",
          "text": [
            "Partition 0: 83945880 bytes\n",
            "Partition 1: 83937600 bytes\n",
            "Partition 2: 83943720 bytes\n",
            "Partition 3: 83958840 bytes\n",
            "Partition 4: 83930400 bytes\n",
            "Partition 5: 83947680 bytes\n",
            "Partition 6: 83952000 bytes\n",
            "Partition 7: 83942280 bytes\n",
            "Partition 8: 83936160 bytes\n",
            "Partition 9: 83948760 bytes\n",
            "Partition 10: 83946960 bytes\n",
            "Partition 11: 83950920 bytes\n",
            "Partition 12: 72658800 bytes\n",
            "Partition 0: 80.06 MB\n",
            "Partition 1: 80.05 MB\n",
            "Partition 2: 80.05 MB\n",
            "Partition 3: 80.07 MB\n",
            "Partition 4: 80.04 MB\n",
            "Partition 5: 80.06 MB\n",
            "Partition 6: 80.06 MB\n",
            "Partition 7: 80.05 MB\n",
            "Partition 8: 80.05 MB\n",
            "Partition 9: 80.06 MB\n",
            "Partition 10: 80.06 MB\n",
            "Partition 11: 80.06 MB\n",
            "Partition 12: 69.29 MB\n"
          ]
        }
      ]
    },
    {
      "cell_type": "code",
      "source": [
        "coalaced_rdd = parsed_rdd.coalesce(8)  #  Coalesce\n",
        "print(f\"Number of partitions after coalacing: {coalaced_rdd.getNumPartitions()}\")"
      ],
      "metadata": {
        "colab": {
          "base_uri": "https://localhost:8080/"
        },
        "id": "VhD549iXhO2m",
        "outputId": "d1df6ba3-9faa-4e0b-9598-02c3c7d1751d"
      },
      "execution_count": null,
      "outputs": [
        {
          "output_type": "stream",
          "name": "stdout",
          "text": [
            "Number of partitions after coalacing: 8\n"
          ]
        }
      ]
    },
    {
      "cell_type": "code",
      "source": [
        "partition_data = coalaced_rdd.glom().collect()\n",
        "for i, partition in enumerate(partition_data):\n",
        "    print(f\"Partition {i} has {len(partition)} records\")"
      ],
      "metadata": {
        "colab": {
          "base_uri": "https://localhost:8080/"
        },
        "id": "z3B15F3_hW9K",
        "outputId": "f5ba40a8-e9c6-4297-f232-b4fd7e074a3b"
      },
      "execution_count": null,
      "outputs": [
        {
          "output_type": "stream",
          "name": "stdout",
          "text": [
            "Partition 0 has 233183 records\n",
            "Partition 1 has 466337 records\n",
            "Partition 2 has 233219 records\n",
            "Partition 3 has 466328 records\n",
            "Partition 4 has 466373 records\n",
            "Partition 5 has 233156 records\n",
            "Partition 6 has 466377 records\n",
            "Partition 7 has 435027 records\n"
          ]
        }
      ]
    },
    {
      "cell_type": "code",
      "source": [
        "import sys\n",
        "\n",
        "def get_partition_sizes(rdd):\n",
        "    partition_sizes = (\n",
        "        rdd.mapPartitions(lambda partition: [sum(sys.getsizeof(record) for record in partition)])\n",
        "        .collect()\n",
        "    )\n",
        "    return partition_sizes\n",
        "partition_sizes = get_partition_sizes(coalaced_rdd)\n",
        "for i, size in enumerate(partition_sizes):\n",
        "    print(f\"Partition {i}: {size} bytes\")\n",
        "def format_size(size_in_bytes):\n",
        "    for unit in ['B', 'KB', 'MB', 'GB']:\n",
        "        if size_in_bytes < 1024:\n",
        "            return f\"{size_in_bytes:.2f} {unit}\"\n",
        "        size_in_bytes /= 1024\n",
        "    return f\"{size_in_bytes:.2f} TB\"\n",
        "\n",
        "for i, size in enumerate(partition_sizes):\n",
        "    print(f\"Partition {i}: {format_size(size)}\")"
      ],
      "metadata": {
        "colab": {
          "base_uri": "https://localhost:8080/"
        },
        "id": "yia-Qi5ch3T7",
        "outputId": "cfe6ca46-65a2-488c-e79e-cb8460ff1bb6"
      },
      "execution_count": null,
      "outputs": [
        {
          "output_type": "stream",
          "name": "stdout",
          "text": [
            "Partition 0: 83945880 bytes\n",
            "Partition 1: 167881320 bytes\n",
            "Partition 2: 83958840 bytes\n",
            "Partition 3: 167878080 bytes\n",
            "Partition 4: 167894280 bytes\n",
            "Partition 5: 83936160 bytes\n",
            "Partition 6: 167895720 bytes\n",
            "Partition 7: 156609720 bytes\n",
            "Partition 0: 80.06 MB\n",
            "Partition 1: 160.10 MB\n",
            "Partition 2: 80.07 MB\n",
            "Partition 3: 160.10 MB\n",
            "Partition 4: 160.12 MB\n",
            "Partition 5: 80.05 MB\n",
            "Partition 6: 160.12 MB\n",
            "Partition 7: 149.35 MB\n"
          ]
        }
      ]
    },
    {
      "cell_type": "code",
      "source": [
        "repartitioned_rdd = parsed_rdd.repartition(8)\n",
        "print(f\"Number of partitions after repartitioning: {repartitioned_rdd.getNumPartitions()}\")\n"
      ],
      "metadata": {
        "colab": {
          "base_uri": "https://localhost:8080/"
        },
        "id": "-jR7JwqliD8_",
        "outputId": "07534db7-0795-4194-c68e-8c404bfe6626"
      },
      "execution_count": null,
      "outputs": [
        {
          "output_type": "stream",
          "name": "stdout",
          "text": [
            "Number of partitions after repartitioning: 8\n"
          ]
        }
      ]
    },
    {
      "cell_type": "code",
      "source": [
        "new_partition_data = repartitioned_rdd.glom().collect()\n",
        "for i, partition in enumerate(new_partition_data):\n",
        "    print(f\"Partition {i} has {len(partition)} records\")"
      ],
      "metadata": {
        "colab": {
          "base_uri": "https://localhost:8080/"
        },
        "id": "DMSrg-0Hid9H",
        "outputId": "fe233ce3-c7b1-433e-db76-60ec79fcd70f"
      },
      "execution_count": null,
      "outputs": [
        {
          "output_type": "stream",
          "name": "stdout",
          "text": [
            "Partition 0 has 374995 records\n",
            "Partition 1 has 374973 records\n",
            "Partition 2 has 375000 records\n",
            "Partition 3 has 375000 records\n",
            "Partition 4 has 375000 records\n",
            "Partition 5 has 375015 records\n",
            "Partition 6 has 375018 records\n",
            "Partition 7 has 374999 records\n"
          ]
        }
      ]
    },
    {
      "cell_type": "code",
      "source": [
        "import sys\n",
        "\n",
        "def get_partition_sizes(rdd):\n",
        "    partition_sizes = (\n",
        "        rdd.mapPartitions(lambda partition: [sum(sys.getsizeof(record) for record in partition)])\n",
        "        .collect()\n",
        "    )\n",
        "    return partition_sizes\n",
        "partition_sizes = get_partition_sizes(repartitioned_rdd)\n",
        "for i, size in enumerate(partition_sizes):\n",
        "    print(f\"Partition {i}: {size} bytes\")\n",
        "def format_size(size_in_bytes):\n",
        "    for unit in ['B', 'KB', 'MB', 'GB']:\n",
        "        if size_in_bytes < 1024:\n",
        "            return f\"{size_in_bytes:.2f} {unit}\"\n",
        "        size_in_bytes /= 1024\n",
        "    return f\"{size_in_bytes:.2f} TB\"\n",
        "\n",
        "for i, size in enumerate(partition_sizes):\n",
        "    print(f\"Partition {i}: {format_size(size)}\")"
      ],
      "metadata": {
        "colab": {
          "base_uri": "https://localhost:8080/"
        },
        "id": "07UT9SdMipF8",
        "outputId": "5573a2a0-e7b4-44a8-ea99-431a87c2e809"
      },
      "execution_count": null,
      "outputs": [
        {
          "output_type": "stream",
          "name": "stdout",
          "text": [
            "Partition 0: 134998200 bytes\n",
            "Partition 1: 134990280 bytes\n",
            "Partition 2: 135000000 bytes\n",
            "Partition 3: 135000000 bytes\n",
            "Partition 4: 135000000 bytes\n",
            "Partition 5: 135005400 bytes\n",
            "Partition 6: 135006480 bytes\n",
            "Partition 7: 134999640 bytes\n",
            "Partition 0: 128.74 MB\n",
            "Partition 1: 128.74 MB\n",
            "Partition 2: 128.75 MB\n",
            "Partition 3: 128.75 MB\n",
            "Partition 4: 128.75 MB\n",
            "Partition 5: 128.75 MB\n",
            "Partition 6: 128.75 MB\n",
            "Partition 7: 128.75 MB\n"
          ]
        }
      ]
    },
    {
      "cell_type": "code",
      "source": [
        "%%time\n",
        "# Extract hour from the Timestamp field\n",
        "hourly_requests = (parsed_rdd\n",
        "                   .map(lambda x: (int(x['Timestamp'].split(\":\")[1]), 1))  # Extract hour and map to (hour, 1) using the 'Timestamp' key\n",
        "                   .reduceByKey(lambda a, b: a + b)             # Aggregate counts by hour\n",
        "                   .sortByKey())                                # Sort by hour\n",
        "\n",
        "# Collect and display results\n",
        "for hour, count in hourly_requests.collect():\n",
        "    print(f\"Hour: {hour}, Requests: {count}\")"
      ],
      "metadata": {
        "colab": {
          "base_uri": "https://localhost:8080/"
        },
        "id": "WmTqb7QEixpX",
        "outputId": "27d97318-07cc-46eb-b4eb-ca51c9ad7c56"
      },
      "execution_count": null,
      "outputs": [
        {
          "output_type": "stream",
          "name": "stdout",
          "text": [
            "Hour: 0, Requests: 125373\n",
            "Hour: 1, Requests: 124866\n",
            "Hour: 2, Requests: 125019\n",
            "Hour: 3, Requests: 124947\n",
            "Hour: 4, Requests: 125239\n",
            "Hour: 5, Requests: 125049\n",
            "Hour: 6, Requests: 125200\n",
            "Hour: 7, Requests: 124930\n",
            "Hour: 8, Requests: 124976\n",
            "Hour: 9, Requests: 125056\n",
            "Hour: 10, Requests: 124963\n",
            "Hour: 11, Requests: 124603\n",
            "Hour: 12, Requests: 124817\n",
            "Hour: 13, Requests: 124634\n",
            "Hour: 14, Requests: 125461\n",
            "Hour: 15, Requests: 125812\n",
            "Hour: 16, Requests: 125191\n",
            "Hour: 17, Requests: 124644\n",
            "Hour: 18, Requests: 124872\n",
            "Hour: 19, Requests: 124683\n",
            "Hour: 20, Requests: 125038\n",
            "Hour: 21, Requests: 124833\n",
            "Hour: 22, Requests: 125051\n",
            "Hour: 23, Requests: 124743\n",
            "CPU times: user 227 ms, sys: 31.4 ms, total: 258 ms\n",
            "Wall time: 40.7 s\n"
          ]
        }
      ]
    },
    {
      "cell_type": "code",
      "source": [
        "%%time\n",
        "# Extract hour from the Timestamp field\n",
        "hourly_requests = (coalaced_rdd\n",
        "                   .map(lambda x: (int(x['Timestamp'].split(\":\")[1]), 1))  # Extract hour and map to (hour, 1) using the 'Timestamp' key\n",
        "                   .reduceByKey(lambda a, b: a + b)             # Aggregate counts by hour\n",
        "                   .sortByKey())                                # Sort by hour\n",
        "\n",
        "# Collect and display results\n",
        "for hour, count in hourly_requests.collect():\n",
        "    print(f\"Hour: {hour}, Requests: {count}\")"
      ],
      "metadata": {
        "colab": {
          "base_uri": "https://localhost:8080/"
        },
        "id": "p-Xgv76Tizvh",
        "outputId": "96f76f1d-1be0-4abf-83c1-511edb2136b1"
      },
      "execution_count": null,
      "outputs": [
        {
          "output_type": "stream",
          "name": "stdout",
          "text": [
            "Hour: 0, Requests: 125373\n",
            "Hour: 1, Requests: 124866\n",
            "Hour: 2, Requests: 125019\n",
            "Hour: 3, Requests: 124947\n",
            "Hour: 4, Requests: 125239\n",
            "Hour: 5, Requests: 125049\n",
            "Hour: 6, Requests: 125200\n",
            "Hour: 7, Requests: 124930\n",
            "Hour: 8, Requests: 124976\n",
            "Hour: 9, Requests: 125056\n",
            "Hour: 10, Requests: 124963\n",
            "Hour: 11, Requests: 124603\n",
            "Hour: 12, Requests: 124817\n",
            "Hour: 13, Requests: 124634\n",
            "Hour: 14, Requests: 125461\n",
            "Hour: 15, Requests: 125812\n",
            "Hour: 16, Requests: 125191\n",
            "Hour: 17, Requests: 124644\n",
            "Hour: 18, Requests: 124872\n",
            "Hour: 19, Requests: 124683\n",
            "Hour: 20, Requests: 125038\n",
            "Hour: 21, Requests: 124833\n",
            "Hour: 22, Requests: 125051\n",
            "Hour: 23, Requests: 124743\n",
            "CPU times: user 238 ms, sys: 34 ms, total: 272 ms\n",
            "Wall time: 44.5 s\n"
          ]
        }
      ]
    },
    {
      "cell_type": "code",
      "source": [
        "%%time\n",
        "# Extract hour from the Timestamp field\n",
        "hourly_requests = (repartitioned_rdd\n",
        "                   .map(lambda x: (int(x['Timestamp'].split(\":\")[1]), 1))  # Extract hour and map to (hour, 1) using the 'Timestamp' key\n",
        "                   .reduceByKey(lambda a, b: a + b)             # Aggregate counts by hour\n",
        "                   .sortByKey())                                # Sort by hour\n",
        "\n",
        "# Collect and display results\n",
        "for hour, count in hourly_requests.collect():\n",
        "    print(f\"Hour: {hour}, Requests: {count}\")"
      ],
      "metadata": {
        "colab": {
          "base_uri": "https://localhost:8080/"
        },
        "id": "gdPjwm19i2_D",
        "outputId": "9bfa1fec-8f5e-4fd3-8813-c75385c47e81"
      },
      "execution_count": null,
      "outputs": [
        {
          "output_type": "stream",
          "name": "stdout",
          "text": [
            "Hour: 0, Requests: 125373\n",
            "Hour: 1, Requests: 124866\n",
            "Hour: 2, Requests: 125019\n",
            "Hour: 3, Requests: 124947\n",
            "Hour: 4, Requests: 125239\n",
            "Hour: 5, Requests: 125049\n",
            "Hour: 6, Requests: 125200\n",
            "Hour: 7, Requests: 124930\n",
            "Hour: 8, Requests: 124976\n",
            "Hour: 9, Requests: 125056\n",
            "Hour: 10, Requests: 124963\n",
            "Hour: 11, Requests: 124603\n",
            "Hour: 12, Requests: 124817\n",
            "Hour: 13, Requests: 124634\n",
            "Hour: 14, Requests: 125461\n",
            "Hour: 15, Requests: 125812\n",
            "Hour: 16, Requests: 125191\n",
            "Hour: 17, Requests: 124644\n",
            "Hour: 18, Requests: 124872\n",
            "Hour: 19, Requests: 124683\n",
            "Hour: 20, Requests: 125038\n",
            "Hour: 21, Requests: 124833\n",
            "Hour: 22, Requests: 125051\n",
            "Hour: 23, Requests: 124743\n",
            "CPU times: user 107 ms, sys: 15 ms, total: 122 ms\n",
            "Wall time: 15.6 s\n"
          ]
        }
      ]
    }
  ]
}