{
  "nbformat": 4,
  "nbformat_minor": 0,
  "metadata": {
    "colab": {
      "provenance": [],
      "mount_file_id": "1F0KZTAlnSLOi-NnxTxXpdNvsD-egQDk-",
      "authorship_tag": "ABX9TyMucoUXDaUV4wbJeAygRPpC",
      "include_colab_link": true
    },
    "kernelspec": {
      "name": "python3",
      "display_name": "Python 3"
    },
    "language_info": {
      "name": "python"
    }
  },
  "cells": [
    {
      "cell_type": "markdown",
      "metadata": {
        "id": "view-in-github",
        "colab_type": "text"
      },
      "source": [
        "<a href=\"https://colab.research.google.com/github/martinmwarangu/Pyspark_Msc/blob/main/ensemble_learning.ipynb\" target=\"_parent\"><img src=\"https://colab.research.google.com/assets/colab-badge.svg\" alt=\"Open In Colab\"/></a>"
      ]
    },
    {
      "cell_type": "code",
      "execution_count": 1,
      "metadata": {
        "colab": {
          "base_uri": "https://localhost:8080/"
        },
        "id": "E_Vwdv-C0fYg",
        "outputId": "fab32d63-187b-4c67-f2b7-40ee9d7208e5"
      },
      "outputs": [
        {
          "output_type": "stream",
          "name": "stdout",
          "text": [
            "Collecting pyspark\n",
            "  Downloading pyspark-3.5.1.tar.gz (317.0 MB)\n",
            "\u001b[2K     \u001b[90m━━━━━━━━━━━━━━━━━━━━━━━━━━━━━━━━━━━━━━━━\u001b[0m \u001b[32m317.0/317.0 MB\u001b[0m \u001b[31m1.8 MB/s\u001b[0m eta \u001b[36m0:00:00\u001b[0m\n",
            "\u001b[?25h  Preparing metadata (setup.py) ... \u001b[?25l\u001b[?25hdone\n",
            "Requirement already satisfied: py4j==0.10.9.7 in /usr/local/lib/python3.10/dist-packages (from pyspark) (0.10.9.7)\n",
            "Building wheels for collected packages: pyspark\n",
            "  Building wheel for pyspark (setup.py) ... \u001b[?25l\u001b[?25hdone\n",
            "  Created wheel for pyspark: filename=pyspark-3.5.1-py2.py3-none-any.whl size=317488491 sha256=29185a03957032b17e343a804e767938fb4d82a8e9f2460184045a7a45123e64\n",
            "  Stored in directory: /root/.cache/pip/wheels/80/1d/60/2c256ed38dddce2fdd93be545214a63e02fbd8d74fb0b7f3a6\n",
            "Successfully built pyspark\n",
            "Installing collected packages: pyspark\n",
            "Successfully installed pyspark-3.5.1\n"
          ]
        }
      ],
      "source": [
        "!pip install pyspark"
      ]
    },
    {
      "cell_type": "code",
      "source": [
        "import os\n",
        "from pyspark.sql import SparkSession\n",
        "spark = SparkSession.builder.master(\"local[*]\").getOrCreate()"
      ],
      "metadata": {
        "id": "Ru-jxI901NpM"
      },
      "execution_count": 10,
      "outputs": []
    },
    {
      "cell_type": "code",
      "source": [
        "df = spark.read.csv(\"/content/drive/MyDrive/en/bank2.csv\", header=True, inferSchema=True)"
      ],
      "metadata": {
        "id": "viETErAa2JAp"
      },
      "execution_count": 11,
      "outputs": []
    },
    {
      "cell_type": "code",
      "source": [
        "print(df.count())"
      ],
      "metadata": {
        "colab": {
          "base_uri": "https://localhost:8080/"
        },
        "id": "9ITD09gP3Obv",
        "outputId": "775cce38-1ac7-4e1c-e051-8cf5fddae36c"
      },
      "execution_count": 12,
      "outputs": [
        {
          "output_type": "stream",
          "name": "stdout",
          "text": [
            "11162\n"
          ]
        }
      ]
    },
    {
      "cell_type": "code",
      "source": [
        "df.show()"
      ],
      "metadata": {
        "colab": {
          "base_uri": "https://localhost:8080/"
        },
        "id": "z5mjK7ev3prj",
        "outputId": "b826c699-7a4b-448d-a5b7-f9d50dde33f8"
      },
      "execution_count": 13,
      "outputs": [
        {
          "output_type": "stream",
          "name": "stdout",
          "text": [
            "+---+-----------+--------+---------+-------+-------+-------+----+-------+---+-----+--------+--------+-----+--------+--------+-------+\n",
            "|age|        job| marital|education|default|balance|housing|loan|contact|day|month|duration|campaign|pdays|previous|poutcome|deposit|\n",
            "+---+-----------+--------+---------+-------+-------+-------+----+-------+---+-----+--------+--------+-----+--------+--------+-------+\n",
            "| 59|     admin.| married|secondary|     no|   2343|    yes|  no|unknown|  5|  may|    1042|       1|   -1|       0| unknown|    yes|\n",
            "| 56|     admin.| married|secondary|     no|     45|     no|  no|unknown|  5|  may|    1467|       1|   -1|       0| unknown|    yes|\n",
            "| 41| technician| married|secondary|     no|   1270|    yes|  no|unknown|  5|  may|    1389|       1|   -1|       0| unknown|    yes|\n",
            "| 55|   services| married|secondary|     no|   2476|    yes|  no|unknown|  5|  may|     579|       1|   -1|       0| unknown|    yes|\n",
            "| 54|     admin.| married| tertiary|     no|    184|     no|  no|unknown|  5|  may|     673|       2|   -1|       0| unknown|    yes|\n",
            "| 42| management|  single| tertiary|     no|      0|    yes| yes|unknown|  5|  may|     562|       2|   -1|       0| unknown|    yes|\n",
            "| 56| management| married| tertiary|     no|    830|    yes| yes|unknown|  6|  may|    1201|       1|   -1|       0| unknown|    yes|\n",
            "| 60|    retired|divorced|secondary|     no|    545|    yes|  no|unknown|  6|  may|    1030|       1|   -1|       0| unknown|    yes|\n",
            "| 37| technician| married|secondary|     no|      1|    yes|  no|unknown|  6|  may|     608|       1|   -1|       0| unknown|    yes|\n",
            "| 28|   services|  single|secondary|     no|   5090|    yes|  no|unknown|  6|  may|    1297|       3|   -1|       0| unknown|    yes|\n",
            "| 38|     admin.|  single|secondary|     no|    100|    yes|  no|unknown|  7|  may|     786|       1|   -1|       0| unknown|    yes|\n",
            "| 30|blue-collar| married|secondary|     no|    309|    yes|  no|unknown|  7|  may|    1574|       2|   -1|       0| unknown|    yes|\n",
            "| 29| management| married| tertiary|     no|    199|    yes| yes|unknown|  7|  may|    1689|       4|   -1|       0| unknown|    yes|\n",
            "| 46|blue-collar|  single| tertiary|     no|    460|    yes|  no|unknown|  7|  may|    1102|       2|   -1|       0| unknown|    yes|\n",
            "| 31| technician|  single| tertiary|     no|    703|    yes|  no|unknown|  8|  may|     943|       2|   -1|       0| unknown|    yes|\n",
            "| 35| management|divorced| tertiary|     no|   3837|    yes|  no|unknown|  8|  may|    1084|       1|   -1|       0| unknown|    yes|\n",
            "| 32|blue-collar|  single|  primary|     no|    611|    yes|  no|unknown|  8|  may|     541|       3|   -1|       0| unknown|    yes|\n",
            "| 49|   services| married|secondary|     no|     -8|    yes|  no|unknown|  8|  may|    1119|       1|   -1|       0| unknown|    yes|\n",
            "| 41|     admin.| married|secondary|     no|     55|    yes|  no|unknown|  8|  may|    1120|       2|   -1|       0| unknown|    yes|\n",
            "| 49|     admin.|divorced|secondary|     no|    168|    yes| yes|unknown|  8|  may|     513|       1|   -1|       0| unknown|    yes|\n",
            "+---+-----------+--------+---------+-------+-------+-------+----+-------+---+-----+--------+--------+-----+--------+--------+-------+\n",
            "only showing top 20 rows\n",
            "\n"
          ]
        }
      ]
    },
    {
      "cell_type": "code",
      "source": [
        "df.select(\"deposit\").distinct().show()\n",
        "df.printSchema()"
      ],
      "metadata": {
        "colab": {
          "base_uri": "https://localhost:8080/"
        },
        "id": "5hVJ3_k957uF",
        "outputId": "8203bc96-13c6-42ab-b410-fe026ec4f567"
      },
      "execution_count": 14,
      "outputs": [
        {
          "output_type": "stream",
          "name": "stdout",
          "text": [
            "+-------+\n",
            "|deposit|\n",
            "+-------+\n",
            "|     no|\n",
            "|    yes|\n",
            "+-------+\n",
            "\n",
            "root\n",
            " |-- age: integer (nullable = true)\n",
            " |-- job: string (nullable = true)\n",
            " |-- marital: string (nullable = true)\n",
            " |-- education: string (nullable = true)\n",
            " |-- default: string (nullable = true)\n",
            " |-- balance: integer (nullable = true)\n",
            " |-- housing: string (nullable = true)\n",
            " |-- loan: string (nullable = true)\n",
            " |-- contact: string (nullable = true)\n",
            " |-- day: integer (nullable = true)\n",
            " |-- month: string (nullable = true)\n",
            " |-- duration: integer (nullable = true)\n",
            " |-- campaign: integer (nullable = true)\n",
            " |-- pdays: integer (nullable = true)\n",
            " |-- previous: integer (nullable = true)\n",
            " |-- poutcome: string (nullable = true)\n",
            " |-- deposit: string (nullable = true)\n",
            "\n"
          ]
        }
      ]
    },
    {
      "cell_type": "code",
      "source": [
        "print(\"yes\",df.select(\"deposit\").where(\"deposit=='yes'\").count())\n",
        "print(\"No\",df.select(\"deposit\").where(\"deposit=='no'\").count())"
      ],
      "metadata": {
        "colab": {
          "base_uri": "https://localhost:8080/"
        },
        "id": "WTUoPL8K6eud",
        "outputId": "9e16ed5d-b532-46a2-a7e6-0869bcc64857"
      },
      "execution_count": 15,
      "outputs": [
        {
          "output_type": "stream",
          "name": "stdout",
          "text": [
            "yes 5289\n",
            "No 5873\n"
          ]
        }
      ]
    },
    {
      "cell_type": "code",
      "source": [
        "# check distinct values in string columns\n",
        "[print(\"column name\",df[t[0]].name,df.select(t[0]).distinct().show()) for t in df.dtypes if t[1]=='string']\n",
        "\n"
      ],
      "metadata": {
        "id": "OoOJ2gGk6qjY",
        "colab": {
          "base_uri": "https://localhost:8080/"
        },
        "outputId": "1d636026-f733-4eed-eb02-24b288b5194f"
      },
      "execution_count": 17,
      "outputs": [
        {
          "output_type": "stream",
          "name": "stdout",
          "text": [
            "+-------------+\n",
            "|          job|\n",
            "+-------------+\n",
            "|   management|\n",
            "|      retired|\n",
            "|      unknown|\n",
            "|self-employed|\n",
            "|      student|\n",
            "|  blue-collar|\n",
            "| entrepreneur|\n",
            "|       admin.|\n",
            "|   technician|\n",
            "|     services|\n",
            "|    housemaid|\n",
            "|   unemployed|\n",
            "+-------------+\n",
            "\n",
            "column name <bound method alias of Column<'job'>> None\n",
            "+--------+\n",
            "| marital|\n",
            "+--------+\n",
            "|divorced|\n",
            "| married|\n",
            "|  single|\n",
            "+--------+\n",
            "\n",
            "column name <bound method alias of Column<'marital'>> None\n",
            "+---------+\n",
            "|education|\n",
            "+---------+\n",
            "|  unknown|\n",
            "| tertiary|\n",
            "|secondary|\n",
            "|  primary|\n",
            "+---------+\n",
            "\n",
            "column name <bound method alias of Column<'education'>> None\n",
            "+-------+\n",
            "|default|\n",
            "+-------+\n",
            "|     no|\n",
            "|    yes|\n",
            "+-------+\n",
            "\n",
            "column name <bound method alias of Column<'default'>> None\n",
            "+-------+\n",
            "|housing|\n",
            "+-------+\n",
            "|     no|\n",
            "|    yes|\n",
            "+-------+\n",
            "\n",
            "column name <bound method alias of Column<'housing'>> None\n",
            "+----+\n",
            "|loan|\n",
            "+----+\n",
            "|  no|\n",
            "| yes|\n",
            "+----+\n",
            "\n",
            "column name <bound method alias of Column<'loan'>> None\n",
            "+---------+\n",
            "|  contact|\n",
            "+---------+\n",
            "|  unknown|\n",
            "| cellular|\n",
            "|telephone|\n",
            "+---------+\n",
            "\n",
            "column name <bound method alias of Column<'contact'>> None\n",
            "+-----+\n",
            "|month|\n",
            "+-----+\n",
            "|  jun|\n",
            "|  aug|\n",
            "|  may|\n",
            "|  feb|\n",
            "|  sep|\n",
            "|  mar|\n",
            "|  oct|\n",
            "|  jul|\n",
            "|  nov|\n",
            "|  apr|\n",
            "|  dec|\n",
            "|  jan|\n",
            "+-----+\n",
            "\n",
            "column name <bound method alias of Column<'month'>> None\n",
            "+--------+\n",
            "|poutcome|\n",
            "+--------+\n",
            "| success|\n",
            "| unknown|\n",
            "|   other|\n",
            "| failure|\n",
            "+--------+\n",
            "\n",
            "column name <bound method alias of Column<'poutcome'>> None\n",
            "+-------+\n",
            "|deposit|\n",
            "+-------+\n",
            "|     no|\n",
            "|    yes|\n",
            "+-------+\n",
            "\n",
            "column name <bound method alias of Column<'deposit'>> None\n"
          ]
        },
        {
          "output_type": "execute_result",
          "data": {
            "text/plain": [
              "[None, None, None, None, None, None, None, None, None, None]"
            ]
          },
          "metadata": {},
          "execution_count": 17
        }
      ]
    },
    {
      "cell_type": "code",
      "source": [
        "numeric_features = [t[0] for t in df.dtypes if t[1] == 'int']\n",
        "df.select(numeric_features).describe().toPandas().transpose()"
      ],
      "metadata": {
        "colab": {
          "base_uri": "https://localhost:8080/",
          "height": 300
        },
        "id": "C3KqXEyjHkiv",
        "outputId": "e208f446-236a-498f-d7c9-e2891a44043a"
      },
      "execution_count": 18,
      "outputs": [
        {
          "output_type": "execute_result",
          "data": {
            "text/plain": [
              "              0                   1                   2      3      4\n",
              "summary   count                mean              stddev    min    max\n",
              "age       11162  41.231947679627304  11.913369192215518     18     95\n",
              "balance   11162  1528.5385235620856   3225.413325946149  -6847  81204\n",
              "day       11162  15.658036194230425   8.420739541006462      1     31\n",
              "duration  11162  371.99381831213043  347.12838571630687      2   3881\n",
              "campaign  11162   2.508421429851281  2.7220771816614824      1     63\n",
              "pdays     11162   51.33040673714388  108.75828197197717     -1    854\n",
              "previous  11162  0.8325568894463358   2.292007218670508      0     58"
            ],
            "text/html": [
              "\n",
              "  <div id=\"df-54e02294-9cba-4084-b919-be798e996cec\" class=\"colab-df-container\">\n",
              "    <div>\n",
              "<style scoped>\n",
              "    .dataframe tbody tr th:only-of-type {\n",
              "        vertical-align: middle;\n",
              "    }\n",
              "\n",
              "    .dataframe tbody tr th {\n",
              "        vertical-align: top;\n",
              "    }\n",
              "\n",
              "    .dataframe thead th {\n",
              "        text-align: right;\n",
              "    }\n",
              "</style>\n",
              "<table border=\"1\" class=\"dataframe\">\n",
              "  <thead>\n",
              "    <tr style=\"text-align: right;\">\n",
              "      <th></th>\n",
              "      <th>0</th>\n",
              "      <th>1</th>\n",
              "      <th>2</th>\n",
              "      <th>3</th>\n",
              "      <th>4</th>\n",
              "    </tr>\n",
              "  </thead>\n",
              "  <tbody>\n",
              "    <tr>\n",
              "      <th>summary</th>\n",
              "      <td>count</td>\n",
              "      <td>mean</td>\n",
              "      <td>stddev</td>\n",
              "      <td>min</td>\n",
              "      <td>max</td>\n",
              "    </tr>\n",
              "    <tr>\n",
              "      <th>age</th>\n",
              "      <td>11162</td>\n",
              "      <td>41.231947679627304</td>\n",
              "      <td>11.913369192215518</td>\n",
              "      <td>18</td>\n",
              "      <td>95</td>\n",
              "    </tr>\n",
              "    <tr>\n",
              "      <th>balance</th>\n",
              "      <td>11162</td>\n",
              "      <td>1528.5385235620856</td>\n",
              "      <td>3225.413325946149</td>\n",
              "      <td>-6847</td>\n",
              "      <td>81204</td>\n",
              "    </tr>\n",
              "    <tr>\n",
              "      <th>day</th>\n",
              "      <td>11162</td>\n",
              "      <td>15.658036194230425</td>\n",
              "      <td>8.420739541006462</td>\n",
              "      <td>1</td>\n",
              "      <td>31</td>\n",
              "    </tr>\n",
              "    <tr>\n",
              "      <th>duration</th>\n",
              "      <td>11162</td>\n",
              "      <td>371.99381831213043</td>\n",
              "      <td>347.12838571630687</td>\n",
              "      <td>2</td>\n",
              "      <td>3881</td>\n",
              "    </tr>\n",
              "    <tr>\n",
              "      <th>campaign</th>\n",
              "      <td>11162</td>\n",
              "      <td>2.508421429851281</td>\n",
              "      <td>2.7220771816614824</td>\n",
              "      <td>1</td>\n",
              "      <td>63</td>\n",
              "    </tr>\n",
              "    <tr>\n",
              "      <th>pdays</th>\n",
              "      <td>11162</td>\n",
              "      <td>51.33040673714388</td>\n",
              "      <td>108.75828197197717</td>\n",
              "      <td>-1</td>\n",
              "      <td>854</td>\n",
              "    </tr>\n",
              "    <tr>\n",
              "      <th>previous</th>\n",
              "      <td>11162</td>\n",
              "      <td>0.8325568894463358</td>\n",
              "      <td>2.292007218670508</td>\n",
              "      <td>0</td>\n",
              "      <td>58</td>\n",
              "    </tr>\n",
              "  </tbody>\n",
              "</table>\n",
              "</div>\n",
              "    <div class=\"colab-df-buttons\">\n",
              "\n",
              "  <div class=\"colab-df-container\">\n",
              "    <button class=\"colab-df-convert\" onclick=\"convertToInteractive('df-54e02294-9cba-4084-b919-be798e996cec')\"\n",
              "            title=\"Convert this dataframe to an interactive table.\"\n",
              "            style=\"display:none;\">\n",
              "\n",
              "  <svg xmlns=\"http://www.w3.org/2000/svg\" height=\"24px\" viewBox=\"0 -960 960 960\">\n",
              "    <path d=\"M120-120v-720h720v720H120Zm60-500h600v-160H180v160Zm220 220h160v-160H400v160Zm0 220h160v-160H400v160ZM180-400h160v-160H180v160Zm440 0h160v-160H620v160ZM180-180h160v-160H180v160Zm440 0h160v-160H620v160Z\"/>\n",
              "  </svg>\n",
              "    </button>\n",
              "\n",
              "  <style>\n",
              "    .colab-df-container {\n",
              "      display:flex;\n",
              "      gap: 12px;\n",
              "    }\n",
              "\n",
              "    .colab-df-convert {\n",
              "      background-color: #E8F0FE;\n",
              "      border: none;\n",
              "      border-radius: 50%;\n",
              "      cursor: pointer;\n",
              "      display: none;\n",
              "      fill: #1967D2;\n",
              "      height: 32px;\n",
              "      padding: 0 0 0 0;\n",
              "      width: 32px;\n",
              "    }\n",
              "\n",
              "    .colab-df-convert:hover {\n",
              "      background-color: #E2EBFA;\n",
              "      box-shadow: 0px 1px 2px rgba(60, 64, 67, 0.3), 0px 1px 3px 1px rgba(60, 64, 67, 0.15);\n",
              "      fill: #174EA6;\n",
              "    }\n",
              "\n",
              "    .colab-df-buttons div {\n",
              "      margin-bottom: 4px;\n",
              "    }\n",
              "\n",
              "    [theme=dark] .colab-df-convert {\n",
              "      background-color: #3B4455;\n",
              "      fill: #D2E3FC;\n",
              "    }\n",
              "\n",
              "    [theme=dark] .colab-df-convert:hover {\n",
              "      background-color: #434B5C;\n",
              "      box-shadow: 0px 1px 3px 1px rgba(0, 0, 0, 0.15);\n",
              "      filter: drop-shadow(0px 1px 2px rgba(0, 0, 0, 0.3));\n",
              "      fill: #FFFFFF;\n",
              "    }\n",
              "  </style>\n",
              "\n",
              "    <script>\n",
              "      const buttonEl =\n",
              "        document.querySelector('#df-54e02294-9cba-4084-b919-be798e996cec button.colab-df-convert');\n",
              "      buttonEl.style.display =\n",
              "        google.colab.kernel.accessAllowed ? 'block' : 'none';\n",
              "\n",
              "      async function convertToInteractive(key) {\n",
              "        const element = document.querySelector('#df-54e02294-9cba-4084-b919-be798e996cec');\n",
              "        const dataTable =\n",
              "          await google.colab.kernel.invokeFunction('convertToInteractive',\n",
              "                                                    [key], {});\n",
              "        if (!dataTable) return;\n",
              "\n",
              "        const docLinkHtml = 'Like what you see? Visit the ' +\n",
              "          '<a target=\"_blank\" href=https://colab.research.google.com/notebooks/data_table.ipynb>data table notebook</a>'\n",
              "          + ' to learn more about interactive tables.';\n",
              "        element.innerHTML = '';\n",
              "        dataTable['output_type'] = 'display_data';\n",
              "        await google.colab.output.renderOutput(dataTable, element);\n",
              "        const docLink = document.createElement('div');\n",
              "        docLink.innerHTML = docLinkHtml;\n",
              "        element.appendChild(docLink);\n",
              "      }\n",
              "    </script>\n",
              "  </div>\n",
              "\n",
              "\n",
              "<div id=\"df-f34baa3e-3410-4c5d-8c1d-0d69b324befe\">\n",
              "  <button class=\"colab-df-quickchart\" onclick=\"quickchart('df-f34baa3e-3410-4c5d-8c1d-0d69b324befe')\"\n",
              "            title=\"Suggest charts\"\n",
              "            style=\"display:none;\">\n",
              "\n",
              "<svg xmlns=\"http://www.w3.org/2000/svg\" height=\"24px\"viewBox=\"0 0 24 24\"\n",
              "     width=\"24px\">\n",
              "    <g>\n",
              "        <path d=\"M19 3H5c-1.1 0-2 .9-2 2v14c0 1.1.9 2 2 2h14c1.1 0 2-.9 2-2V5c0-1.1-.9-2-2-2zM9 17H7v-7h2v7zm4 0h-2V7h2v10zm4 0h-2v-4h2v4z\"/>\n",
              "    </g>\n",
              "</svg>\n",
              "  </button>\n",
              "\n",
              "<style>\n",
              "  .colab-df-quickchart {\n",
              "      --bg-color: #E8F0FE;\n",
              "      --fill-color: #1967D2;\n",
              "      --hover-bg-color: #E2EBFA;\n",
              "      --hover-fill-color: #174EA6;\n",
              "      --disabled-fill-color: #AAA;\n",
              "      --disabled-bg-color: #DDD;\n",
              "  }\n",
              "\n",
              "  [theme=dark] .colab-df-quickchart {\n",
              "      --bg-color: #3B4455;\n",
              "      --fill-color: #D2E3FC;\n",
              "      --hover-bg-color: #434B5C;\n",
              "      --hover-fill-color: #FFFFFF;\n",
              "      --disabled-bg-color: #3B4455;\n",
              "      --disabled-fill-color: #666;\n",
              "  }\n",
              "\n",
              "  .colab-df-quickchart {\n",
              "    background-color: var(--bg-color);\n",
              "    border: none;\n",
              "    border-radius: 50%;\n",
              "    cursor: pointer;\n",
              "    display: none;\n",
              "    fill: var(--fill-color);\n",
              "    height: 32px;\n",
              "    padding: 0;\n",
              "    width: 32px;\n",
              "  }\n",
              "\n",
              "  .colab-df-quickchart:hover {\n",
              "    background-color: var(--hover-bg-color);\n",
              "    box-shadow: 0 1px 2px rgba(60, 64, 67, 0.3), 0 1px 3px 1px rgba(60, 64, 67, 0.15);\n",
              "    fill: var(--button-hover-fill-color);\n",
              "  }\n",
              "\n",
              "  .colab-df-quickchart-complete:disabled,\n",
              "  .colab-df-quickchart-complete:disabled:hover {\n",
              "    background-color: var(--disabled-bg-color);\n",
              "    fill: var(--disabled-fill-color);\n",
              "    box-shadow: none;\n",
              "  }\n",
              "\n",
              "  .colab-df-spinner {\n",
              "    border: 2px solid var(--fill-color);\n",
              "    border-color: transparent;\n",
              "    border-bottom-color: var(--fill-color);\n",
              "    animation:\n",
              "      spin 1s steps(1) infinite;\n",
              "  }\n",
              "\n",
              "  @keyframes spin {\n",
              "    0% {\n",
              "      border-color: transparent;\n",
              "      border-bottom-color: var(--fill-color);\n",
              "      border-left-color: var(--fill-color);\n",
              "    }\n",
              "    20% {\n",
              "      border-color: transparent;\n",
              "      border-left-color: var(--fill-color);\n",
              "      border-top-color: var(--fill-color);\n",
              "    }\n",
              "    30% {\n",
              "      border-color: transparent;\n",
              "      border-left-color: var(--fill-color);\n",
              "      border-top-color: var(--fill-color);\n",
              "      border-right-color: var(--fill-color);\n",
              "    }\n",
              "    40% {\n",
              "      border-color: transparent;\n",
              "      border-right-color: var(--fill-color);\n",
              "      border-top-color: var(--fill-color);\n",
              "    }\n",
              "    60% {\n",
              "      border-color: transparent;\n",
              "      border-right-color: var(--fill-color);\n",
              "    }\n",
              "    80% {\n",
              "      border-color: transparent;\n",
              "      border-right-color: var(--fill-color);\n",
              "      border-bottom-color: var(--fill-color);\n",
              "    }\n",
              "    90% {\n",
              "      border-color: transparent;\n",
              "      border-bottom-color: var(--fill-color);\n",
              "    }\n",
              "  }\n",
              "</style>\n",
              "\n",
              "  <script>\n",
              "    async function quickchart(key) {\n",
              "      const quickchartButtonEl =\n",
              "        document.querySelector('#' + key + ' button');\n",
              "      quickchartButtonEl.disabled = true;  // To prevent multiple clicks.\n",
              "      quickchartButtonEl.classList.add('colab-df-spinner');\n",
              "      try {\n",
              "        const charts = await google.colab.kernel.invokeFunction(\n",
              "            'suggestCharts', [key], {});\n",
              "      } catch (error) {\n",
              "        console.error('Error during call to suggestCharts:', error);\n",
              "      }\n",
              "      quickchartButtonEl.classList.remove('colab-df-spinner');\n",
              "      quickchartButtonEl.classList.add('colab-df-quickchart-complete');\n",
              "    }\n",
              "    (() => {\n",
              "      let quickchartButtonEl =\n",
              "        document.querySelector('#df-f34baa3e-3410-4c5d-8c1d-0d69b324befe button');\n",
              "      quickchartButtonEl.style.display =\n",
              "        google.colab.kernel.accessAllowed ? 'block' : 'none';\n",
              "    })();\n",
              "  </script>\n",
              "</div>\n",
              "\n",
              "    </div>\n",
              "  </div>\n"
            ],
            "application/vnd.google.colaboratory.intrinsic+json": {
              "type": "dataframe",
              "summary": "{\n  \"name\": \"df\",\n  \"rows\": 8,\n  \"fields\": [\n    {\n      \"column\": 0,\n      \"properties\": {\n        \"dtype\": \"category\",\n        \"num_unique_values\": 2,\n        \"samples\": [\n          \"11162\",\n          \"count\"\n        ],\n        \"semantic_type\": \"\",\n        \"description\": \"\"\n      }\n    },\n    {\n      \"column\": 1,\n      \"properties\": {\n        \"dtype\": \"string\",\n        \"num_unique_values\": 8,\n        \"samples\": [\n          \"41.231947679627304\",\n          \"2.508421429851281\"\n        ],\n        \"semantic_type\": \"\",\n        \"description\": \"\"\n      }\n    },\n    {\n      \"column\": 2,\n      \"properties\": {\n        \"dtype\": \"string\",\n        \"num_unique_values\": 8,\n        \"samples\": [\n          \"11.913369192215518\",\n          \"2.7220771816614824\"\n        ],\n        \"semantic_type\": \"\",\n        \"description\": \"\"\n      }\n    },\n    {\n      \"column\": 3,\n      \"properties\": {\n        \"dtype\": \"string\",\n        \"num_unique_values\": 7,\n        \"samples\": [\n          \"min\",\n          \"18\"\n        ],\n        \"semantic_type\": \"\",\n        \"description\": \"\"\n      }\n    },\n    {\n      \"column\": 4,\n      \"properties\": {\n        \"dtype\": \"string\",\n        \"num_unique_values\": 8,\n        \"samples\": [\n          \"95\",\n          \"63\"\n        ],\n        \"semantic_type\": \"\",\n        \"description\": \"\"\n      }\n    }\n  ]\n}"
            }
          },
          "metadata": {},
          "execution_count": 18
        }
      ]
    },
    {
      "cell_type": "code",
      "source": [
        "# finding the null values\n",
        "print(\"Total records\" , df.count())\n",
        "[print(col,\"Total null values\", df.where(df[col].isNull()).count()) for col in df.columns]"
      ],
      "metadata": {
        "colab": {
          "base_uri": "https://localhost:8080/"
        },
        "id": "3T7ybdzxJd3M",
        "outputId": "0483418e-509b-46cb-f8d8-26f1606bfefc"
      },
      "execution_count": 19,
      "outputs": [
        {
          "output_type": "stream",
          "name": "stdout",
          "text": [
            "Total records 11162\n",
            "age Total null values 0\n",
            "job Total null values 0\n",
            "marital Total null values 0\n",
            "education Total null values 0\n",
            "default Total null values 0\n",
            "balance Total null values 0\n",
            "housing Total null values 0\n",
            "loan Total null values 0\n",
            "contact Total null values 0\n",
            "day Total null values 0\n",
            "month Total null values 0\n",
            "duration Total null values 0\n",
            "campaign Total null values 0\n",
            "pdays Total null values 0\n",
            "previous Total null values 0\n",
            "poutcome Total null values 0\n",
            "deposit Total null values 0\n"
          ]
        },
        {
          "output_type": "execute_result",
          "data": {
            "text/plain": [
              "[None,\n",
              " None,\n",
              " None,\n",
              " None,\n",
              " None,\n",
              " None,\n",
              " None,\n",
              " None,\n",
              " None,\n",
              " None,\n",
              " None,\n",
              " None,\n",
              " None,\n",
              " None,\n",
              " None,\n",
              " None,\n",
              " None]"
            ]
          },
          "metadata": {},
          "execution_count": 19
        }
      ]
    },
    {
      "cell_type": "code",
      "source": [
        "#selecting features for feature vector\n",
        "dff = df.select(\"job\",\"marital\",\"education\",\"default\",\"housing\",\"loan\",\"contact\",\"duration\",\"poutcome\",\"deposit\")\n",
        "cols = dff.columns\n",
        "dff.printSchema()\n"
      ],
      "metadata": {
        "colab": {
          "base_uri": "https://localhost:8080/"
        },
        "id": "JnANDdB9M3av",
        "outputId": "e7a40381-7b17-4b83-f1b0-b187be652146"
      },
      "execution_count": 21,
      "outputs": [
        {
          "output_type": "stream",
          "name": "stdout",
          "text": [
            "root\n",
            " |-- job: string (nullable = true)\n",
            " |-- marital: string (nullable = true)\n",
            " |-- education: string (nullable = true)\n",
            " |-- default: string (nullable = true)\n",
            " |-- housing: string (nullable = true)\n",
            " |-- loan: string (nullable = true)\n",
            " |-- contact: string (nullable = true)\n",
            " |-- duration: integer (nullable = true)\n",
            " |-- poutcome: string (nullable = true)\n",
            " |-- deposit: string (nullable = true)\n",
            "\n"
          ]
        }
      ]
    },
    {
      "cell_type": "code",
      "source": [
        "dff = df.select('age', 'job', 'marital', 'education', 'default', 'balance', 'housing', 'loan', 'contact', 'duration', 'campaign', 'pdays', 'previous', 'poutcome', 'deposit')\n",
        "cols = dff.columns\n",
        "dff.printSchema()"
      ],
      "metadata": {
        "colab": {
          "base_uri": "https://localhost:8080/"
        },
        "id": "Ng4STsbROraV",
        "outputId": "b3ced114-6a2b-4e2a-9880-161b2a10e18d"
      },
      "execution_count": 23,
      "outputs": [
        {
          "output_type": "stream",
          "name": "stdout",
          "text": [
            "root\n",
            " |-- age: integer (nullable = true)\n",
            " |-- job: string (nullable = true)\n",
            " |-- marital: string (nullable = true)\n",
            " |-- education: string (nullable = true)\n",
            " |-- default: string (nullable = true)\n",
            " |-- balance: integer (nullable = true)\n",
            " |-- housing: string (nullable = true)\n",
            " |-- loan: string (nullable = true)\n",
            " |-- contact: string (nullable = true)\n",
            " |-- duration: integer (nullable = true)\n",
            " |-- campaign: integer (nullable = true)\n",
            " |-- pdays: integer (nullable = true)\n",
            " |-- previous: integer (nullable = true)\n",
            " |-- poutcome: string (nullable = true)\n",
            " |-- deposit: string (nullable = true)\n",
            "\n"
          ]
        }
      ]
    },
    {
      "cell_type": "code",
      "source": [
        "#one hot encoding\n",
        "from pyspark.ml.feature import OneHotEncoder , StringIndexer , VectorAssembler\n",
        "categoricalColumns = ['job', 'marital', 'education', 'default', 'housing', 'loan', 'contact', 'poutcome']\n",
        "stages = []\n",
        "for categoricalCol in categoricalColumns:\n",
        "  stringIndexer = StringIndexer(inputCol= categoricalCol, outputCol = categoricalCol + \"Index\")\n",
        "  encoder = OneHotEncoder(inputCols=[stringIndexer.getOutputCol()] , outputCols=[categoricalCol + \"classVec\"])\n",
        "  print(stringIndexer.getOutputCol())\n",
        "  stages += [stringIndexer,encoder]\n",
        "labelstringIdx = StringIndexer(inputCol = \"deposit\" , outputCol = \"label\")\n",
        "print(labelstringIdx)\n",
        "\n",
        "stages.append(labelstringIdx)\n",
        "numericCols = ['age','balance', 'duration', 'campaign', 'pdays', 'previous']\n",
        "assemblerInputs = [c + \"classVec\" for c in categoricalColumns] + numericCols\n",
        "print(assemblerInputs)\n",
        "assembler = VectorAssembler(inputCols=assemblerInputs, outputCol=\"features\")\n",
        "stages += [assembler]\n"
      ],
      "metadata": {
        "colab": {
          "base_uri": "https://localhost:8080/"
        },
        "id": "N3nDTRVCPG-m",
        "outputId": "d1efd051-34eb-43a9-ed4d-cf0b798b3104"
      },
      "execution_count": 26,
      "outputs": [
        {
          "output_type": "stream",
          "name": "stdout",
          "text": [
            "jobIndex\n",
            "maritalIndex\n",
            "educationIndex\n",
            "defaultIndex\n",
            "housingIndex\n",
            "loanIndex\n",
            "contactIndex\n",
            "poutcomeIndex\n",
            "StringIndexer_ae8a02ec7279\n",
            "['jobclassVec', 'maritalclassVec', 'educationclassVec', 'defaultclassVec', 'housingclassVec', 'loanclassVec', 'contactclassVec', 'poutcomeclassVec', 'age', 'balance', 'duration', 'campaign', 'pdays', 'previous']\n"
          ]
        }
      ]
    },
    {
      "cell_type": "code",
      "source": [
        "from pyspark.ml import Pipeline\n",
        "pipeline = Pipeline(stages = stages)\n",
        "pipelineModel = pipeline.fit(dff)\n",
        "dff = pipelineModel.transform(dff)\n",
        "dff.show(12,True)"
      ],
      "metadata": {
        "colab": {
          "base_uri": "https://localhost:8080/"
        },
        "id": "x4wW5eLhTvmj",
        "outputId": "f87a0cde-227f-4f39-fa54-3e88b2b35148"
      },
      "execution_count": 27,
      "outputs": [
        {
          "output_type": "stream",
          "name": "stdout",
          "text": [
            "+---+-----------+--------+---------+-------+-------+-------+----+-------+--------+--------+-----+--------+--------+-------+--------+--------------+------------+---------------+--------------+-----------------+------------+---------------+------------+---------------+---------+-------------+------------+---------------+-------------+----------------+-----+--------------------+\n",
            "|age|        job| marital|education|default|balance|housing|loan|contact|duration|campaign|pdays|previous|poutcome|deposit|jobIndex|   jobclassVec|maritalIndex|maritalclassVec|educationIndex|educationclassVec|defaultIndex|defaultclassVec|housingIndex|housingclassVec|loanIndex| loanclassVec|contactIndex|contactclassVec|poutcomeIndex|poutcomeclassVec|label|            features|\n",
            "+---+-----------+--------+---------+-------+-------+-------+----+-------+--------+--------+-----+--------+--------+-------+--------+--------------+------------+---------------+--------------+-----------------+------------+---------------+------------+---------------+---------+-------------+------------+---------------+-------------+----------------+-----+--------------------+\n",
            "| 59|     admin.| married|secondary|     no|   2343|    yes|  no|unknown|    1042|       1|   -1|       0| unknown|    yes|     3.0|(11,[3],[1.0])|         0.0|  (2,[0],[1.0])|           0.0|    (3,[0],[1.0])|         0.0|  (1,[0],[1.0])|         1.0|      (1,[],[])|      0.0|(1,[0],[1.0])|         1.0|  (2,[1],[1.0])|          0.0|   (3,[0],[1.0])|  1.0|(30,[3,11,13,16,1...|\n",
            "| 56|     admin.| married|secondary|     no|     45|     no|  no|unknown|    1467|       1|   -1|       0| unknown|    yes|     3.0|(11,[3],[1.0])|         0.0|  (2,[0],[1.0])|           0.0|    (3,[0],[1.0])|         0.0|  (1,[0],[1.0])|         0.0|  (1,[0],[1.0])|      0.0|(1,[0],[1.0])|         1.0|  (2,[1],[1.0])|          0.0|   (3,[0],[1.0])|  1.0|(30,[3,11,13,16,1...|\n",
            "| 41| technician| married|secondary|     no|   1270|    yes|  no|unknown|    1389|       1|   -1|       0| unknown|    yes|     2.0|(11,[2],[1.0])|         0.0|  (2,[0],[1.0])|           0.0|    (3,[0],[1.0])|         0.0|  (1,[0],[1.0])|         1.0|      (1,[],[])|      0.0|(1,[0],[1.0])|         1.0|  (2,[1],[1.0])|          0.0|   (3,[0],[1.0])|  1.0|(30,[2,11,13,16,1...|\n",
            "| 55|   services| married|secondary|     no|   2476|    yes|  no|unknown|     579|       1|   -1|       0| unknown|    yes|     4.0|(11,[4],[1.0])|         0.0|  (2,[0],[1.0])|           0.0|    (3,[0],[1.0])|         0.0|  (1,[0],[1.0])|         1.0|      (1,[],[])|      0.0|(1,[0],[1.0])|         1.0|  (2,[1],[1.0])|          0.0|   (3,[0],[1.0])|  1.0|(30,[4,11,13,16,1...|\n",
            "| 54|     admin.| married| tertiary|     no|    184|     no|  no|unknown|     673|       2|   -1|       0| unknown|    yes|     3.0|(11,[3],[1.0])|         0.0|  (2,[0],[1.0])|           1.0|    (3,[1],[1.0])|         0.0|  (1,[0],[1.0])|         0.0|  (1,[0],[1.0])|      0.0|(1,[0],[1.0])|         1.0|  (2,[1],[1.0])|          0.0|   (3,[0],[1.0])|  1.0|(30,[3,11,14,16,1...|\n",
            "| 42| management|  single| tertiary|     no|      0|    yes| yes|unknown|     562|       2|   -1|       0| unknown|    yes|     0.0|(11,[0],[1.0])|         1.0|  (2,[1],[1.0])|           1.0|    (3,[1],[1.0])|         0.0|  (1,[0],[1.0])|         1.0|      (1,[],[])|      1.0|    (1,[],[])|         1.0|  (2,[1],[1.0])|          0.0|   (3,[0],[1.0])|  1.0|(30,[0,12,14,16,2...|\n",
            "| 56| management| married| tertiary|     no|    830|    yes| yes|unknown|    1201|       1|   -1|       0| unknown|    yes|     0.0|(11,[0],[1.0])|         0.0|  (2,[0],[1.0])|           1.0|    (3,[1],[1.0])|         0.0|  (1,[0],[1.0])|         1.0|      (1,[],[])|      1.0|    (1,[],[])|         1.0|  (2,[1],[1.0])|          0.0|   (3,[0],[1.0])|  1.0|(30,[0,11,14,16,2...|\n",
            "| 60|    retired|divorced|secondary|     no|    545|    yes|  no|unknown|    1030|       1|   -1|       0| unknown|    yes|     5.0|(11,[5],[1.0])|         2.0|      (2,[],[])|           0.0|    (3,[0],[1.0])|         0.0|  (1,[0],[1.0])|         1.0|      (1,[],[])|      0.0|(1,[0],[1.0])|         1.0|  (2,[1],[1.0])|          0.0|   (3,[0],[1.0])|  1.0|(30,[5,13,16,18,2...|\n",
            "| 37| technician| married|secondary|     no|      1|    yes|  no|unknown|     608|       1|   -1|       0| unknown|    yes|     2.0|(11,[2],[1.0])|         0.0|  (2,[0],[1.0])|           0.0|    (3,[0],[1.0])|         0.0|  (1,[0],[1.0])|         1.0|      (1,[],[])|      0.0|(1,[0],[1.0])|         1.0|  (2,[1],[1.0])|          0.0|   (3,[0],[1.0])|  1.0|(30,[2,11,13,16,1...|\n",
            "| 28|   services|  single|secondary|     no|   5090|    yes|  no|unknown|    1297|       3|   -1|       0| unknown|    yes|     4.0|(11,[4],[1.0])|         1.0|  (2,[1],[1.0])|           0.0|    (3,[0],[1.0])|         0.0|  (1,[0],[1.0])|         1.0|      (1,[],[])|      0.0|(1,[0],[1.0])|         1.0|  (2,[1],[1.0])|          0.0|   (3,[0],[1.0])|  1.0|(30,[4,12,13,16,1...|\n",
            "| 38|     admin.|  single|secondary|     no|    100|    yes|  no|unknown|     786|       1|   -1|       0| unknown|    yes|     3.0|(11,[3],[1.0])|         1.0|  (2,[1],[1.0])|           0.0|    (3,[0],[1.0])|         0.0|  (1,[0],[1.0])|         1.0|      (1,[],[])|      0.0|(1,[0],[1.0])|         1.0|  (2,[1],[1.0])|          0.0|   (3,[0],[1.0])|  1.0|(30,[3,12,13,16,1...|\n",
            "| 30|blue-collar| married|secondary|     no|    309|    yes|  no|unknown|    1574|       2|   -1|       0| unknown|    yes|     1.0|(11,[1],[1.0])|         0.0|  (2,[0],[1.0])|           0.0|    (3,[0],[1.0])|         0.0|  (1,[0],[1.0])|         1.0|      (1,[],[])|      0.0|(1,[0],[1.0])|         1.0|  (2,[1],[1.0])|          0.0|   (3,[0],[1.0])|  1.0|(30,[1,11,13,16,1...|\n",
            "+---+-----------+--------+---------+-------+-------+-------+----+-------+--------+--------+-----+--------+--------+-------+--------+--------------+------------+---------------+--------------+-----------------+------------+---------------+------------+---------------+---------+-------------+------------+---------------+-------------+----------------+-----+--------------------+\n",
            "only showing top 12 rows\n",
            "\n"
          ]
        }
      ]
    },
    {
      "cell_type": "code",
      "source": [
        "print(dff.select(\"features\").show(1))\n",
        "print(cols)"
      ],
      "metadata": {
        "colab": {
          "base_uri": "https://localhost:8080/"
        },
        "id": "irb2ZGzyVo3W",
        "outputId": "c1834677-500b-4a62-cc19-be5bad9f6a36"
      },
      "execution_count": 28,
      "outputs": [
        {
          "output_type": "stream",
          "name": "stdout",
          "text": [
            "+--------------------+\n",
            "|            features|\n",
            "+--------------------+\n",
            "|(30,[3,11,13,16,1...|\n",
            "+--------------------+\n",
            "only showing top 1 row\n",
            "\n",
            "None\n",
            "['age', 'job', 'marital', 'education', 'default', 'balance', 'housing', 'loan', 'contact', 'duration', 'campaign', 'pdays', 'previous', 'poutcome', 'deposit']\n"
          ]
        }
      ]
    },
    {
      "cell_type": "code",
      "source": [
        "selectedCols = [\"label\",\"features\"] + cols\n",
        "dffselected = dff.select(selectedCols)\n",
        "dffselected.printSchema()\n",
        "\n"
      ],
      "metadata": {
        "colab": {
          "base_uri": "https://localhost:8080/"
        },
        "id": "M01s-TFSXGZ8",
        "outputId": "6d774633-bb93-475d-e8f8-eb22c5893ccf"
      },
      "execution_count": 29,
      "outputs": [
        {
          "output_type": "stream",
          "name": "stdout",
          "text": [
            "root\n",
            " |-- label: double (nullable = false)\n",
            " |-- features: vector (nullable = true)\n",
            " |-- age: integer (nullable = true)\n",
            " |-- job: string (nullable = true)\n",
            " |-- marital: string (nullable = true)\n",
            " |-- education: string (nullable = true)\n",
            " |-- default: string (nullable = true)\n",
            " |-- balance: integer (nullable = true)\n",
            " |-- housing: string (nullable = true)\n",
            " |-- loan: string (nullable = true)\n",
            " |-- contact: string (nullable = true)\n",
            " |-- duration: integer (nullable = true)\n",
            " |-- campaign: integer (nullable = true)\n",
            " |-- pdays: integer (nullable = true)\n",
            " |-- previous: integer (nullable = true)\n",
            " |-- poutcome: string (nullable = true)\n",
            " |-- deposit: string (nullable = true)\n",
            "\n"
          ]
        }
      ]
    },
    {
      "cell_type": "code",
      "source": [
        "# multiple classification using logistic regression\n",
        "from pyspark.ml.classification import OneVsRest\n",
        "from pyspark.ml.classification import LogisticRegression\n",
        "train , test = dffselected.randomSplit([0.7,0.3] , seed =2018)\n",
        "lr = LogisticRegression(maxIter=100, \\\n",
        "\n",
        "                        featuresCol=\"features\", \\\n",
        "\n",
        "                        labelCol='label')\n",
        "ovr = OneVsRest(classifier=lr, \\\n",
        "                labelCol='label', \\\n",
        "                featuresCol='features')\n",
        "ovrModel = ovr.fit(train)\n",
        "predictionovr = ovrModel.transform(test)\n",
        "predictionovr.show(10)"
      ],
      "metadata": {
        "colab": {
          "base_uri": "https://localhost:8080/"
        },
        "id": "RZUZ1UNvYD9q",
        "outputId": "b00af0a3-09dc-455b-c689-bec2a0c67050"
      },
      "execution_count": 30,
      "outputs": [
        {
          "output_type": "stream",
          "name": "stdout",
          "text": [
            "+-----+--------------------+---+----------+-------+---------+-------+-------+-------+----+---------+--------+--------+-----+--------+--------+-------+--------------------+----------+\n",
            "|label|            features|age|       job|marital|education|default|balance|housing|loan|  contact|duration|campaign|pdays|previous|poutcome|deposit|       rawPrediction|prediction|\n",
            "+-----+--------------------+---+----------+-------+---------+-------+-------+-------+----+---------+--------+--------+-----+--------+--------+-------+--------------------+----------+\n",
            "|  0.0|(30,[0,11,13,16,1...| 33|management|married|secondary|     no|    333|     no|  no| cellular|      80|       6|   -1|       0| unknown|     no|[1.91889531585926...|       0.0|\n",
            "|  0.0|(30,[0,11,13,16,1...| 49|management|married|secondary|     no|   1601|     no|  no| cellular|      47|       5|   -1|       0| unknown|     no|[1.92010568650575...|       0.0|\n",
            "|  0.0|(30,[0,11,13,16,1...| 52|management|married|secondary|     no|   5193|     no|  no| cellular|     477|       2|   -1|       0| unknown|     no|[-0.7779866740363...|       1.0|\n",
            "|  0.0|(30,[0,11,13,16,1...| 53|management|married|secondary|     no|   2693|     no|  no| cellular|     140|       1|   -1|       0| unknown|     no|[0.94350506563309...|       0.0|\n",
            "|  0.0|(30,[0,11,13,16,1...| 58|management|married|secondary|     no|     37|     no|  no| cellular|      84|      11|   -1|       0| unknown|     no|[2.43515277540529...|       0.0|\n",
            "|  0.0|(30,[0,11,13,16,1...| 32|management|married|secondary|     no|      0|     no|  no| cellular|     162|       4|   -1|       0| unknown|     no|[1.27308808959459...|       0.0|\n",
            "|  0.0|(30,[0,11,13,16,1...| 57|management|married|secondary|     no|      0|     no|  no| cellular|     132|       1|   -1|       0| unknown|     no|[1.05374265496253...|       0.0|\n",
            "|  0.0|(30,[0,11,13,16,1...| 52|management|married|secondary|     no|    173|     no|  no|  unknown|      48|       5|   -1|       0| unknown|     no|[3.23621156481202...|       0.0|\n",
            "|  0.0|(30,[0,11,13,16,1...| 46|management|married|secondary|     no|      0|     no|  no|  unknown|     155|       1|   -1|       0| unknown|     no|[2.23585557450079...|       0.0|\n",
            "|  0.0|(30,[0,11,13,16,1...| 31|management|married|secondary|     no|   1064|     no|  no|telephone|      60|       1|   -1|       0| unknown|     no|[1.44100073424259...|       0.0|\n",
            "+-----+--------------------+---+----------+-------+---------+-------+-------+-------+----+---------+--------+--------+-----+--------+--------+-------+--------------------+----------+\n",
            "only showing top 10 rows\n",
            "\n"
          ]
        }
      ]
    },
    {
      "cell_type": "code",
      "source": [
        "from pyspark.ml.classification import DecisionTreeClassifier\n",
        "train, test = dffselected.randomSplit([0.7, 0.3], seed = 2018)\n",
        "print(\"Training Dataset Count: \" + str(train.count()))\n",
        "print(\"Test Dataset Count: \" + str(test.count()))\n",
        "dt = DecisionTreeClassifier(featuresCol = 'features', labelCol = 'label', maxDepth = 3)\n",
        "dtModel = dt.fit(train)\n",
        "predictions = dtModel.transform(test)\n",
        "predictions.select('age', 'job', 'label', 'rawPrediction', 'prediction', 'probability').show(10)\n",
        "print(\"Total Actual Positive\",predictions.select(\"label\").where('label == 1.0').count())\n",
        "print(\"Total Actual Negative\",predictions.select(\"label\").where('label == 0.0').count())\n",
        "pr = predictions.toPandas()\n",
        "TruePositive =0\n",
        "FalsePositive=0\n",
        "TrueNegative=0\n",
        "FalseNegative=0\n",
        "Postive=1.0\n",
        "Negative=0.0\n",
        "pos=0\n",
        "Neg=0\n",
        "\n",
        "print(\"Total\",len(pr[\"label\"]))\n",
        "for lbl in range(len(pr[\"label\"])):\n",
        "  if  pr[\"prediction\"][lbl]==Postive:\n",
        "    pos+=1\n",
        "    if pr[\"prediction\"][lbl]==pr[\"label\"][lbl]:\n",
        "      TruePositive+=1\n",
        "    else:\n",
        "      FalsePositive+=1\n",
        "  if  pr[\"prediction\"][lbl]==Negative:\n",
        "    Neg+=1\n",
        "    if pr[\"prediction\"][lbl]==pr[\"label\"][lbl]:\n",
        "      TrueNegative+=1\n",
        "    else:\n",
        "      FalseNegative+=1\n",
        "print(\"Total Positive & Negative in Prediction. Pos: \",pos,\",Neg\",Neg)\n",
        "print(\"TruePostive\",TruePositive,\"FalsePostive\",FalsePositive)\n",
        "print(\"TrueNegative\",TrueNegative,\"FalseNegative\",FalseNegative)"
      ],
      "metadata": {
        "colab": {
          "base_uri": "https://localhost:8080/"
        },
        "id": "Zt4apmcSZ7Ww",
        "outputId": "75bb1afb-46f2-4eb6-a6d8-d40beffa9fbb"
      },
      "execution_count": 31,
      "outputs": [
        {
          "output_type": "stream",
          "name": "stdout",
          "text": [
            "Training Dataset Count: 7855\n",
            "Test Dataset Count: 3307\n",
            "+---+----------+-----+--------------+----------+--------------------+\n",
            "|age|       job|label| rawPrediction|prediction|         probability|\n",
            "+---+----------+-----+--------------+----------+--------------------+\n",
            "| 33|management|  0.0|[2498.0,481.0]|       0.0|[0.83853642161799...|\n",
            "| 49|management|  0.0|[2498.0,481.0]|       0.0|[0.83853642161799...|\n",
            "| 52|management|  0.0|[520.0,1931.0]|       1.0|[0.21215830273357...|\n",
            "| 53|management|  0.0|[2498.0,481.0]|       0.0|[0.83853642161799...|\n",
            "| 58|management|  0.0|[2498.0,481.0]|       0.0|[0.83853642161799...|\n",
            "| 32|management|  0.0|[2498.0,481.0]|       0.0|[0.83853642161799...|\n",
            "| 57|management|  0.0|[2498.0,481.0]|       0.0|[0.83853642161799...|\n",
            "| 52|management|  0.0|[2498.0,481.0]|       0.0|[0.83853642161799...|\n",
            "| 46|management|  0.0|[2498.0,481.0]|       0.0|[0.83853642161799...|\n",
            "| 31|management|  0.0|[2498.0,481.0]|       0.0|[0.83853642161799...|\n",
            "+---+----------+-----+--------------+----------+--------------------+\n",
            "only showing top 10 rows\n",
            "\n",
            "Total Actual Positive 1603\n",
            "Total Actual Negative 1704\n",
            "Total 3307\n",
            "Total Positive & Negative in Prediction. Pos:  1915 ,Neg 1392\n",
            "TruePostive 1381 FalsePostive 534\n",
            "TrueNegative 1170 FalseNegative 222\n"
          ]
        }
      ]
    },
    {
      "cell_type": "code",
      "source": [
        "from pyspark.ml.evaluation import BinaryClassificationEvaluator\n",
        "evaluator = BinaryClassificationEvaluator()\n",
        "\n",
        "print(\"Test Area Under ROC: \" + str(evaluator.evaluate(predictions, {evaluator.metricName: \"areaUnderROC\"})))"
      ],
      "metadata": {
        "colab": {
          "base_uri": "https://localhost:8080/"
        },
        "id": "ahVpX9vkaV9b",
        "outputId": "55b63cad-73bf-4aa5-b3de-61305e21d096"
      },
      "execution_count": 32,
      "outputs": [
        {
          "output_type": "stream",
          "name": "stdout",
          "text": [
            "Test Area Under ROC: 0.7808118726917547\n"
          ]
        }
      ]
    },
    {
      "cell_type": "code",
      "source": [
        "from pyspark.ml.classification import RandomForestClassifier\n",
        "\n",
        "rf = RandomForestClassifier(featuresCol='features', labelCol='label', maxDepth = 4,numTrees=20)\n",
        "train, test = dffselected.randomSplit([0.7, 0.3], seed = 2018)\n",
        "rfModel = rf.fit(train)\n",
        "predictions = rfModel.transform(test)\n",
        "pr = predictions.toPandas()\n",
        "print(\"Total Actual Positive\",predictions.select(\"label\").where('label == 1.0').count())\n",
        "print(\"Total Actual Negative\",predictions.select(\"label\").where('label == 0.0').count())\n",
        "\n",
        "evaluator = BinaryClassificationEvaluator()\n",
        "print(\"Test Area Under ROC: \" + str(evaluator.evaluate(predictions, {evaluator.metricName: \"areaUnderROC\"})))\n",
        "TruePositive =0\n",
        "FalsePositive=0\n",
        "TrueNegative=0\n",
        "FalseNegative=0\n",
        "Postive=1.0\n",
        "Negative=0.0\n",
        "pos=0\n",
        "Neg=0\n",
        "print(\"Total\",len(pr[\"label\"]))\n",
        "for lbl in range(len(pr[\"label\"])):\n",
        "  if  pr[\"prediction\"][lbl]==Postive:\n",
        "    pos+=1\n",
        "    if pr[\"prediction\"][lbl]==pr[\"label\"][lbl]:\n",
        "      TruePositive+=1\n",
        "    else:\n",
        "      FalsePositive+=1\n",
        "  if  pr[\"prediction\"][lbl]==Negative:\n",
        "    Neg+=1\n",
        "    if pr[\"prediction\"][lbl]==pr[\"label\"][lbl]:\n",
        "      TrueNegative+=1\n",
        "    else:\n",
        "      FalseNegative+=1\n",
        "print(\"Total positive & Negative in Predictions, Pos\",pos,\"Neg\",Neg)\n",
        "print(\"TruePostive\",TruePositive,\"FalsePostive\",FalsePositive)\n",
        "print(\"TrueNegative\",TrueNegative,\"FalseNegative\",FalseNegative)"
      ],
      "metadata": {
        "colab": {
          "base_uri": "https://localhost:8080/"
        },
        "id": "pgU0nX-1aqUz",
        "outputId": "7511169a-a15e-440e-d3bf-ae167056057b"
      },
      "execution_count": 33,
      "outputs": [
        {
          "output_type": "stream",
          "name": "stdout",
          "text": [
            "Total Actual Positive 1603\n",
            "Total Actual Negative 1704\n",
            "Test Area Under ROC: 0.8777160781281578\n",
            "Total 3307\n",
            "Total positive & Negative in Predictions, Pos 1476 Neg 1831\n",
            "TruePostive 1195 FalsePostive 281\n",
            "TrueNegative 1423 FalseNegative 408\n"
          ]
        }
      ]
    },
    {
      "cell_type": "code",
      "source": [
        "from pyspark.ml.classification import LogisticRegression, RandomForestClassifier, GBTClassifier\n",
        "\n",
        "ml = GBTClassifier(maxIter=10, featuresCol='features', labelCol='label',maxDepth = 10)\n",
        "train, test = dffselected.randomSplit([0.7, 0.2], seed = 2018)\n",
        "mlModel = ml.fit(train)\n",
        "predictions = mlModel.transform(test)\n",
        "\n",
        "evaluator = BinaryClassificationEvaluator()\n",
        "print(\"Test Area Under ROC: \" + str(evaluator.evaluate(predictions, {evaluator.metricName: \"areaUnderROC\"})))\n"
      ],
      "metadata": {
        "colab": {
          "base_uri": "https://localhost:8080/"
        },
        "id": "GqtXz1s4bP_g",
        "outputId": "5e29b662-6ef9-496f-83db-14e3bde19285"
      },
      "execution_count": 34,
      "outputs": [
        {
          "output_type": "stream",
          "name": "stdout",
          "text": [
            "Test Area Under ROC: 0.869695789478623\n"
          ]
        }
      ]
    },
    {
      "cell_type": "code",
      "source": [
        "from pyspark.ml.tuning import ParamGridBuilder, CrossValidator\n",
        "gbt = GBTClassifier(maxIter=10)\n",
        "paramGrid = (ParamGridBuilder()\n",
        "             .addGrid(gbt.maxDepth, [2, 4, 6])\n",
        "             .addGrid(gbt.maxBins, [20, 60])\n",
        "             .addGrid(gbt.maxIter, [10, 20])\n",
        "             .build())\n",
        "cv = CrossValidator(estimator=gbt, estimatorParamMaps=paramGrid, evaluator=evaluator, numFolds=5)\n",
        "# Run cross validations.  This can take about 6 minutes since it is training over 20 trees!\n",
        "cvModel = cv.fit(train)\n",
        "predictions = cvModel.transform(test)\n",
        "evaluator.evaluate(predictions)"
      ],
      "metadata": {
        "colab": {
          "base_uri": "https://localhost:8080/"
        },
        "id": "dZY7_HiRbdij",
        "outputId": "8294f63e-c45c-468c-df51-7c3f74d60c6c"
      },
      "execution_count": 35,
      "outputs": [
        {
          "output_type": "execute_result",
          "data": {
            "text/plain": [
              "0.8989346833243608"
            ]
          },
          "metadata": {},
          "execution_count": 35
        }
      ]
    },
    {
      "cell_type": "code",
      "source": [
        "predictions.select(\"label\",\"prediction\").show(13)"
      ],
      "metadata": {
        "colab": {
          "base_uri": "https://localhost:8080/"
        },
        "id": "2mm3dhEkbjv9",
        "outputId": "74583074-f900-403b-d0f5-75f505d9ead7"
      },
      "execution_count": 36,
      "outputs": [
        {
          "output_type": "stream",
          "name": "stdout",
          "text": [
            "+-----+----------+\n",
            "|label|prediction|\n",
            "+-----+----------+\n",
            "|  0.0|       0.0|\n",
            "|  0.0|       0.0|\n",
            "|  0.0|       1.0|\n",
            "|  0.0|       0.0|\n",
            "|  0.0|       0.0|\n",
            "|  0.0|       0.0|\n",
            "|  0.0|       0.0|\n",
            "|  0.0|       0.0|\n",
            "|  0.0|       0.0|\n",
            "|  0.0|       0.0|\n",
            "|  0.0|       1.0|\n",
            "|  0.0|       0.0|\n",
            "|  0.0|       0.0|\n",
            "+-----+----------+\n",
            "only showing top 13 rows\n",
            "\n"
          ]
        }
      ]
    }
  ]
}