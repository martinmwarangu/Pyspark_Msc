{
  "nbformat": 4,
  "nbformat_minor": 0,
  "metadata": {
    "colab": {
      "provenance": [],
      "mount_file_id": "1vSw7wpO2XHMOGO_zcHuvIWQNAw3kAlLT",
      "authorship_tag": "ABX9TyNUAGsDZxJsmC5YCfsg3h1Z",
      "include_colab_link": true
    },
    "kernelspec": {
      "name": "python3",
      "display_name": "Python 3"
    },
    "language_info": {
      "name": "python"
    }
  },
  "cells": [
    {
      "cell_type": "markdown",
      "metadata": {
        "id": "view-in-github",
        "colab_type": "text"
      },
      "source": [
        "<a href=\"https://colab.research.google.com/github/martinmwarangu/Pyspark_Msc/blob/main/CN7030_week_4.ipynb\" target=\"_parent\"><img src=\"https://colab.research.google.com/assets/colab-badge.svg\" alt=\"Open In Colab\"/></a>"
      ]
    },
    {
      "cell_type": "code",
      "execution_count": null,
      "metadata": {
        "colab": {
          "base_uri": "https://localhost:8080/"
        },
        "id": "3x8UjEu2v4ip",
        "outputId": "d6b3ccaa-5c4b-4169-b0e3-6b7aa34a1bad"
      },
      "outputs": [
        {
          "output_type": "stream",
          "name": "stdout",
          "text": [
            "Collecting pyspark\n",
            "  Downloading pyspark-3.5.1.tar.gz (317.0 MB)\n",
            "\u001b[2K     \u001b[90m━━━━━━━━━━━━━━━━━━━━━━━━━━━━━━━━━━━━━━━━\u001b[0m \u001b[32m317.0/317.0 MB\u001b[0m \u001b[31m2.7 MB/s\u001b[0m eta \u001b[36m0:00:00\u001b[0m\n",
            "\u001b[?25h  Preparing metadata (setup.py) ... \u001b[?25l\u001b[?25hdone\n",
            "Requirement already satisfied: py4j==0.10.9.7 in /usr/local/lib/python3.10/dist-packages (from pyspark) (0.10.9.7)\n",
            "Building wheels for collected packages: pyspark\n",
            "  Building wheel for pyspark (setup.py) ... \u001b[?25l\u001b[?25hdone\n",
            "  Created wheel for pyspark: filename=pyspark-3.5.1-py2.py3-none-any.whl size=317488491 sha256=e8a87e3b04718a4b719415afa0770e8b8b214c7a2b045e1990a26c4072d50e03\n",
            "  Stored in directory: /root/.cache/pip/wheels/80/1d/60/2c256ed38dddce2fdd93be545214a63e02fbd8d74fb0b7f3a6\n",
            "Successfully built pyspark\n",
            "Installing collected packages: pyspark\n",
            "Successfully installed pyspark-3.5.1\n"
          ]
        }
      ],
      "source": [
        "!pip install pyspark"
      ]
    },
    {
      "cell_type": "code",
      "source": [
        "\n",
        "from pyspark.sql import SparkSession\n",
        "spark = SparkSession.builder.master(\"local[*]\").getOrCreate()"
      ],
      "metadata": {
        "id": "ksFQnO9hwVFR"
      },
      "execution_count": null,
      "outputs": []
    },
    {
      "cell_type": "code",
      "source": [
        "ds = spark.read.csv(\"/content/drive/MyDrive/Data/bezdekIris.data\", inferSchema=True,header=True)\\\n",
        ".toDF(\"sep_len\", \"sep_wid\", \"pet_len\", \"pet_wid\", \"label\")\n",
        "ds.select(\"label\").distinct().show(10)\n",
        "ds.count()"
      ],
      "metadata": {
        "colab": {
          "base_uri": "https://localhost:8080/"
        },
        "id": "WdFWAT__xEjD",
        "outputId": "b1800855-6820-48e6-9e91-36c8c7b6bcb7"
      },
      "execution_count": null,
      "outputs": [
        {
          "output_type": "stream",
          "name": "stdout",
          "text": [
            "+---------------+\n",
            "|          label|\n",
            "+---------------+\n",
            "| Iris-virginica|\n",
            "|    Iris-setosa|\n",
            "|Iris-versicolor|\n",
            "+---------------+\n",
            "\n"
          ]
        },
        {
          "output_type": "execute_result",
          "data": {
            "text/plain": [
              "149"
            ]
          },
          "metadata": {},
          "execution_count": 3
        }
      ]
    },
    {
      "cell_type": "code",
      "source": [
        "from pyspark.ml.linalg import Vectors\n",
        "from pyspark.ml.feature import VectorAssembler\n",
        "vector_assembler = VectorAssembler(\\\n",
        "inputCols=[\"sep_len\", \"sep_wid\", \"pet_len\", \"pet_wid\"],\\\n",
        "outputCol=\"features\")\n",
        "df_temp = vector_assembler.transform(ds)\n",
        "df_temp.show(5)"
      ],
      "metadata": {
        "colab": {
          "base_uri": "https://localhost:8080/"
        },
        "id": "X2Ll3iwp4Q_5",
        "outputId": "4f31c9d9-e911-49c1-d72f-9a455b6693da"
      },
      "execution_count": null,
      "outputs": [
        {
          "output_type": "stream",
          "name": "stdout",
          "text": [
            "+-------+-------+-------+-------+-----------+-----------------+\n",
            "|sep_len|sep_wid|pet_len|pet_wid|      label|         features|\n",
            "+-------+-------+-------+-------+-----------+-----------------+\n",
            "|    4.9|    3.0|    1.4|    0.2|Iris-setosa|[4.9,3.0,1.4,0.2]|\n",
            "|    4.7|    3.2|    1.3|    0.2|Iris-setosa|[4.7,3.2,1.3,0.2]|\n",
            "|    4.6|    3.1|    1.5|    0.2|Iris-setosa|[4.6,3.1,1.5,0.2]|\n",
            "|    5.0|    3.6|    1.4|    0.2|Iris-setosa|[5.0,3.6,1.4,0.2]|\n",
            "|    5.4|    3.9|    1.7|    0.4|Iris-setosa|[5.4,3.9,1.7,0.4]|\n",
            "+-------+-------+-------+-------+-----------+-----------------+\n",
            "only showing top 5 rows\n",
            "\n"
          ]
        }
      ]
    },
    {
      "cell_type": "code",
      "source": [
        "# drop unecessary columns\n",
        "df = df_temp.drop('sep_len', 'sep_wid', 'pet_len', 'pet_wid')\n",
        "df.show(5)"
      ],
      "metadata": {
        "colab": {
          "base_uri": "https://localhost:8080/"
        },
        "id": "DOxGE14X5d2r",
        "outputId": "9d3d0864-7311-49fc-b05c-178cb5c89470"
      },
      "execution_count": null,
      "outputs": [
        {
          "output_type": "stream",
          "name": "stdout",
          "text": [
            "+-----------+-----------------+\n",
            "|      label|         features|\n",
            "+-----------+-----------------+\n",
            "|Iris-setosa|[4.9,3.0,1.4,0.2]|\n",
            "|Iris-setosa|[4.7,3.2,1.3,0.2]|\n",
            "|Iris-setosa|[4.6,3.1,1.5,0.2]|\n",
            "|Iris-setosa|[5.0,3.6,1.4,0.2]|\n",
            "|Iris-setosa|[5.4,3.9,1.7,0.4]|\n",
            "+-----------+-----------------+\n",
            "only showing top 5 rows\n",
            "\n"
          ]
        }
      ]
    },
    {
      "cell_type": "code",
      "source": [
        "#index the labels\n",
        "from pyspark.ml.feature import StringIndexer\n",
        "l_indexer = StringIndexer(inputCol=\"label\", outputCol=\"labelIndex\")\n",
        "df = l_indexer.fit(df).transform(df)"
      ],
      "metadata": {
        "id": "_ZKZEvwh6cWK"
      },
      "execution_count": null,
      "outputs": []
    },
    {
      "cell_type": "code",
      "source": [
        "df.select('label','labelIndex').distinct().show(3)"
      ],
      "metadata": {
        "colab": {
          "base_uri": "https://localhost:8080/"
        },
        "id": "2mUMXOLFAvup",
        "outputId": "e89d48ab-3682-414c-91e8-f74ac54f6a2c"
      },
      "execution_count": null,
      "outputs": [
        {
          "output_type": "stream",
          "name": "stdout",
          "text": [
            "+---------------+----------+\n",
            "|          label|labelIndex|\n",
            "+---------------+----------+\n",
            "|Iris-versicolor|       0.0|\n",
            "| Iris-virginica|       1.0|\n",
            "|    Iris-setosa|       2.0|\n",
            "+---------------+----------+\n",
            "\n"
          ]
        }
      ]
    },
    {
      "cell_type": "code",
      "source": [
        "#splitting training and testing data 70-30\n",
        "(trainingData , testData) = df.randomSplit([0.7,0.3])"
      ],
      "metadata": {
        "id": "471nw3bWA6Z7"
      },
      "execution_count": null,
      "outputs": []
    },
    {
      "cell_type": "code",
      "source": [
        "from pyspark.ml.classification import DecisionTreeClassifier\n",
        "from pyspark.ml.evaluation import MulticlassClassificationEvaluator\n",
        "dt = DecisionTreeClassifier(labelCol=\"labelIndex\",featuresCol=\"features\",impurity=\"entropy\",maxDepth= 4,seed=1234)\n",
        "model = dt.fit(trainingData)\n",
        "predictions = model.transform(testData)"
      ],
      "metadata": {
        "id": "gfIpGnXIDSX1"
      },
      "execution_count": null,
      "outputs": []
    },
    {
      "cell_type": "code",
      "source": [
        "# checking accuracy\n",
        "evaluator = MulticlassClassificationEvaluator(labelCol=\"labelIndex\",predictionCol=\"prediction\",\\\n",
        "                                             metricName=\"accuracy\" ,)\n",
        "accuracy = evaluator.evaluate(predictions)\n",
        "print(\"Test accuracy = \" ,accuracy)\n",
        "print(model.toDebugString)\n",
        "\n"
      ],
      "metadata": {
        "colab": {
          "base_uri": "https://localhost:8080/"
        },
        "id": "4soDMlNwHZrI",
        "outputId": "ee44c02e-d0d6-4651-8f79-f545b89b3779"
      },
      "execution_count": null,
      "outputs": [
        {
          "output_type": "stream",
          "name": "stdout",
          "text": [
            "Test accuracy =  0.8947368421052632\n",
            "DecisionTreeClassificationModel: uid=DecisionTreeClassifier_a83b02e992b0, depth=4, numNodes=11, numClasses=3, numFeatures=4\n",
            "  If (feature 2 <= 2.5999999999999996)\n",
            "   Predict: 2.0\n",
            "  Else (feature 2 > 2.5999999999999996)\n",
            "   If (feature 2 <= 4.75)\n",
            "    If (feature 3 <= 1.55)\n",
            "     Predict: 0.0\n",
            "    Else (feature 3 > 1.55)\n",
            "     Predict: 1.0\n",
            "   Else (feature 2 > 4.75)\n",
            "    If (feature 3 <= 1.75)\n",
            "     If (feature 1 <= 2.6500000000000004)\n",
            "      Predict: 1.0\n",
            "     Else (feature 1 > 2.6500000000000004)\n",
            "      Predict: 0.0\n",
            "    Else (feature 3 > 1.75)\n",
            "     Predict: 1.0\n",
            "\n"
          ]
        }
      ]
    },
    {
      "cell_type": "code",
      "source": [
        "# multiple classification using logistic regression\n",
        "from pyspark.ml.classification import OneVsRest\n",
        "from pyspark.ml.classification import LogisticRegression\n",
        "(train,test) = df.randomSplit([0.7,0.3],seed=2018)\n",
        "lr = LogisticRegression(maxIter=100,\\\n",
        "                        featuresCol=\"features\",\\\n",
        "                        labelCol=\"labelIndex\",)\n",
        "ovr = OneVsRest(classifier= lr,\\\n",
        "                labelCol=\"labelIndex\",\\\n",
        "                featuresCol=\"features\")\n",
        "ovrModel = ovr.fit(train)\n",
        "predictionsovr = ovrModel.transform(test)"
      ],
      "metadata": {
        "id": "KkIG1wpmLHHF"
      },
      "execution_count": null,
      "outputs": []
    },
    {
      "cell_type": "code",
      "source": [
        "evaluator = MulticlassClassificationEvaluator(\\\n",
        "labelCol=\"labelIndex\", predictionCol=\"prediction\",\\\n",
        "metricName=\"accuracy\")\n",
        "accuracy = evaluator.evaluate(predictionsovr)\n",
        "print(\"Test accuracy =  \" , accuracy)"
      ],
      "metadata": {
        "colab": {
          "base_uri": "https://localhost:8080/"
        },
        "id": "xHsKpdlWN8f-",
        "outputId": "654b35de-8abe-4869-c40b-822d05dff74a"
      },
      "execution_count": null,
      "outputs": [
        {
          "output_type": "stream",
          "name": "stdout",
          "text": [
            "Test accuracy =   0.9361702127659575\n"
          ]
        }
      ]
    },
    {
      "cell_type": "code",
      "source": [
        "evaluator = MulticlassClassificationEvaluator(\\\n",
        "labelCol=\"labelIndex\", predictionCol=\"prediction\",\\\n",
        "metricName=\"weightedPrecision\")\n",
        "accuracy = evaluator.evaluate(predictionsovr)\n",
        "print(\"precision  =  \" , accuracy)"
      ],
      "metadata": {
        "colab": {
          "base_uri": "https://localhost:8080/"
        },
        "id": "Ui6Sik4gOJiV",
        "outputId": "5c3877ea-114b-4e9c-9288-4b74ff4327f5"
      },
      "execution_count": null,
      "outputs": [
        {
          "output_type": "stream",
          "name": "stdout",
          "text": [
            "precision  =   0.9448742746615086\n"
          ]
        }
      ]
    },
    {
      "cell_type": "code",
      "source": [
        "evaluator = MulticlassClassificationEvaluator(\\\n",
        "labelCol=\"labelIndex\", predictionCol=\"prediction\",\\\n",
        "metricName=\"weightedRecall\")\n",
        "accuracy = evaluator.evaluate(predictionsovr)\n",
        "print(\"Recall =  \" , accuracy)"
      ],
      "metadata": {
        "colab": {
          "base_uri": "https://localhost:8080/"
        },
        "id": "gTnjhTYiO5pK",
        "outputId": "01e77a5b-51cd-4b01-966a-647a05fdcfea"
      },
      "execution_count": null,
      "outputs": [
        {
          "output_type": "stream",
          "name": "stdout",
          "text": [
            "Recall =   0.9361702127659575\n"
          ]
        }
      ]
    }
  ]
}